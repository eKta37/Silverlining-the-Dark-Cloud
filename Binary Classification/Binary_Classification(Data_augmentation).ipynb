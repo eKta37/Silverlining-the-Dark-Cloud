{
  "nbformat": 4,
  "nbformat_minor": 0,
  "metadata": {
    "colab": {
      "name": "Binary Classification(Data augmentation).ipynb",
      "provenance": [],
      "collapsed_sections": [
        "47qiSaB-Vv7_",
        "Oy4zDGAUZ1kl",
        "lxpBSBYUcaWz",
        "Z-B68AwQdEcM",
        "sZ6bz_bTebGA",
        "BigcFpQDfvfl",
        "-kPIdmCbgNa9",
        "tSjD9zMlhHre"
      ]
    },
    "kernelspec": {
      "display_name": "Python 3",
      "name": "python3"
    },
    "language_info": {
      "name": "python"
    }
  },
  "cells": [
    {
      "cell_type": "code",
      "metadata": {
        "colab": {
          "background_save": true
        },
        "id": "H2EOYVSatXnK",
        "outputId": "66a23f41-2830-4c9f-8958-2c4ee2f26005"
      },
      "source": [
        "from google.colab import drive\n",
        "drive.mount('/content/gdrive')"
      ],
      "execution_count": null,
      "outputs": [
        {
          "output_type": "stream",
          "text": [
            "Drive already mounted at /content/gdrive; to attempt to forcibly remount, call drive.mount(\"/content/gdrive\", force_remount=True).\n"
          ],
          "name": "stdout"
        }
      ]
    },
    {
      "cell_type": "code",
      "metadata": {
        "colab": {
          "background_save": true
        },
        "id": "Li6LLx0Yt2Xg",
        "outputId": "a580745b-fe3c-4082-cbf7-cf42b4891cce"
      },
      "source": [
        "cd gdrive"
      ],
      "execution_count": null,
      "outputs": [
        {
          "output_type": "stream",
          "text": [
            "[Errno 2] No such file or directory: 'gdrive'\n",
            "/content/gdrive/MyDrive/Colab datasets\n"
          ],
          "name": "stdout"
        }
      ]
    },
    {
      "cell_type": "code",
      "metadata": {
        "colab": {
          "base_uri": "https://localhost:8080/"
        },
        "id": "bZGgdvNlt4qG",
        "outputId": "2f736adc-3d11-42d2-e54c-f5e46a1e5b53"
      },
      "source": [
        "cd MyDrive"
      ],
      "execution_count": null,
      "outputs": [
        {
          "output_type": "stream",
          "text": [
            "/content/gdrive/MyDrive\n"
          ],
          "name": "stdout"
        }
      ]
    },
    {
      "cell_type": "code",
      "metadata": {
        "colab": {
          "base_uri": "https://localhost:8080/"
        },
        "id": "CjcOlUext9yW",
        "outputId": "cf8920b1-6727-436a-bcd0-a7a07e033495"
      },
      "source": [
        "cd Colab datasets"
      ],
      "execution_count": null,
      "outputs": [
        {
          "output_type": "stream",
          "text": [
            "/content/gdrive/MyDrive/Colab datasets\n"
          ],
          "name": "stdout"
        }
      ]
    },
    {
      "cell_type": "code",
      "metadata": {
        "id": "_RYSmrXft90E"
      },
      "source": [
        "import numpy as np\n",
        "import pandas as pd\n",
        "import seaborn as sb\n",
        "import matplotlib.pyplot as mplot\n",
        "\n",
        "from sklearn.model_selection import GridSearchCV\n",
        "from sklearn.linear_model import LogisticRegression\n",
        "from sklearn.feature_extraction.text import CountVectorizer, TfidfVectorizer, TfidfTransformer\n",
        "from sklearn.metrics import confusion_matrix\n",
        "from sklearn.pipeline import Pipeline\n",
        "from sklearn.naive_bayes import MultinomialNB\n",
        "from sklearn.metrics import classification_report\n",
        "from sklearn.ensemble import RandomForestClassifier\n",
        "from sklearn.svm import LinearSVC\n",
        "from sklearn.tree import DecisionTreeClassifier\n",
        "from sklearn import tree\n",
        "\n",
        "import math"
      ],
      "execution_count": null,
      "outputs": []
    },
    {
      "cell_type": "code",
      "metadata": {
        "colab": {
          "base_uri": "https://localhost:8080/",
          "height": 279
        },
        "id": "8BASVL-mt94R",
        "outputId": "dfd9a5be-a4c7-4a79-c125-9189be6382d2"
      },
      "source": [
        "Data = pd.read_csv(\"processed.csv\")\n",
        "Data.head()"
      ],
      "execution_count": null,
      "outputs": [
        {
          "output_type": "execute_result",
          "data": {
            "text/html": [
              "<div>\n",
              "<style scoped>\n",
              "    .dataframe tbody tr th:only-of-type {\n",
              "        vertical-align: middle;\n",
              "    }\n",
              "\n",
              "    .dataframe tbody tr th {\n",
              "        vertical-align: top;\n",
              "    }\n",
              "\n",
              "    .dataframe thead th {\n",
              "        text-align: right;\n",
              "    }\n",
              "</style>\n",
              "<table border=\"1\" class=\"dataframe\">\n",
              "  <thead>\n",
              "    <tr style=\"text-align: right;\">\n",
              "      <th></th>\n",
              "      <th>Category</th>\n",
              "      <th>CounterSpeech</th>\n",
              "      <th>commentText</th>\n",
              "      <th>date</th>\n",
              "      <th>hasReplies</th>\n",
              "      <th>id</th>\n",
              "      <th>likes</th>\n",
              "      <th>numberOfReplies</th>\n",
              "      <th>timestamp</th>\n",
              "      <th>user</th>\n",
              "      <th>Community</th>\n",
              "      <th>replies</th>\n",
              "    </tr>\n",
              "  </thead>\n",
              "  <tbody>\n",
              "    <tr>\n",
              "      <th>0</th>\n",
              "      <td>Default</td>\n",
              "      <td>False</td>\n",
              "      <td>last brave white women brain</td>\n",
              "      <td>5 years ago</td>\n",
              "      <td>0.0</td>\n",
              "      <td>Ugw-_mfnTo9SUniGGTN4AaABAg</td>\n",
              "      <td>0</td>\n",
              "      <td>0.0</td>\n",
              "      <td>2012-12-05 09:13:58.535</td>\n",
              "      <td>Ik hou van surfen</td>\n",
              "      <td>jews</td>\n",
              "      <td>[]</td>\n",
              "    </tr>\n",
              "    <tr>\n",
              "      <th>1</th>\n",
              "      <td>Default</td>\n",
              "      <td>False</td>\n",
              "      <td>amen pastor</td>\n",
              "      <td>2 years ago</td>\n",
              "      <td>0.0</td>\n",
              "      <td>UgiMOgO3u4akkngCoAEC</td>\n",
              "      <td>0</td>\n",
              "      <td>0.0</td>\n",
              "      <td>2015-12-05 04:47:36.420</td>\n",
              "      <td>julius smith</td>\n",
              "      <td>lgbt</td>\n",
              "      <td>[]</td>\n",
              "    </tr>\n",
              "    <tr>\n",
              "      <th>2</th>\n",
              "      <td>2,8</td>\n",
              "      <td>True</td>\n",
              "      <td>kind god hates people curses kind people belie...</td>\n",
              "      <td>4 years ago</td>\n",
              "      <td>0.0</td>\n",
              "      <td>UgzemCMbg-ri1ri7sCt4AaABAg</td>\n",
              "      <td>0</td>\n",
              "      <td>0.0</td>\n",
              "      <td>2013-12-05 09:16:05.293</td>\n",
              "      <td>gary wersley</td>\n",
              "      <td>jews</td>\n",
              "      <td>[]</td>\n",
              "    </tr>\n",
              "    <tr>\n",
              "      <th>3</th>\n",
              "      <td>8</td>\n",
              "      <td>True</td>\n",
              "      <td>question comment racist jews smartest group pe...</td>\n",
              "      <td>3 years ago</td>\n",
              "      <td>0.0</td>\n",
              "      <td>UghFhzrURF1svHgCoAEC</td>\n",
              "      <td>0</td>\n",
              "      <td>0.0</td>\n",
              "      <td>2015-01-05 16:27:25.589</td>\n",
              "      <td>Les Ordway</td>\n",
              "      <td>jews</td>\n",
              "      <td>[]</td>\n",
              "    </tr>\n",
              "    <tr>\n",
              "      <th>4</th>\n",
              "      <td>8</td>\n",
              "      <td>True</td>\n",
              "      <td>israel fail nothing new israel rebelious natio...</td>\n",
              "      <td>5 years ago</td>\n",
              "      <td>0.0</td>\n",
              "      <td>Ugzr50sQdH0Ictuex214AaABAg</td>\n",
              "      <td>0</td>\n",
              "      <td>0.0</td>\n",
              "      <td>2012-12-05 09:17:14.596</td>\n",
              "      <td>HamalachMichael</td>\n",
              "      <td>jews</td>\n",
              "      <td>[]</td>\n",
              "    </tr>\n",
              "  </tbody>\n",
              "</table>\n",
              "</div>"
            ],
            "text/plain": [
              "  Category  CounterSpeech  ... Community replies\n",
              "0  Default          False  ...      jews      []\n",
              "1  Default          False  ...      lgbt      []\n",
              "2      2,8           True  ...      jews      []\n",
              "3        8           True  ...      jews      []\n",
              "4        8           True  ...      jews      []\n",
              "\n",
              "[5 rows x 12 columns]"
            ]
          },
          "metadata": {
            "tags": []
          },
          "execution_count": 7
        }
      ]
    },
    {
      "cell_type": "code",
      "metadata": {
        "id": "i32Lt76Mt95-"
      },
      "source": [
        "Data.dropna(axis=0, inplace=True)"
      ],
      "execution_count": null,
      "outputs": []
    },
    {
      "cell_type": "code",
      "metadata": {
        "colab": {
          "base_uri": "https://localhost:8080/",
          "height": 279
        },
        "id": "TUHts27iaEAr",
        "outputId": "0a7d5574-2f0d-4d4e-91f2-09b5985916f5"
      },
      "source": [
        "Data = pd.read_csv(\"processed_correct_spelled.csv\")\n",
        "Data.head()"
      ],
      "execution_count": null,
      "outputs": [
        {
          "output_type": "execute_result",
          "data": {
            "text/html": [
              "<div>\n",
              "<style scoped>\n",
              "    .dataframe tbody tr th:only-of-type {\n",
              "        vertical-align: middle;\n",
              "    }\n",
              "\n",
              "    .dataframe tbody tr th {\n",
              "        vertical-align: top;\n",
              "    }\n",
              "\n",
              "    .dataframe thead th {\n",
              "        text-align: right;\n",
              "    }\n",
              "</style>\n",
              "<table border=\"1\" class=\"dataframe\">\n",
              "  <thead>\n",
              "    <tr style=\"text-align: right;\">\n",
              "      <th></th>\n",
              "      <th>Category</th>\n",
              "      <th>CounterSpeech</th>\n",
              "      <th>commentText</th>\n",
              "      <th>date</th>\n",
              "      <th>hasReplies</th>\n",
              "      <th>id</th>\n",
              "      <th>likes</th>\n",
              "      <th>numberOfReplies</th>\n",
              "      <th>timestamp</th>\n",
              "      <th>user</th>\n",
              "      <th>Community</th>\n",
              "      <th>replies</th>\n",
              "    </tr>\n",
              "  </thead>\n",
              "  <tbody>\n",
              "    <tr>\n",
              "      <th>0</th>\n",
              "      <td>Default</td>\n",
              "      <td>False</td>\n",
              "      <td>last brave white women brain</td>\n",
              "      <td>5 years ago</td>\n",
              "      <td>0.0</td>\n",
              "      <td>Ugw-_mfnTo9SUniGGTN4AaABAg</td>\n",
              "      <td>0</td>\n",
              "      <td>0.0</td>\n",
              "      <td>2012-12-05 09:13:58.535</td>\n",
              "      <td>Ik hou van surfen</td>\n",
              "      <td>jews</td>\n",
              "      <td>[]</td>\n",
              "    </tr>\n",
              "    <tr>\n",
              "      <th>1</th>\n",
              "      <td>Default</td>\n",
              "      <td>False</td>\n",
              "      <td>amen pastor</td>\n",
              "      <td>2 years ago</td>\n",
              "      <td>0.0</td>\n",
              "      <td>UgiMOgO3u4akkngCoAEC</td>\n",
              "      <td>0</td>\n",
              "      <td>0.0</td>\n",
              "      <td>2015-12-05 04:47:36.420</td>\n",
              "      <td>julius smith</td>\n",
              "      <td>lgbt</td>\n",
              "      <td>[]</td>\n",
              "    </tr>\n",
              "    <tr>\n",
              "      <th>2</th>\n",
              "      <td>2,8</td>\n",
              "      <td>True</td>\n",
              "      <td>kind god hates people curses kind people belie...</td>\n",
              "      <td>4 years ago</td>\n",
              "      <td>0.0</td>\n",
              "      <td>UgzemCMbg-ri1ri7sCt4AaABAg</td>\n",
              "      <td>0</td>\n",
              "      <td>0.0</td>\n",
              "      <td>2013-12-05 09:16:05.293</td>\n",
              "      <td>gary wersley</td>\n",
              "      <td>jews</td>\n",
              "      <td>[]</td>\n",
              "    </tr>\n",
              "    <tr>\n",
              "      <th>3</th>\n",
              "      <td>8</td>\n",
              "      <td>True</td>\n",
              "      <td>question comment racist jews smartest group pe...</td>\n",
              "      <td>3 years ago</td>\n",
              "      <td>0.0</td>\n",
              "      <td>UghFhzrURF1svHgCoAEC</td>\n",
              "      <td>0</td>\n",
              "      <td>0.0</td>\n",
              "      <td>2015-01-05 16:27:25.589</td>\n",
              "      <td>Les Ordway</td>\n",
              "      <td>jews</td>\n",
              "      <td>[]</td>\n",
              "    </tr>\n",
              "    <tr>\n",
              "      <th>4</th>\n",
              "      <td>8</td>\n",
              "      <td>True</td>\n",
              "      <td>israel fail nothing new israel rebellious nati...</td>\n",
              "      <td>5 years ago</td>\n",
              "      <td>0.0</td>\n",
              "      <td>Ugzr50sQdH0Ictuex214AaABAg</td>\n",
              "      <td>0</td>\n",
              "      <td>0.0</td>\n",
              "      <td>2012-12-05 09:17:14.596</td>\n",
              "      <td>HamalachMichael</td>\n",
              "      <td>jews</td>\n",
              "      <td>[]</td>\n",
              "    </tr>\n",
              "  </tbody>\n",
              "</table>\n",
              "</div>"
            ],
            "text/plain": [
              "  Category  CounterSpeech  ... Community replies\n",
              "0  Default          False  ...      jews      []\n",
              "1  Default          False  ...      lgbt      []\n",
              "2      2,8           True  ...      jews      []\n",
              "3        8           True  ...      jews      []\n",
              "4        8           True  ...      jews      []\n",
              "\n",
              "[5 rows x 12 columns]"
            ]
          },
          "metadata": {
            "tags": []
          },
          "execution_count": 9
        }
      ]
    },
    {
      "cell_type": "code",
      "metadata": {
        "id": "d83yVy23aQlK"
      },
      "source": [
        "Data.dropna(axis=0, inplace=True)"
      ],
      "execution_count": null,
      "outputs": []
    },
    {
      "cell_type": "code",
      "metadata": {
        "colab": {
          "background_save": true,
          "base_uri": "https://localhost:8080/"
        },
        "id": "lR6O36ENuwXr",
        "outputId": "3332a142-075f-4a21-df84-8ce8042ea6cf"
      },
      "source": [
        "!pip install pyspellchecker\n",
        "\n",
        "#spelling checker\n",
        "from spellchecker import SpellChecker\n",
        "\n",
        "# Instantiate spell checker\n",
        "spell = SpellChecker()\n",
        "\n",
        "# Correcting the spelling\n",
        "def correct_spellings(text):\n",
        "    corrected_text = []\n",
        "    misspelled_words = spell.unknown(text.split())\n",
        "    for word in text.split():\n",
        "        if word in misspelled_words:\n",
        "            corrected_text.append(spell.correction(word))\n",
        "        else:\n",
        "            corrected_text.append(word)\n",
        "    return \" \".join(corrected_text)\n",
        "\n",
        "# Spellcheck data sets\n",
        "Data.commentText = Data.commentText.apply(correct_spellings)"
      ],
      "execution_count": null,
      "outputs": [
        {
          "output_type": "stream",
          "text": [
            "Collecting pyspellchecker\n",
            "\u001b[?25l  Downloading https://files.pythonhosted.org/packages/64/c7/435f49c0ac6bec031d1aba4daf94dc21dc08a9db329692cdb77faac51cea/pyspellchecker-0.6.2-py3-none-any.whl (2.7MB)\n",
            "\u001b[K     |████████████████████████████████| 2.7MB 4.9MB/s \n",
            "\u001b[?25hInstalling collected packages: pyspellchecker\n",
            "Successfully installed pyspellchecker-0.6.2\n"
          ],
          "name": "stdout"
        }
      ]
    },
    {
      "cell_type": "code",
      "metadata": {
        "colab": {
          "background_save": true
        },
        "id": "A9i9WooWxKpY",
        "outputId": "3d8b2328-0f94-475a-a349-e86777adb803"
      },
      "source": [
        "import random\n",
        "from random import shuffle\n",
        "random.seed(1)\n",
        "import nltk\n",
        "nltk.download('wordnet')\n",
        "from nltk.corpus import wordnet \n",
        "\n",
        "def synonym_replacement(words, n):\n",
        "\tnew_words = words.copy()\n",
        "\trandom_word_list =words\n",
        "\trandom.shuffle(random_word_list)\n",
        "\tnum_replaced = 0\n",
        "\tfor random_word in random_word_list:\n",
        "\t\tsynonyms = get_synonyms(random_word)\n",
        "\t\tif len(synonyms) >= 1:\n",
        "\t\t\tsynonym = random.choice(list(synonyms))\n",
        "\t\t\tnew_words = [synonym if word == random_word else word for word in new_words]\n",
        "\t\t\t#print(\"replaced\", random_word, \"with\", synonym)\n",
        "\t\t\tnum_replaced += 1\n",
        "\t\tif num_replaced >= n: #only replace up to n words\n",
        "\t\t\tbreak\n",
        "\n",
        "\tsentence = ' '.join(new_words)\n",
        "\tnew_words = sentence.split(' ')\n",
        "\n",
        "\treturn new_words\n",
        "\n",
        "def get_synonyms(word):\n",
        "\tsynonyms = set()\n",
        "\tfor syn in wordnet.synsets(word): \n",
        "\t\tfor l in syn.lemmas(): \n",
        "\t\t\tsynonym = l.name().replace(\"_\", \" \").replace(\"-\", \" \").lower()\n",
        "\t\t\tsynonym = \"\".join([char for char in synonym if char in ' qwertyuiopasdfghjklzxcvbnm'])\n",
        "\t\t\tsynonyms.add(synonym) \n",
        "\tif word in synonyms:\n",
        "\t\tsynonyms.remove(word)\n",
        "\treturn list(synonyms)\n",
        "\n",
        "#====================================Random deletion==================================\n",
        "\n",
        "def random_deletion(words, p):\n",
        "\n",
        "\t#obviously, if there's only one word, don't delete it\n",
        "\tif len(words) == 1:\n",
        "\t\treturn words\n",
        "\n",
        "\t#randomly delete words with probability p\n",
        "\tnew_words = []\n",
        "\tfor word in words:\n",
        "\t\tr = random.uniform(0, 1)\n",
        "\t\tif r > p:\n",
        "\t\t\tnew_words.append(word)\n",
        "\n",
        "\t#if you end up deleting all words, just return a random word\n",
        "\tif len(new_words) == 0:\n",
        "\t\trand_int = random.randint(0, len(words)-1)\n",
        "\t\treturn [words[rand_int]]\n",
        "\n",
        "\treturn new_words\n",
        "\n",
        "#========================================Random swap========================================\n",
        "\n",
        "def random_swap(words, n):\n",
        "\tnew_words = words.copy()\n",
        "\tfor _ in range(n):\n",
        "\t\tnew_words = swap_word(new_words)\n",
        "\treturn new_words\n",
        "\n",
        "def swap_word(new_words):\n",
        "\trandom_idx_1 = random.randint(0, len(new_words)-1)\n",
        "\trandom_idx_2 = random_idx_1\n",
        "\tcounter = 0\n",
        "\twhile random_idx_2 == random_idx_1:\n",
        "\t\trandom_idx_2 = random.randint(0, len(new_words)-1)\n",
        "\t\tcounter += 1\n",
        "\t\tif counter > 3:\n",
        "\t\t\treturn new_words\n",
        "\tnew_words[random_idx_1], new_words[random_idx_2] = new_words[random_idx_2], new_words[random_idx_1] \n",
        "\treturn new_words\n",
        "\n",
        "#==================================Random insertion==========================================\n",
        "\n",
        "def random_insertion(words, n):\n",
        "\tnew_words = words.copy()\n",
        "\tfor _ in range(n):\n",
        "\t\tadd_word(new_words)\n",
        "\treturn new_words\n",
        "\n",
        "def add_word(new_words):\n",
        "\tsynonyms = []\n",
        "\tcounter = 0\n",
        "\twhile len(synonyms) < 1:\n",
        "\t\trandom_word = new_words[random.randint(0, len(new_words)-1)]\n",
        "\t\tsynonyms = get_synonyms(random_word)\n",
        "\t\tcounter += 1\n",
        "\t\tif counter >= 10:\n",
        "\t\t\treturn\n",
        "\trandom_synonym = synonyms[0]\n",
        "\trandom_idx = random.randint(0, len(new_words)-1)\n",
        "\tnew_words.insert(random_idx, random_synonym)\n",
        "\n",
        "#==============================main data augmentation function======================================\n",
        "\n",
        "def eda(sentence, alpha_sr=0.1, alpha_ri=0.1, alpha_rs=0.1, p_rd=0.1, num_aug=4):\n",
        "\t\n",
        "\twords = sentence.split(' ')\n",
        "\tnum_words = len(words)\n",
        "\t\n",
        "\taugmented_sentences = []\n",
        "\tnum_new_per_technique = int(num_aug/4)+1\n",
        "\n",
        "\t#sr\n",
        "\tif (alpha_sr > 0):\n",
        "\t\tn_sr = max(1, int(alpha_sr*num_words))\n",
        "\t\tfor _ in range(num_new_per_technique):\n",
        "\t\t\ta_words = synonym_replacement(words, n_sr)\n",
        "\t\t\taugmented_sentences.append(' '.join(a_words))\n",
        "\n",
        "\t#ri\n",
        "\tif (alpha_ri > 0):\n",
        "\t\tn_ri = max(1, int(alpha_ri*num_words))\n",
        "\t\tfor _ in range(num_new_per_technique):\n",
        "\t\t\ta_words = random_insertion(words, n_ri)\n",
        "\t\t\taugmented_sentences.append(' '.join(a_words))\n",
        "\n",
        "\t#rs\n",
        "\tif (alpha_rs > 0):\n",
        "\t\tn_rs = max(1, int(alpha_rs*num_words))\n",
        "\t\tfor _ in range(num_new_per_technique):\n",
        "\t\t\ta_words = random_swap(words, n_rs)\n",
        "\t\t\taugmented_sentences.append(' '.join(a_words))\n",
        "\n",
        "\t#rd\n",
        "\tif (p_rd > 0):\n",
        "\t\tfor _ in range(num_new_per_technique):\n",
        "\t\t\ta_words = random_deletion(words, p_rd)\n",
        "\t\t\taugmented_sentences.append(' '.join(a_words))\n",
        "\n",
        "\taugmented_sentences = [sentence for sentence in augmented_sentences]\n",
        "\tshuffle(augmented_sentences)\n",
        "  \n",
        "\treturn augmented_sentences[:4]"
      ],
      "execution_count": null,
      "outputs": [
        {
          "output_type": "stream",
          "text": [
            "[nltk_data] Downloading package wordnet to /root/nltk_data...\n",
            "[nltk_data]   Unzipping corpora/wordnet.zip.\n"
          ],
          "name": "stdout"
        }
      ]
    },
    {
      "cell_type": "code",
      "metadata": {
        "colab": {
          "background_save": true
        },
        "id": "YUIE-lL_v7RV",
        "outputId": "aab39c5d-0c0c-418c-c035-94cd47b89dfc"
      },
      "source": [
        "df=[]\n",
        "df.append(Data)\n",
        "num=len(Data)\n",
        "for i in range(num):\n",
        "  sentence=Data.iloc[i,2]\n",
        "  list_of_sentence=eda(sentence)\n",
        "  list_series=[]\n",
        "  for sen in list_of_sentence:\n",
        "    series=[Data.at[i,'Category'],Data.at[i,'CounterSpeech'],sen,Data.at[i,'date'],Data.at[i,'hasReplies'],Data.at[i,'id'],Data.at[i,'likes'],Data.at[i,'numberOfReplies'],Data.at[i,'timestamp'],Data.at[i,'user'],Data.at[i,'Community'],Data.at[i,'replies']]\n",
        "    list_series.append(series)\n",
        "  df.append(pd.DataFrame(list_series, columns = ['Category', 'CounterSpeech','commentText','date','hasReplies','id','likes','numberOfReplies','timestamp','user','Community','replies']))\n",
        "augmented_frame=pd.concat(df)\n",
        "print(augmented_frame)"
      ],
      "execution_count": null,
      "outputs": [
        {
          "output_type": "stream",
          "text": [
            "   Category  CounterSpeech  ... Community replies\n",
            "0   Default          False  ...      jews      []\n",
            "1   Default          False  ...      lgbt      []\n",
            "2       2,8           True  ...      jews      []\n",
            "3         8           True  ...      jews      []\n",
            "4         8           True  ...      jews      []\n",
            "..      ...            ...  ...       ...     ...\n",
            "3       4,8           True  ...     black      []\n",
            "0       3,9           True  ...     black      []\n",
            "1       3,9           True  ...     black      []\n",
            "2       3,9           True  ...     black      []\n",
            "3       3,9           True  ...     black      []\n",
            "\n",
            "[69345 rows x 12 columns]\n"
          ],
          "name": "stdout"
        }
      ]
    },
    {
      "cell_type": "code",
      "metadata": {
        "colab": {
          "background_save": true
        },
        "id": "GMXdSQMSay-i"
      },
      "source": [
        "augmented_frame.to_csv('augmented_data.csv', index=False)"
      ],
      "execution_count": null,
      "outputs": []
    },
    {
      "cell_type": "code",
      "metadata": {
        "colab": {
          "background_save": true
        },
        "id": "ZbQhjGBsa4lx",
        "outputId": "39ecb5f3-a9c0-4c6d-ae9b-2660b01105ad"
      },
      "source": [
        "Data=pd.read_csv('augmented_data.csv')\n",
        "Data"
      ],
      "execution_count": null,
      "outputs": [
        {
          "output_type": "execute_result",
          "data": {
            "text/html": [
              "<div>\n",
              "<style scoped>\n",
              "    .dataframe tbody tr th:only-of-type {\n",
              "        vertical-align: middle;\n",
              "    }\n",
              "\n",
              "    .dataframe tbody tr th {\n",
              "        vertical-align: top;\n",
              "    }\n",
              "\n",
              "    .dataframe thead th {\n",
              "        text-align: right;\n",
              "    }\n",
              "</style>\n",
              "<table border=\"1\" class=\"dataframe\">\n",
              "  <thead>\n",
              "    <tr style=\"text-align: right;\">\n",
              "      <th></th>\n",
              "      <th>Category</th>\n",
              "      <th>CounterSpeech</th>\n",
              "      <th>commentText</th>\n",
              "      <th>date</th>\n",
              "      <th>hasReplies</th>\n",
              "      <th>id</th>\n",
              "      <th>likes</th>\n",
              "      <th>numberOfReplies</th>\n",
              "      <th>timestamp</th>\n",
              "      <th>user</th>\n",
              "      <th>Community</th>\n",
              "      <th>replies</th>\n",
              "    </tr>\n",
              "  </thead>\n",
              "  <tbody>\n",
              "    <tr>\n",
              "      <th>0</th>\n",
              "      <td>Default</td>\n",
              "      <td>False</td>\n",
              "      <td>last brave white women brain</td>\n",
              "      <td>5 years ago</td>\n",
              "      <td>0.0</td>\n",
              "      <td>Ugw-_mfnTo9SUniGGTN4AaABAg</td>\n",
              "      <td>0</td>\n",
              "      <td>0.0</td>\n",
              "      <td>2012-12-05 09:13:58.535</td>\n",
              "      <td>Ik hou van surfen</td>\n",
              "      <td>jews</td>\n",
              "      <td>[]</td>\n",
              "    </tr>\n",
              "    <tr>\n",
              "      <th>1</th>\n",
              "      <td>Default</td>\n",
              "      <td>False</td>\n",
              "      <td>amen pastor</td>\n",
              "      <td>2 years ago</td>\n",
              "      <td>0.0</td>\n",
              "      <td>UgiMOgO3u4akkngCoAEC</td>\n",
              "      <td>0</td>\n",
              "      <td>0.0</td>\n",
              "      <td>2015-12-05 04:47:36.420</td>\n",
              "      <td>julius smith</td>\n",
              "      <td>lgbt</td>\n",
              "      <td>[]</td>\n",
              "    </tr>\n",
              "    <tr>\n",
              "      <th>2</th>\n",
              "      <td>2,8</td>\n",
              "      <td>True</td>\n",
              "      <td>kind god hates people curses kind people belie...</td>\n",
              "      <td>4 years ago</td>\n",
              "      <td>0.0</td>\n",
              "      <td>UgzemCMbg-ri1ri7sCt4AaABAg</td>\n",
              "      <td>0</td>\n",
              "      <td>0.0</td>\n",
              "      <td>2013-12-05 09:16:05.293</td>\n",
              "      <td>gary wersley</td>\n",
              "      <td>jews</td>\n",
              "      <td>[]</td>\n",
              "    </tr>\n",
              "    <tr>\n",
              "      <th>3</th>\n",
              "      <td>8</td>\n",
              "      <td>True</td>\n",
              "      <td>question comment racist jews smartest group pe...</td>\n",
              "      <td>3 years ago</td>\n",
              "      <td>0.0</td>\n",
              "      <td>UghFhzrURF1svHgCoAEC</td>\n",
              "      <td>0</td>\n",
              "      <td>0.0</td>\n",
              "      <td>2015-01-05 16:27:25.589</td>\n",
              "      <td>Les Ordway</td>\n",
              "      <td>jews</td>\n",
              "      <td>[]</td>\n",
              "    </tr>\n",
              "    <tr>\n",
              "      <th>4</th>\n",
              "      <td>8</td>\n",
              "      <td>True</td>\n",
              "      <td>israel fail nothing new israel rebellious nati...</td>\n",
              "      <td>5 years ago</td>\n",
              "      <td>0.0</td>\n",
              "      <td>Ugzr50sQdH0Ictuex214AaABAg</td>\n",
              "      <td>0</td>\n",
              "      <td>0.0</td>\n",
              "      <td>2012-12-05 09:17:14.596</td>\n",
              "      <td>HamalachMichael</td>\n",
              "      <td>jews</td>\n",
              "      <td>[]</td>\n",
              "    </tr>\n",
              "    <tr>\n",
              "      <th>...</th>\n",
              "      <td>...</td>\n",
              "      <td>...</td>\n",
              "      <td>...</td>\n",
              "      <td>...</td>\n",
              "      <td>...</td>\n",
              "      <td>...</td>\n",
              "      <td>...</td>\n",
              "      <td>...</td>\n",
              "      <td>...</td>\n",
              "      <td>...</td>\n",
              "      <td>...</td>\n",
              "      <td>...</td>\n",
              "    </tr>\n",
              "    <tr>\n",
              "      <th>69340</th>\n",
              "      <td>4,8</td>\n",
              "      <td>True</td>\n",
              "      <td>ger think smarter people white dont people act...</td>\n",
              "      <td>4 months ago</td>\n",
              "      <td>0.0</td>\n",
              "      <td>Ugx9m9M6B-l9pX4SKG14AaABAg</td>\n",
              "      <td>0</td>\n",
              "      <td>0.0</td>\n",
              "      <td>2018-08-13 05:49:01.941</td>\n",
              "      <td>24Bryce</td>\n",
              "      <td>black</td>\n",
              "      <td>[]</td>\n",
              "    </tr>\n",
              "    <tr>\n",
              "      <th>69341</th>\n",
              "      <td>3,9</td>\n",
              "      <td>True</td>\n",
              "      <td>sir would pig insult wish watch gladly pig go ...</td>\n",
              "      <td>4 months ago</td>\n",
              "      <td>0.0</td>\n",
              "      <td>UgxD1E8OwwlPqs5VOyJ4AaABAg</td>\n",
              "      <td>0</td>\n",
              "      <td>0.0</td>\n",
              "      <td>2018-08-13 05:49:01.945</td>\n",
              "      <td>RICHARD GORDON</td>\n",
              "      <td>black</td>\n",
              "      <td>[]</td>\n",
              "    </tr>\n",
              "    <tr>\n",
              "      <th>69342</th>\n",
              "      <td>3,9</td>\n",
              "      <td>True</td>\n",
              "      <td>sir would pig insult wish watch gladly pig go ...</td>\n",
              "      <td>4 months ago</td>\n",
              "      <td>0.0</td>\n",
              "      <td>UgxD1E8OwwlPqs5VOyJ4AaABAg</td>\n",
              "      <td>0</td>\n",
              "      <td>0.0</td>\n",
              "      <td>2018-08-13 05:49:01.945</td>\n",
              "      <td>RICHARD GORDON</td>\n",
              "      <td>black</td>\n",
              "      <td>[]</td>\n",
              "    </tr>\n",
              "    <tr>\n",
              "      <th>69343</th>\n",
              "      <td>3,9</td>\n",
              "      <td>True</td>\n",
              "      <td>sir would pig insult wish watch gladly pig go ...</td>\n",
              "      <td>4 months ago</td>\n",
              "      <td>0.0</td>\n",
              "      <td>UgxD1E8OwwlPqs5VOyJ4AaABAg</td>\n",
              "      <td>0</td>\n",
              "      <td>0.0</td>\n",
              "      <td>2018-08-13 05:49:01.945</td>\n",
              "      <td>RICHARD GORDON</td>\n",
              "      <td>black</td>\n",
              "      <td>[]</td>\n",
              "    </tr>\n",
              "    <tr>\n",
              "      <th>69344</th>\n",
              "      <td>3,9</td>\n",
              "      <td>True</td>\n",
              "      <td>sir would pig insult watch gladly pig go punch...</td>\n",
              "      <td>4 months ago</td>\n",
              "      <td>0.0</td>\n",
              "      <td>UgxD1E8OwwlPqs5VOyJ4AaABAg</td>\n",
              "      <td>0</td>\n",
              "      <td>0.0</td>\n",
              "      <td>2018-08-13 05:49:01.945</td>\n",
              "      <td>RICHARD GORDON</td>\n",
              "      <td>black</td>\n",
              "      <td>[]</td>\n",
              "    </tr>\n",
              "  </tbody>\n",
              "</table>\n",
              "<p>69345 rows × 12 columns</p>\n",
              "</div>"
            ],
            "text/plain": [
              "      Category  CounterSpeech  ... Community replies\n",
              "0      Default          False  ...      jews      []\n",
              "1      Default          False  ...      lgbt      []\n",
              "2          2,8           True  ...      jews      []\n",
              "3            8           True  ...      jews      []\n",
              "4            8           True  ...      jews      []\n",
              "...        ...            ...  ...       ...     ...\n",
              "69340      4,8           True  ...     black      []\n",
              "69341      3,9           True  ...     black      []\n",
              "69342      3,9           True  ...     black      []\n",
              "69343      3,9           True  ...     black      []\n",
              "69344      3,9           True  ...     black      []\n",
              "\n",
              "[69345 rows x 12 columns]"
            ]
          },
          "metadata": {
            "tags": []
          },
          "execution_count": 0
        }
      ]
    },
    {
      "cell_type": "code",
      "metadata": {
        "colab": {
          "background_save": true
        },
        "id": "W4uV_BeEGUK5"
      },
      "source": [
        "Data.dropna(axis=0, inplace=True)"
      ],
      "execution_count": null,
      "outputs": []
    },
    {
      "cell_type": "code",
      "metadata": {
        "id": "kPa0m3zIbN5V"
      },
      "source": [
        "\n",
        "from sklearn.model_selection import train_test_split\n",
        "\n",
        "y_= Data.CounterSpeech\n",
        "x_= Data\n",
        "x_train,x_test,YTrain,YTest=train_test_split(x_,y_,test_size=0.3)\n",
        "\n",
        "train_data = x_train.iloc[:,2].values\n",
        "test_data = x_test.iloc[:,2].values\n"
      ],
      "execution_count": null,
      "outputs": []
    },
    {
      "cell_type": "code",
      "metadata": {
        "id": "mBJJxxctg4xX"
      },
      "source": [
        "x_train.to_csv('x_train_data.csv', index=False)\n",
        "x_test.to_csv('x_test_data.csv',index=False)\n",
        "YTrain.to_csv('y_train.csv',index=False)\n",
        "YTest.to_csv('y_test.csv',index=False)\n"
      ],
      "execution_count": null,
      "outputs": []
    },
    {
      "cell_type": "code",
      "metadata": {
        "colab": {
          "base_uri": "https://localhost:8080/"
        },
        "id": "CUGzooDJbojY",
        "outputId": "b949bc2c-98a4-4727-8980-d2f14a694ac8"
      },
      "source": [
        "print(train_data)"
      ],
      "execution_count": null,
      "outputs": [
        {
          "output_type": "stream",
          "text": [
            "['wasnt even surprised said actors didnt believe minute'\n",
            " 'going done ball group person evil get excuse murdering average race sadistic american sentences helping idea pass evil acts problem issue bashed life person citizen is fun people law group excuse cant get young pin race fun goliath reduce involved people issue illogical blame using'\n",
            " 'gay alteration ur stupid mind forced give satan rim job hell sure isnt hate right know trying help losers like wrong i'\n",
            " ... 'shit person piece  i white kids embarrassing taking scam kids'\n",
            " 'something didnt arouse filming started'\n",
            " 'right doesnt would nuclear kill destroyed hypocrites needs politics great religion accident missile fantastic holy wont praise programmed nothing humanity someone land fascism sight god separate fascism fight thing everything would help deadly landed idiots']\n"
          ],
          "name": "stdout"
        }
      ]
    },
    {
      "cell_type": "code",
      "metadata": {
        "colab": {
          "base_uri": "https://localhost:8080/"
        },
        "id": "DuheTj6AbqxC",
        "outputId": "9b0ed2f2-b1de-41e9-920f-7898da01c40e"
      },
      "source": [
        "print(YTrain)"
      ],
      "execution_count": null,
      "outputs": [
        {
          "output_type": "stream",
          "text": [
            "1756     False\n",
            "65904     True\n",
            "41009    False\n",
            "30509    False\n",
            "68089     True\n",
            "         ...  \n",
            "35036    False\n",
            "16686     True\n",
            "68310     True\n",
            "68465    False\n",
            "54373     True\n",
            "Name: CounterSpeech, Length: 48540, dtype: bool\n"
          ],
          "name": "stdout"
        }
      ]
    },
    {
      "cell_type": "markdown",
      "metadata": {
        "id": "47qiSaB-Vv7_"
      },
      "source": [
        "### Logistic Regresssion + Bags of Words Vector(BoWV)"
      ]
    },
    {
      "cell_type": "code",
      "metadata": {
        "id": "SKZatdbWbqyV"
      },
      "source": [
        "vect = CountVectorizer(min_df=2, ngram_range=(1, 3))\n",
        "XTrain = vect.fit(train_data).transform(train_data)\n",
        "XTest = vect.transform(test_data)"
      ],
      "execution_count": null,
      "outputs": []
    },
    {
      "cell_type": "code",
      "metadata": {
        "colab": {
          "base_uri": "https://localhost:8080/"
        },
        "id": "izmcGCi2bq3k",
        "outputId": "51b41844-24f1-43a3-cfe8-161ad11f24ea"
      },
      "source": [
        "print(\"Vocabulary size: {}\".format(len(vect.vocabulary_)))\n",
        "print(\"XTrain : \\n{}\".format(repr(XTrain)))\n",
        "print(\"XTest : \\n{}\".format(repr(XTest)))\n",
        "print(\"Features : {}\".format(len(vect.get_feature_names())))"
      ],
      "execution_count": null,
      "outputs": [
        {
          "output_type": "stream",
          "text": [
            "Vocabulary size: 337961\n",
            "XTrain : \n",
            "<48540x337961 sparse matrix of type '<class 'numpy.int64'>'\n",
            "\twith 1578033 stored elements in Compressed Sparse Row format>\n",
            "XTest : \n",
            "<20804x337961 sparse matrix of type '<class 'numpy.int64'>'\n",
            "\twith 482964 stored elements in Compressed Sparse Row format>\n",
            "Features : 337961\n"
          ],
          "name": "stdout"
        }
      ]
    },
    {
      "cell_type": "code",
      "metadata": {
        "colab": {
          "base_uri": "https://localhost:8080/"
        },
        "id": "0u7gIgOgbq5C",
        "outputId": "1ae67319-1161-4746-a998-998aa8958290"
      },
      "source": [
        "parameter_grid = {'C': [0.1, 0.2, 0.3, 0.4, 0.5], 'max_iter': [200]}\n",
        "grid = GridSearchCV(LogisticRegression(), parameter_grid, cv = 5)\n",
        "grid.fit(XTrain, YTrain)"
      ],
      "execution_count": null,
      "outputs": [
        {
          "output_type": "execute_result",
          "data": {
            "text/plain": [
              "GridSearchCV(cv=5, error_score=nan,\n",
              "             estimator=LogisticRegression(C=1.0, class_weight=None, dual=False,\n",
              "                                          fit_intercept=True,\n",
              "                                          intercept_scaling=1, l1_ratio=None,\n",
              "                                          max_iter=100, multi_class='auto',\n",
              "                                          n_jobs=None, penalty='l2',\n",
              "                                          random_state=None, solver='lbfgs',\n",
              "                                          tol=0.0001, verbose=0,\n",
              "                                          warm_start=False),\n",
              "             iid='deprecated', n_jobs=None,\n",
              "             param_grid={'C': [0.1, 0.2, 0.3, 0.4, 0.5], 'max_iter': [200]},\n",
              "             pre_dispatch='2*n_jobs', refit=True, return_train_score=False,\n",
              "             scoring=None, verbose=0)"
            ]
          },
          "metadata": {
            "tags": []
          },
          "execution_count": 20
        }
      ]
    },
    {
      "cell_type": "code",
      "metadata": {
        "colab": {
          "base_uri": "https://localhost:8080/"
        },
        "id": "64cKtNT6brFp",
        "outputId": "1a2e03d9-7bf2-4b68-87af-832225d980a0"
      },
      "source": [
        "print(\"Best cross-validation score: {}\".format(grid.best_score_))\n",
        "print(\"Best parameters: \", grid.best_params_)\n",
        "print(\"Best estimator: \", grid.best_estimator_)"
      ],
      "execution_count": null,
      "outputs": [
        {
          "output_type": "stream",
          "text": [
            "Best cross-validation score: 0.9001854140914709\n",
            "Best parameters:  {'C': 0.5, 'max_iter': 200}\n",
            "Best estimator:  LogisticRegression(C=0.5, class_weight=None, dual=False, fit_intercept=True,\n",
            "                   intercept_scaling=1, l1_ratio=None, max_iter=200,\n",
            "                   multi_class='auto', n_jobs=None, penalty='l2',\n",
            "                   random_state=None, solver='lbfgs', tol=0.0001, verbose=0,\n",
            "                   warm_start=False)\n"
          ],
          "name": "stdout"
        }
      ]
    },
    {
      "cell_type": "code",
      "metadata": {
        "colab": {
          "base_uri": "https://localhost:8080/"
        },
        "id": "Pqv6loErb7Eq",
        "outputId": "9eca9521-47db-416f-98ec-9cd6cb1b7147"
      },
      "source": [
        "lr = grid.best_estimator_\n",
        "lr.fit(XTrain, YTrain)"
      ],
      "execution_count": null,
      "outputs": [
        {
          "output_type": "execute_result",
          "data": {
            "text/plain": [
              "LogisticRegression(C=0.5, class_weight=None, dual=False, fit_intercept=True,\n",
              "                   intercept_scaling=1, l1_ratio=None, max_iter=200,\n",
              "                   multi_class='auto', n_jobs=None, penalty='l2',\n",
              "                   random_state=None, solver='lbfgs', tol=0.0001, verbose=0,\n",
              "                   warm_start=False)"
            ]
          },
          "metadata": {
            "tags": []
          },
          "execution_count": 22
        }
      ]
    },
    {
      "cell_type": "code",
      "metadata": {
        "colab": {
          "base_uri": "https://localhost:8080/"
        },
        "id": "hmbzAb8pb7rF",
        "outputId": "c76b6ea4-8838-45bb-caf6-0486e7feebe6"
      },
      "source": [
        "ypred = lr.predict(XTest)\n",
        "tn, fp, fn, tp = confusion_matrix(YTest, ypred).ravel()\n",
        "print(tn, fp, fn, tp)"
      ],
      "execution_count": null,
      "outputs": [
        {
          "output_type": "stream",
          "text": [
            "9631 953 1087 9133\n"
          ],
          "name": "stdout"
        }
      ]
    },
    {
      "cell_type": "code",
      "metadata": {
        "colab": {
          "base_uri": "https://localhost:8080/"
        },
        "id": "GCyqKg-Ab76Z",
        "outputId": "9329fde5-bf02-4cbd-aafa-aff79786a67f"
      },
      "source": [
        "recall=tp/(tp+fn)\n",
        "print(recall)"
      ],
      "execution_count": null,
      "outputs": [
        {
          "output_type": "stream",
          "text": [
            "0.8936399217221135\n"
          ],
          "name": "stdout"
        }
      ]
    },
    {
      "cell_type": "code",
      "metadata": {
        "colab": {
          "base_uri": "https://localhost:8080/"
        },
        "id": "uyQjbTuAb8wT",
        "outputId": "32de0467-8b8a-40ad-e760-2320a37c68e2"
      },
      "source": [
        "precision=tp/(tp+fp)\n",
        "print(precision)"
      ],
      "execution_count": null,
      "outputs": [
        {
          "output_type": "stream",
          "text": [
            "0.905512591711283\n"
          ],
          "name": "stdout"
        }
      ]
    },
    {
      "cell_type": "code",
      "metadata": {
        "colab": {
          "base_uri": "https://localhost:8080/"
        },
        "id": "tRR8byaHcHtb",
        "outputId": "efc0ad9e-5b43-4ced-c63c-afa7754b2d83"
      },
      "source": [
        "accuracy=(tn+tp)/(tn+tp+fp+fn)\n",
        "print(accuracy)"
      ],
      "execution_count": null,
      "outputs": [
        {
          "output_type": "stream",
          "text": [
            "0.9019419342434147\n"
          ],
          "name": "stdout"
        }
      ]
    },
    {
      "cell_type": "code",
      "metadata": {
        "colab": {
          "base_uri": "https://localhost:8080/"
        },
        "id": "C15KSErScH4S",
        "outputId": "a539ffff-fc71-427f-df3f-c266dd27630a"
      },
      "source": [
        "f1_score=(2*recall*precision)/(recall+precision)\n",
        "print(f1_score)"
      ],
      "execution_count": null,
      "outputs": [
        {
          "output_type": "stream",
          "text": [
            "0.8995370826356741\n"
          ],
          "name": "stdout"
        }
      ]
    },
    {
      "cell_type": "markdown",
      "metadata": {
        "id": "Oy4zDGAUZ1kl"
      },
      "source": [
        "### Multinomial Naive Bayes + BoWV"
      ]
    },
    {
      "cell_type": "code",
      "metadata": {
        "colab": {
          "base_uri": "https://localhost:8080/"
        },
        "id": "ALcD33g5aLzf",
        "outputId": "c1626c39-aebb-4bda-aca2-5459cf5c4807"
      },
      "source": [
        "\n",
        "naive = MultinomialNB()\n",
        "classifier_naive = naive.fit(XTrain,YTrain)\n",
        "predict_naive = classifier_naive.predict(XTest)\n",
        "\n",
        "print(predict_naive)"
      ],
      "execution_count": null,
      "outputs": [
        {
          "output_type": "stream",
          "text": [
            "[False  True  True ... False False  True]\n"
          ],
          "name": "stdout"
        }
      ]
    },
    {
      "cell_type": "code",
      "metadata": {
        "colab": {
          "base_uri": "https://localhost:8080/"
        },
        "id": "7Oig1bCHaMBm",
        "outputId": "c365f705-0b02-4255-c670-4cbe59bb7520"
      },
      "source": [
        "tn, fp, fn, tp = confusion_matrix(YTest, predict_naive).ravel()\n",
        "print(tn, fp, fn, tp)"
      ],
      "execution_count": null,
      "outputs": [
        {
          "output_type": "stream",
          "text": [
            "8908 1676 913 9307\n"
          ],
          "name": "stdout"
        }
      ]
    },
    {
      "cell_type": "code",
      "metadata": {
        "colab": {
          "base_uri": "https://localhost:8080/"
        },
        "id": "p6ww9kDFaMDi",
        "outputId": "59e399d3-a12c-4d11-a7d1-d28cc91ba983"
      },
      "source": [
        "recall=tp/(tp+fn)\n",
        "print(recall)"
      ],
      "execution_count": null,
      "outputs": [
        {
          "output_type": "stream",
          "text": [
            "0.9106653620352251\n"
          ],
          "name": "stdout"
        }
      ]
    },
    {
      "cell_type": "code",
      "metadata": {
        "colab": {
          "base_uri": "https://localhost:8080/"
        },
        "id": "mRsildb2aMIo",
        "outputId": "9a93b089-dd6b-432c-f2ee-36ecdcef74e5"
      },
      "source": [
        "precision=tp/(tp+fp)\n",
        "print(precision)"
      ],
      "execution_count": null,
      "outputs": [
        {
          "output_type": "stream",
          "text": [
            "0.8474005280888646\n"
          ],
          "name": "stdout"
        }
      ]
    },
    {
      "cell_type": "code",
      "metadata": {
        "colab": {
          "base_uri": "https://localhost:8080/"
        },
        "id": "VHsr8PGLaMLR",
        "outputId": "7ff621af-6821-4429-ce95-98c20a7e943e"
      },
      "source": [
        "accuracy=(tn+tp)/(tn+tp+fp+fn)\n",
        "print(accuracy)"
      ],
      "execution_count": null,
      "outputs": [
        {
          "output_type": "stream",
          "text": [
            "0.8755527783118631\n"
          ],
          "name": "stdout"
        }
      ]
    },
    {
      "cell_type": "code",
      "metadata": {
        "colab": {
          "base_uri": "https://localhost:8080/"
        },
        "id": "9u3_w260aXr6",
        "outputId": "5285b973-92a9-4a32-bb75-6b199517b83c"
      },
      "source": [
        "f1_score=(2*recall*precision)/(recall+precision)\n",
        "print(f1_score)"
      ],
      "execution_count": null,
      "outputs": [
        {
          "output_type": "stream",
          "text": [
            "0.8778946375512898\n"
          ],
          "name": "stdout"
        }
      ]
    },
    {
      "cell_type": "code",
      "metadata": {
        "id": "QEsPJE6Wa2bZ"
      },
      "source": [
        ""
      ],
      "execution_count": null,
      "outputs": []
    },
    {
      "cell_type": "markdown",
      "metadata": {
        "id": "lxpBSBYUcaWz"
      },
      "source": [
        "## Support Vector Machine + BoWV"
      ]
    },
    {
      "cell_type": "code",
      "metadata": {
        "colab": {
          "base_uri": "https://localhost:8080/"
        },
        "id": "qHshPwS6ca7h",
        "outputId": "ec0cae6d-7c26-488e-8e9a-103c39881886"
      },
      "source": [
        "svm = LinearSVC()\n",
        "classifier_SVM = svm.fit(XTrain, YTrain)\n",
        "predict_SVM = svm.predict(XTest)\n",
        "print(predict_SVM)\n",
        "#print(classification_report(YTest, predict_SVM ))\n",
        "logreg = LogisticRegression(dual=False)"
      ],
      "execution_count": null,
      "outputs": [
        {
          "output_type": "stream",
          "text": [
            "[False  True  True ... False False  True]\n"
          ],
          "name": "stdout"
        }
      ]
    },
    {
      "cell_type": "code",
      "metadata": {
        "colab": {
          "base_uri": "https://localhost:8080/"
        },
        "id": "IEH4HTtfcbGn",
        "outputId": "08f4391e-7d37-47a0-9571-1ee3f01d7d1a"
      },
      "source": [
        "tn, fp, fn, tp = confusion_matrix(YTest, predict_SVM).ravel()\n",
        "print(tn, fp, fn, tp)"
      ],
      "execution_count": null,
      "outputs": [
        {
          "output_type": "stream",
          "text": [
            "9663 921 941 9279\n"
          ],
          "name": "stdout"
        }
      ]
    },
    {
      "cell_type": "code",
      "metadata": {
        "colab": {
          "base_uri": "https://localhost:8080/"
        },
        "id": "Gdg89GC_cbOx",
        "outputId": "02bec48b-ed46-4e52-9d83-8455ec4d58c5"
      },
      "source": [
        "recall=tp/(tp+fn)\n",
        "print(recall)"
      ],
      "execution_count": null,
      "outputs": [
        {
          "output_type": "stream",
          "text": [
            "0.9079256360078278\n"
          ],
          "name": "stdout"
        }
      ]
    },
    {
      "cell_type": "code",
      "metadata": {
        "colab": {
          "base_uri": "https://localhost:8080/"
        },
        "id": "EXvFRYYwcbUF",
        "outputId": "f3443017-7936-41a9-bec5-998ea80966f3"
      },
      "source": [
        "precision=tp/(tp+fp)\n",
        "print(precision)"
      ],
      "execution_count": null,
      "outputs": [
        {
          "output_type": "stream",
          "text": [
            "0.9097058823529411\n"
          ],
          "name": "stdout"
        }
      ]
    },
    {
      "cell_type": "code",
      "metadata": {
        "colab": {
          "base_uri": "https://localhost:8080/"
        },
        "id": "BHlhfVbycbaw",
        "outputId": "7701354b-48b3-4f44-daa8-442a5c9a3452"
      },
      "source": [
        "accuracy=(tn+tp)/(tn+tp+fp+fn)\n",
        "print(accuracy)"
      ],
      "execution_count": null,
      "outputs": [
        {
          "output_type": "stream",
          "text": [
            "0.9104979811574697\n"
          ],
          "name": "stdout"
        }
      ]
    },
    {
      "cell_type": "code",
      "metadata": {
        "colab": {
          "base_uri": "https://localhost:8080/"
        },
        "id": "aA3F0cyFcbkj",
        "outputId": "316ffe99-ef5c-4abc-82d9-42a276dbd9f8"
      },
      "source": [
        "f1_score=(2*recall*precision)/(recall+precision)\n",
        "print(f1_score)"
      ],
      "execution_count": null,
      "outputs": [
        {
          "output_type": "stream",
          "text": [
            "0.9088148873653281\n"
          ],
          "name": "stdout"
        }
      ]
    },
    {
      "cell_type": "markdown",
      "metadata": {
        "id": "Z-B68AwQdEcM"
      },
      "source": [
        "## Decision Tree + Bag of Words Vector"
      ]
    },
    {
      "cell_type": "code",
      "metadata": {
        "colab": {
          "base_uri": "https://localhost:8080/"
        },
        "id": "N_rzKztpcbuR",
        "outputId": "909af869-7f9b-4b71-ca60-e5939936af8c"
      },
      "source": [
        "dt = DecisionTreeClassifier()\n",
        "dt.fit(XTrain, YTrain)\n",
        "tree_pred = dt.predict(XTest)\n",
        "print(tree_pred)\n",
        "\n",
        "#print(classification_report(YTest,tree_pred))\n",
        "#print(confusion_matrix(YTest, tree_pred))"
      ],
      "execution_count": null,
      "outputs": [
        {
          "output_type": "stream",
          "text": [
            "[False  True  True ... False False  True]\n"
          ],
          "name": "stdout"
        }
      ]
    },
    {
      "cell_type": "code",
      "metadata": {
        "colab": {
          "base_uri": "https://localhost:8080/"
        },
        "id": "XcHztaSjcbwM",
        "outputId": "f0f3cd32-eead-4443-abe5-1b7b31fe401a"
      },
      "source": [
        "tn, fp, fn, tp = confusion_matrix(YTest, tree_pred).ravel()\n",
        "print(tn, fp, fn, tp)"
      ],
      "execution_count": null,
      "outputs": [
        {
          "output_type": "stream",
          "text": [
            "9803 781 803 9417\n"
          ],
          "name": "stdout"
        }
      ]
    },
    {
      "cell_type": "code",
      "metadata": {
        "colab": {
          "base_uri": "https://localhost:8080/"
        },
        "id": "h7pTRtqUdT9n",
        "outputId": "db2759dc-0f15-4632-bd82-8679e9211dce"
      },
      "source": [
        "recall=tp/(tp+fn)\n",
        "print(recall)"
      ],
      "execution_count": null,
      "outputs": [
        {
          "output_type": "stream",
          "text": [
            "0.9214285714285714\n"
          ],
          "name": "stdout"
        }
      ]
    },
    {
      "cell_type": "code",
      "metadata": {
        "colab": {
          "base_uri": "https://localhost:8080/"
        },
        "id": "iFUjyS1mdUJg",
        "outputId": "3d5ec21d-646c-4caa-d29d-f25753ca7bae"
      },
      "source": [
        "precision=tp/(tp+fp)\n",
        "print(precision)"
      ],
      "execution_count": null,
      "outputs": [
        {
          "output_type": "stream",
          "text": [
            "0.9234163561482643\n"
          ],
          "name": "stdout"
        }
      ]
    },
    {
      "cell_type": "code",
      "metadata": {
        "colab": {
          "base_uri": "https://localhost:8080/"
        },
        "id": "0yOwhBHGdUVu",
        "outputId": "218ad058-587f-4be5-ca14-ed45ccf89e69"
      },
      "source": [
        "accuracy=(tn+tp)/(tn+tp+fp+fn)\n",
        "print(accuracy)"
      ],
      "execution_count": null,
      "outputs": [
        {
          "output_type": "stream",
          "text": [
            "0.9238607960007691\n"
          ],
          "name": "stdout"
        }
      ]
    },
    {
      "cell_type": "code",
      "metadata": {
        "colab": {
          "base_uri": "https://localhost:8080/"
        },
        "id": "CF1hTkTydUhz",
        "outputId": "1e5f4bea-6c49-401b-c629-fb06358011eb"
      },
      "source": [
        "f1_score=(2*recall*precision)/(recall+precision)\n",
        "print(f1_score)"
      ],
      "execution_count": null,
      "outputs": [
        {
          "output_type": "stream",
          "text": [
            "0.9224213928886277\n"
          ],
          "name": "stdout"
        }
      ]
    },
    {
      "cell_type": "markdown",
      "metadata": {
        "id": "sZ6bz_bTebGA"
      },
      "source": [
        "## Logistic Regression + TF-IDF"
      ]
    },
    {
      "cell_type": "code",
      "metadata": {
        "id": "yNqBD5a0ebg2"
      },
      "source": [
        "tfidf = TfidfVectorizer(ngram_range=(1, 3), max_df=0.9, min_df=5, sublinear_tf=True)\n",
        "XTrain = tfidf.fit(train_data).transform(train_data)\n",
        "XTest = tfidf.transform(test_data)"
      ],
      "execution_count": null,
      "outputs": []
    },
    {
      "cell_type": "code",
      "metadata": {
        "colab": {
          "base_uri": "https://localhost:8080/"
        },
        "id": "uNGNdxMLebiy",
        "outputId": "c530716c-976f-4204-e984-f9e73549fe91"
      },
      "source": [
        "parameter_grid = {'C': [7.9,8,8.25]}\n",
        "grid = GridSearchCV(LogisticRegression(max_iter = 300), parameter_grid, cv = 5)\n",
        "grid.fit(XTrain, YTrain)\n",
        "print(\"Best cross-validation score: {}\".format(grid.best_score_))\n",
        "print(\"Best parameters: \", grid.best_params_)\n",
        "print(\"Best estimator: \", grid.best_estimator_)"
      ],
      "execution_count": null,
      "outputs": [
        {
          "output_type": "stream",
          "text": [
            "Best cross-validation score: 0.8819736299958796\n",
            "Best parameters:  {'C': 8.25}\n",
            "Best estimator:  LogisticRegression(C=8.25, class_weight=None, dual=False, fit_intercept=True,\n",
            "                   intercept_scaling=1, l1_ratio=None, max_iter=300,\n",
            "                   multi_class='auto', n_jobs=None, penalty='l2',\n",
            "                   random_state=None, solver='lbfgs', tol=0.0001, verbose=0,\n",
            "                   warm_start=False)\n"
          ],
          "name": "stdout"
        }
      ]
    },
    {
      "cell_type": "code",
      "metadata": {
        "colab": {
          "base_uri": "https://localhost:8080/"
        },
        "id": "VZ_EN3ooebpv",
        "outputId": "4cb19549-e30b-4440-f000-f4dd2a959b66"
      },
      "source": [
        "lr = grid.best_estimator_\n",
        "lr.fit(XTrain, YTrain)"
      ],
      "execution_count": null,
      "outputs": [
        {
          "output_type": "execute_result",
          "data": {
            "text/plain": [
              "LogisticRegression(C=8.25, class_weight=None, dual=False, fit_intercept=True,\n",
              "                   intercept_scaling=1, l1_ratio=None, max_iter=300,\n",
              "                   multi_class='auto', n_jobs=None, penalty='l2',\n",
              "                   random_state=None, solver='lbfgs', tol=0.0001, verbose=0,\n",
              "                   warm_start=False)"
            ]
          },
          "metadata": {
            "tags": []
          },
          "execution_count": 48
        }
      ]
    },
    {
      "cell_type": "code",
      "metadata": {
        "colab": {
          "base_uri": "https://localhost:8080/"
        },
        "id": "cEHQkfjeeb6r",
        "outputId": "77b546cf-d096-498a-f076-67872fe52939"
      },
      "source": [
        "lr.predict(XTest)\n",
        "print(\"Score: {}\".format(lr.score(XTest, YTest)))"
      ],
      "execution_count": null,
      "outputs": [
        {
          "output_type": "stream",
          "text": [
            "Score: 0.8887233224379927\n"
          ],
          "name": "stdout"
        }
      ]
    },
    {
      "cell_type": "code",
      "metadata": {
        "colab": {
          "base_uri": "https://localhost:8080/"
        },
        "id": "ZCpNHkt4ecGk",
        "outputId": "ba548e8b-32cb-417a-945f-88472bd5400a"
      },
      "source": [
        "ypred = lr.predict(XTest)\n",
        "tn, fp, fn, tp = confusion_matrix(YTest, ypred).ravel()\n",
        "print(tn, fp, fn, tp)"
      ],
      "execution_count": null,
      "outputs": [
        {
          "output_type": "stream",
          "text": [
            "9413 1171 1144 9076\n"
          ],
          "name": "stdout"
        }
      ]
    },
    {
      "cell_type": "code",
      "metadata": {
        "colab": {
          "base_uri": "https://localhost:8080/"
        },
        "id": "rYxhoXwEeccB",
        "outputId": "87aaa9b5-d9d0-405f-8a72-8d953a322438"
      },
      "source": [
        "recall=tp/(tp+fn)\n",
        "print(recall)"
      ],
      "execution_count": null,
      "outputs": [
        {
          "output_type": "stream",
          "text": [
            "0.8880626223091976\n"
          ],
          "name": "stdout"
        }
      ]
    },
    {
      "cell_type": "code",
      "metadata": {
        "colab": {
          "base_uri": "https://localhost:8080/"
        },
        "id": "YtaOom3HecoG",
        "outputId": "c0958be7-5c67-43b6-b477-4c04f313036f"
      },
      "source": [
        "precision=tp/(tp+fp)\n",
        "print(precision)"
      ],
      "execution_count": null,
      "outputs": [
        {
          "output_type": "stream",
          "text": [
            "0.8857226505318629\n"
          ],
          "name": "stdout"
        }
      ]
    },
    {
      "cell_type": "code",
      "metadata": {
        "colab": {
          "base_uri": "https://localhost:8080/"
        },
        "id": "NWfvWtWUfVde",
        "outputId": "63b78b50-383a-4bdf-c488-f02ba785b68a"
      },
      "source": [
        "accuracy=(tn+tp)/(tn+tp+fp+fn)\n",
        "print(accuracy)"
      ],
      "execution_count": null,
      "outputs": [
        {
          "output_type": "stream",
          "text": [
            "0.8887233224379927\n"
          ],
          "name": "stdout"
        }
      ]
    },
    {
      "cell_type": "code",
      "metadata": {
        "colab": {
          "base_uri": "https://localhost:8080/"
        },
        "id": "v8WC5WB_fVqs",
        "outputId": "8656ebfb-db79-446d-ec4a-5779f9e3adf1"
      },
      "source": [
        "f1_score=(2*recall*precision)/(recall+precision)\n",
        "print(f1_score)"
      ],
      "execution_count": null,
      "outputs": [
        {
          "output_type": "stream",
          "text": [
            "0.8868910929789416\n"
          ],
          "name": "stdout"
        }
      ]
    },
    {
      "cell_type": "markdown",
      "metadata": {
        "id": "BigcFpQDfvfl"
      },
      "source": [
        "## Multinomial Naive Bayes + TF-IDF"
      ]
    },
    {
      "cell_type": "code",
      "metadata": {
        "colab": {
          "base_uri": "https://localhost:8080/"
        },
        "id": "Dl8wpCGcfyV8",
        "outputId": "5fce290b-1568-48a4-ed3b-0ee1f50c2c4c"
      },
      "source": [
        "naive = MultinomialNB()\n",
        "classifier_naive = naive.fit(XTrain,YTrain)\n",
        "predict_naive = classifier_naive.predict(XTest)\n",
        "\n",
        "print(predict_naive)"
      ],
      "execution_count": null,
      "outputs": [
        {
          "output_type": "stream",
          "text": [
            "[False  True  True ... False False  True]\n"
          ],
          "name": "stdout"
        }
      ]
    },
    {
      "cell_type": "code",
      "metadata": {
        "colab": {
          "base_uri": "https://localhost:8080/"
        },
        "id": "kCK4xxJnfylP",
        "outputId": "ef6d33c9-b30e-4d6a-f5c1-f6fbfb42fa4a"
      },
      "source": [
        "tn, fp, fn, tp = confusion_matrix(YTest, predict_naive).ravel()\n",
        "print(tn, fp, fn, tp)"
      ],
      "execution_count": null,
      "outputs": [
        {
          "output_type": "stream",
          "text": [
            "8604 1980 1700 8520\n"
          ],
          "name": "stdout"
        }
      ]
    },
    {
      "cell_type": "code",
      "metadata": {
        "colab": {
          "base_uri": "https://localhost:8080/"
        },
        "id": "-7WcK7VQfyvn",
        "outputId": "8976568e-e1ed-4910-d842-7bcc5d03e64e"
      },
      "source": [
        "recall=tp/(tp+fn)\n",
        "print(recall)"
      ],
      "execution_count": null,
      "outputs": [
        {
          "output_type": "stream",
          "text": [
            "0.8336594911937377\n"
          ],
          "name": "stdout"
        }
      ]
    },
    {
      "cell_type": "code",
      "metadata": {
        "colab": {
          "base_uri": "https://localhost:8080/"
        },
        "id": "QgOVRmkLfy5f",
        "outputId": "2b2a50a1-e947-4153-a6da-4f38da4c706a"
      },
      "source": [
        "precision=tp/(tp+fp)\n",
        "print(precision)"
      ],
      "execution_count": null,
      "outputs": [
        {
          "output_type": "stream",
          "text": [
            "0.8114285714285714\n"
          ],
          "name": "stdout"
        }
      ]
    },
    {
      "cell_type": "code",
      "metadata": {
        "colab": {
          "base_uri": "https://localhost:8080/"
        },
        "id": "m-0bWR9FfzCP",
        "outputId": "12f4e4fa-8bc5-49a4-c1a0-dac943c94ef6"
      },
      "source": [
        "accuracy=(tn+tp)/(tn+tp+fp+fn)\n",
        "print(accuracy)"
      ],
      "execution_count": null,
      "outputs": [
        {
          "output_type": "stream",
          "text": [
            "0.8231109402038069\n"
          ],
          "name": "stdout"
        }
      ]
    },
    {
      "cell_type": "code",
      "metadata": {
        "colab": {
          "base_uri": "https://localhost:8080/"
        },
        "id": "ECS7enL4fzEb",
        "outputId": "2d7768c1-1c78-4cbc-c992-c6bbba4a6734"
      },
      "source": [
        "f1_score=(2*recall*precision)/(recall+precision)\n",
        "print(f1_score)"
      ],
      "execution_count": null,
      "outputs": [
        {
          "output_type": "stream",
          "text": [
            "0.8223938223938223\n"
          ],
          "name": "stdout"
        }
      ]
    },
    {
      "cell_type": "markdown",
      "metadata": {
        "id": "-kPIdmCbgNa9"
      },
      "source": [
        "## Support Vector Machine + TF-IDF"
      ]
    },
    {
      "cell_type": "code",
      "metadata": {
        "colab": {
          "base_uri": "https://localhost:8080/"
        },
        "id": "6VmCqwmGgODh",
        "outputId": "af915558-3edc-4950-b63d-542ebd372401"
      },
      "source": [
        "svm = LinearSVC()\n",
        "classifier_SVM = svm.fit(XTrain, YTrain)\n",
        "predict_SVM = svm.predict(XTest)\n",
        "print(predict_SVM)\n",
        "#print(classification_report(YTest, predict_SVM ))\n",
        "logreg = LogisticRegression(dual=False)"
      ],
      "execution_count": null,
      "outputs": [
        {
          "output_type": "stream",
          "text": [
            "[False  True  True ... False False  True]\n"
          ],
          "name": "stdout"
        }
      ]
    },
    {
      "cell_type": "code",
      "metadata": {
        "colab": {
          "base_uri": "https://localhost:8080/"
        },
        "id": "QMt5dxnsgOGJ",
        "outputId": "e69d3f20-8e7d-4306-b8df-421e9189f83a"
      },
      "source": [
        "tn, fp, fn, tp = confusion_matrix(YTest, predict_SVM).ravel()\n",
        "print(tn, fp, fn, tp)"
      ],
      "execution_count": null,
      "outputs": [
        {
          "output_type": "stream",
          "text": [
            "9497 1087 1084 9136\n"
          ],
          "name": "stdout"
        }
      ]
    },
    {
      "cell_type": "code",
      "metadata": {
        "colab": {
          "base_uri": "https://localhost:8080/"
        },
        "id": "N2Wws6aHgONu",
        "outputId": "da5f8350-26c2-4d4b-fde3-7563fbde0676"
      },
      "source": [
        "recall=tp/(tp+fn)\n",
        "print(recall)"
      ],
      "execution_count": null,
      "outputs": [
        {
          "output_type": "stream",
          "text": [
            "0.8939334637964775\n"
          ],
          "name": "stdout"
        }
      ]
    },
    {
      "cell_type": "code",
      "metadata": {
        "colab": {
          "base_uri": "https://localhost:8080/"
        },
        "id": "ok5UgKeWgORq",
        "outputId": "21371211-250f-46ee-eb82-d8b840e55ee9"
      },
      "source": [
        "precision=tp/(tp+fp)\n",
        "print(precision)"
      ],
      "execution_count": null,
      "outputs": [
        {
          "output_type": "stream",
          "text": [
            "0.8936711337180867\n"
          ],
          "name": "stdout"
        }
      ]
    },
    {
      "cell_type": "code",
      "metadata": {
        "colab": {
          "base_uri": "https://localhost:8080/"
        },
        "id": "R22-sSQwgOUP",
        "outputId": "21515782-a4d3-4304-c478-b329eaf8670d"
      },
      "source": [
        "accuracy=(tn+tp)/(tn+tp+fp+fn)\n",
        "print(accuracy)"
      ],
      "execution_count": null,
      "outputs": [
        {
          "output_type": "stream",
          "text": [
            "0.8956450682561046\n"
          ],
          "name": "stdout"
        }
      ]
    },
    {
      "cell_type": "code",
      "metadata": {
        "colab": {
          "base_uri": "https://localhost:8080/"
        },
        "id": "k-Z8lLgtgOXs",
        "outputId": "6ebe38b3-392d-4502-e9b7-54acf6d03c0a"
      },
      "source": [
        "f1_score=(2*recall*precision)/(recall+precision)\n",
        "print(f1_score)"
      ],
      "execution_count": null,
      "outputs": [
        {
          "output_type": "stream",
          "text": [
            "0.8938022795088784\n"
          ],
          "name": "stdout"
        }
      ]
    },
    {
      "cell_type": "markdown",
      "metadata": {
        "id": "tSjD9zMlhHre"
      },
      "source": [
        "## Decision Tree + TF-IDF"
      ]
    },
    {
      "cell_type": "code",
      "metadata": {
        "colab": {
          "base_uri": "https://localhost:8080/"
        },
        "id": "Ba8vaLGOgOaq",
        "outputId": "73ecece7-0771-4585-8c56-80691263cd22"
      },
      "source": [
        "dt = DecisionTreeClassifier()\n",
        "dt.fit(XTrain, YTrain)\n",
        "tree_pred = dt.predict(XTest)\n",
        "print(tree_pred)"
      ],
      "execution_count": null,
      "outputs": [
        {
          "output_type": "stream",
          "text": [
            "[False  True  True ... False False  True]\n"
          ],
          "name": "stdout"
        }
      ]
    },
    {
      "cell_type": "code",
      "metadata": {
        "colab": {
          "base_uri": "https://localhost:8080/"
        },
        "id": "QlUhCMt9gOdk",
        "outputId": "b94010e9-cc17-497a-892c-2be9d06093fd"
      },
      "source": [
        "tn, fp, fn, tp = confusion_matrix(YTest, tree_pred).ravel()\n",
        "print(tn, fp, fn, tp)"
      ],
      "execution_count": null,
      "outputs": [
        {
          "output_type": "stream",
          "text": [
            "9648 936 910 9310\n"
          ],
          "name": "stdout"
        }
      ]
    },
    {
      "cell_type": "code",
      "metadata": {
        "colab": {
          "base_uri": "https://localhost:8080/"
        },
        "id": "80iv6mkSfzLc",
        "outputId": "f93c4abd-8db3-45a7-ac38-e0843c804c4e"
      },
      "source": [
        "recall=tp/(tp+fn)\n",
        "print(recall)"
      ],
      "execution_count": null,
      "outputs": [
        {
          "output_type": "stream",
          "text": [
            "0.910958904109589\n"
          ],
          "name": "stdout"
        }
      ]
    },
    {
      "cell_type": "code",
      "metadata": {
        "colab": {
          "base_uri": "https://localhost:8080/"
        },
        "id": "xxx8ak2lhRBa",
        "outputId": "032f9c85-b241-4be9-a8f5-80af9d60aa8d"
      },
      "source": [
        "precision=tp/(tp+fp)\n",
        "print(precision)"
      ],
      "execution_count": null,
      "outputs": [
        {
          "output_type": "stream",
          "text": [
            "0.9086472769861409\n"
          ],
          "name": "stdout"
        }
      ]
    },
    {
      "cell_type": "code",
      "metadata": {
        "colab": {
          "base_uri": "https://localhost:8080/"
        },
        "id": "_2dT3HjVhRQr",
        "outputId": "2c495f07-bb8e-429c-ce07-35aefbff5316"
      },
      "source": [
        "accuracy=(tn+tp)/(tn+tp+fp+fn)\n",
        "print(accuracy)"
      ],
      "execution_count": null,
      "outputs": [
        {
          "output_type": "stream",
          "text": [
            "0.9112670640261488\n"
          ],
          "name": "stdout"
        }
      ]
    },
    {
      "cell_type": "code",
      "metadata": {
        "colab": {
          "base_uri": "https://localhost:8080/"
        },
        "id": "uq0Oj2aUhRtg",
        "outputId": "08e76d75-4367-49c4-add5-22a3c2ce92fd"
      },
      "source": [
        "f1_score=(2*recall*precision)/(recall+precision)\n",
        "print(f1_score)"
      ],
      "execution_count": null,
      "outputs": [
        {
          "output_type": "stream",
          "text": [
            "0.9098016222026777\n"
          ],
          "name": "stdout"
        }
      ]
    }
  ]
}