{
  "nbformat": 4,
  "nbformat_minor": 0,
  "metadata": {
    "colab": {
      "name": "Binary Classification (LSTM).ipynb",
      "provenance": [],
      "collapsed_sections": []
    },
    "kernelspec": {
      "name": "python3",
      "display_name": "Python 3"
    },
    "language_info": {
      "name": "python"
    },
    "accelerator": "GPU"
  },
  "cells": [
    {
      "cell_type": "code",
      "metadata": {
        "id": "1fByoLnjie6e",
        "colab": {
          "base_uri": "https://localhost:8080/"
        },
        "outputId": "963b6a49-e772-4178-d4b8-856d8168bebb"
      },
      "source": [
        "from google.colab import drive\n",
        "drive.mount('/content/gdrive')"
      ],
      "execution_count": null,
      "outputs": [
        {
          "output_type": "stream",
          "text": [
            "Drive already mounted at /content/gdrive; to attempt to forcibly remount, call drive.mount(\"/content/gdrive\", force_remount=True).\n"
          ],
          "name": "stdout"
        }
      ]
    },
    {
      "cell_type": "code",
      "metadata": {
        "id": "OrpnoPh5ijtK",
        "colab": {
          "base_uri": "https://localhost:8080/"
        },
        "outputId": "e40b806d-114b-43a5-e5b8-f5d6882d715b"
      },
      "source": [
        "cd gdrive"
      ],
      "execution_count": null,
      "outputs": [
        {
          "output_type": "stream",
          "text": [
            "/content/gdrive\n"
          ],
          "name": "stdout"
        }
      ]
    },
    {
      "cell_type": "code",
      "metadata": {
        "id": "U1Ln4FK9ijvm",
        "colab": {
          "base_uri": "https://localhost:8080/"
        },
        "outputId": "bdc71baf-beb7-4191-a7aa-f4a7c0c2e2bd"
      },
      "source": [
        "cd MyDrive"
      ],
      "execution_count": null,
      "outputs": [
        {
          "output_type": "stream",
          "text": [
            "/content/gdrive/MyDrive\n"
          ],
          "name": "stdout"
        }
      ]
    },
    {
      "cell_type": "code",
      "metadata": {
        "id": "AQHBiad4ijyr",
        "colab": {
          "base_uri": "https://localhost:8080/"
        },
        "outputId": "86c6935c-aaee-44f0-fc2d-802cd0d9a977"
      },
      "source": [
        "cd Colab datasets"
      ],
      "execution_count": null,
      "outputs": [
        {
          "output_type": "stream",
          "text": [
            "/content/gdrive/MyDrive/Colab datasets\n"
          ],
          "name": "stdout"
        }
      ]
    },
    {
      "cell_type": "code",
      "metadata": {
        "id": "1xZJM2OKij2O"
      },
      "source": [
        "import numpy as np\n",
        "import pandas as pd\n",
        "import seaborn as sb\n",
        "import matplotlib.pyplot as mplot\n",
        "\n",
        "from __future__ import division, print_function\n",
        "from gensim import models\n",
        "from keras.callbacks import ModelCheckpoint\n",
        "from keras.layers import Dense, Dropout, Reshape, Flatten, concatenate, Input, Conv1D, GlobalMaxPooling1D, Embedding\n",
        "from keras.layers.recurrent import LSTM\n",
        "from keras.models import Sequential\n",
        "from keras.preprocessing.text import Tokenizer\n",
        "from keras.preprocessing.sequence import pad_sequences\n",
        "from keras.models import Model\n",
        "from sklearn.model_selection import train_test_split\n",
        "\n",
        "from sklearn.metrics import confusion_matrix\n",
        "from sklearn.metrics import classification_report\n",
        "\n",
        "import math"
      ],
      "execution_count": null,
      "outputs": []
    },
    {
      "cell_type": "code",
      "metadata": {
        "id": "HTxb82gRij5p"
      },
      "source": [
        "XTrain=pd.read_csv(\"x_train_data.csv\")\n",
        "XTest=pd.read_csv(\"x_test_data.csv\")\n",
        "YTrain=pd.read_csv(\"y_train.csv\")\n",
        "YTest=pd.read_csv(\"y_test.csv\")"
      ],
      "execution_count": null,
      "outputs": []
    },
    {
      "cell_type": "code",
      "metadata": {
        "id": "HL7WEaNrij-n",
        "colab": {
          "base_uri": "https://localhost:8080/",
          "height": 425
        },
        "outputId": "c66b23a6-91e2-4358-80b0-7e338b32d08b"
      },
      "source": [
        "XTrain.head(5)"
      ],
      "execution_count": null,
      "outputs": [
        {
          "output_type": "execute_result",
          "data": {
            "text/html": [
              "<div>\n",
              "<style scoped>\n",
              "    .dataframe tbody tr th:only-of-type {\n",
              "        vertical-align: middle;\n",
              "    }\n",
              "\n",
              "    .dataframe tbody tr th {\n",
              "        vertical-align: top;\n",
              "    }\n",
              "\n",
              "    .dataframe thead th {\n",
              "        text-align: right;\n",
              "    }\n",
              "</style>\n",
              "<table border=\"1\" class=\"dataframe\">\n",
              "  <thead>\n",
              "    <tr style=\"text-align: right;\">\n",
              "      <th></th>\n",
              "      <th>Category</th>\n",
              "      <th>CounterSpeech</th>\n",
              "      <th>commentText</th>\n",
              "      <th>date</th>\n",
              "      <th>hasReplies</th>\n",
              "      <th>id</th>\n",
              "      <th>likes</th>\n",
              "      <th>numberOfReplies</th>\n",
              "      <th>timestamp</th>\n",
              "      <th>user</th>\n",
              "      <th>Community</th>\n",
              "      <th>replies</th>\n",
              "    </tr>\n",
              "  </thead>\n",
              "  <tbody>\n",
              "    <tr>\n",
              "      <th>0</th>\n",
              "      <td>Default</td>\n",
              "      <td>False</td>\n",
              "      <td>wasnt even surprised said actors didnt believe...</td>\n",
              "      <td>3 years ago</td>\n",
              "      <td>0.0</td>\n",
              "      <td>Ugj9_a6p-pCTkHgCoAEC</td>\n",
              "      <td>0</td>\n",
              "      <td>0.0</td>\n",
              "      <td>2015-01-05 16:27:02.809</td>\n",
              "      <td>SvAg</td>\n",
              "      <td>jews</td>\n",
              "      <td>[]</td>\n",
              "    </tr>\n",
              "    <tr>\n",
              "      <th>1</th>\n",
              "      <td>5</td>\n",
              "      <td>True</td>\n",
              "      <td>going done ball group person evil get excuse m...</td>\n",
              "      <td>7 years ago</td>\n",
              "      <td>0.0</td>\n",
              "      <td>UgweYtkh98TTUX156M54AaABAg</td>\n",
              "      <td>0</td>\n",
              "      <td>0.0</td>\n",
              "      <td>2011-12-06 09:43:19.992</td>\n",
              "      <td>Neojhun</td>\n",
              "      <td>black</td>\n",
              "      <td>[]</td>\n",
              "    </tr>\n",
              "    <tr>\n",
              "      <th>2</th>\n",
              "      <td>Default</td>\n",
              "      <td>False</td>\n",
              "      <td>gay alteration ur stupid mind forced give sata...</td>\n",
              "      <td>5 years ago</td>\n",
              "      <td>0.0</td>\n",
              "      <td>Ugw6ESunxYnBZu05sfR4AaABAg</td>\n",
              "      <td>0</td>\n",
              "      <td>0.0</td>\n",
              "      <td>2012-12-05 04:48:03.679</td>\n",
              "      <td>tellit2yastr8</td>\n",
              "      <td>lgbt</td>\n",
              "      <td>[]</td>\n",
              "    </tr>\n",
              "    <tr>\n",
              "      <th>3</th>\n",
              "      <td>Default</td>\n",
              "      <td>False</td>\n",
              "      <td>forgiveness something separation changed news ...</td>\n",
              "      <td>5 months ago</td>\n",
              "      <td>0.0</td>\n",
              "      <td>Ugj_TcgR6vXTZHgCoAEC</td>\n",
              "      <td>0</td>\n",
              "      <td>0.0</td>\n",
              "      <td>2017-07-05 04:41:28.158</td>\n",
              "      <td>john dennis</td>\n",
              "      <td>lgbt</td>\n",
              "      <td>[]</td>\n",
              "    </tr>\n",
              "    <tr>\n",
              "      <th>4</th>\n",
              "      <td>5,9</td>\n",
              "      <td>True</td>\n",
              "      <td>bitches racist hate backbite fucking</td>\n",
              "      <td>4 months ago</td>\n",
              "      <td>0.0</td>\n",
              "      <td>UgyHINlb_aSDTD7nK9Z4AaABAg</td>\n",
              "      <td>0</td>\n",
              "      <td>0.0</td>\n",
              "      <td>2018-08-13 05:48:20.758</td>\n",
              "      <td>gaby gonzalez</td>\n",
              "      <td>black</td>\n",
              "      <td>[]</td>\n",
              "    </tr>\n",
              "  </tbody>\n",
              "</table>\n",
              "</div>"
            ],
            "text/plain": [
              "  Category  CounterSpeech  ... Community replies\n",
              "0  Default          False  ...      jews      []\n",
              "1        5           True  ...     black      []\n",
              "2  Default          False  ...      lgbt      []\n",
              "3  Default          False  ...      lgbt      []\n",
              "4      5,9           True  ...     black      []\n",
              "\n",
              "[5 rows x 12 columns]"
            ]
          },
          "metadata": {
            "tags": []
          },
          "execution_count": 7
        }
      ]
    },
    {
      "cell_type": "code",
      "metadata": {
        "id": "aQGhQqT-ikBJ",
        "colab": {
          "base_uri": "https://localhost:8080/",
          "height": 462
        },
        "outputId": "9f7baf27-fcbd-4783-b8e7-6fccef522001"
      },
      "source": [
        "XTest.head(5)"
      ],
      "execution_count": null,
      "outputs": [
        {
          "output_type": "execute_result",
          "data": {
            "text/html": [
              "<div>\n",
              "<style scoped>\n",
              "    .dataframe tbody tr th:only-of-type {\n",
              "        vertical-align: middle;\n",
              "    }\n",
              "\n",
              "    .dataframe tbody tr th {\n",
              "        vertical-align: top;\n",
              "    }\n",
              "\n",
              "    .dataframe thead th {\n",
              "        text-align: right;\n",
              "    }\n",
              "</style>\n",
              "<table border=\"1\" class=\"dataframe\">\n",
              "  <thead>\n",
              "    <tr style=\"text-align: right;\">\n",
              "      <th></th>\n",
              "      <th>Category</th>\n",
              "      <th>CounterSpeech</th>\n",
              "      <th>commentText</th>\n",
              "      <th>date</th>\n",
              "      <th>hasReplies</th>\n",
              "      <th>id</th>\n",
              "      <th>likes</th>\n",
              "      <th>numberOfReplies</th>\n",
              "      <th>timestamp</th>\n",
              "      <th>user</th>\n",
              "      <th>Community</th>\n",
              "      <th>replies</th>\n",
              "    </tr>\n",
              "  </thead>\n",
              "  <tbody>\n",
              "    <tr>\n",
              "      <th>0</th>\n",
              "      <td>Default</td>\n",
              "      <td>False</td>\n",
              "      <td>truth god</td>\n",
              "      <td>5 months ago</td>\n",
              "      <td>0.0</td>\n",
              "      <td>UgyOn3XdzLd7WGtpR014AaABAg</td>\n",
              "      <td>0</td>\n",
              "      <td>0.0</td>\n",
              "      <td>2018-07-04 16:13:05.830</td>\n",
              "      <td>David Malapile</td>\n",
              "      <td>jews</td>\n",
              "      <td>[]</td>\n",
              "    </tr>\n",
              "    <tr>\n",
              "      <th>1</th>\n",
              "      <td>5,9</td>\n",
              "      <td>True</td>\n",
              "      <td>stunned disgusting hateful hell sick homosexua...</td>\n",
              "      <td>4 years ago</td>\n",
              "      <td>0.0</td>\n",
              "      <td>Ugz2jIERhfSlbTT3I5N4AaABAg</td>\n",
              "      <td>0</td>\n",
              "      <td>0.0</td>\n",
              "      <td>2013-12-05 04:47:49.740</td>\n",
              "      <td>Fangirl Smith</td>\n",
              "      <td>lgbt</td>\n",
              "      <td>[]</td>\n",
              "    </tr>\n",
              "    <tr>\n",
              "      <th>2</th>\n",
              "      <td>4</td>\n",
              "      <td>True</td>\n",
              "      <td>muslim video makes emotional</td>\n",
              "      <td>1 month ago</td>\n",
              "      <td>0.0</td>\n",
              "      <td>UgzqreWMOeDIUDRbOAR4AaABAg</td>\n",
              "      <td>0</td>\n",
              "      <td>0.0</td>\n",
              "      <td>2017-12-05 16:22:40.118</td>\n",
              "      <td>nadeem malik</td>\n",
              "      <td>jews</td>\n",
              "      <td>[]</td>\n",
              "    </tr>\n",
              "    <tr>\n",
              "      <th>3</th>\n",
              "      <td>Default</td>\n",
              "      <td>False</td>\n",
              "      <td>racist opinions reporter matter kids mom dont ...</td>\n",
              "      <td>5 months ago</td>\n",
              "      <td>0.0</td>\n",
              "      <td>Ugwu32empR4tRwqs67J4AaABAg</td>\n",
              "      <td>0</td>\n",
              "      <td>0.0</td>\n",
              "      <td>2018-07-13 05:49:34.356</td>\n",
              "      <td>sirlozervilleskidmarx</td>\n",
              "      <td>black</td>\n",
              "      <td>[]</td>\n",
              "    </tr>\n",
              "    <tr>\n",
              "      <th>4</th>\n",
              "      <td>8</td>\n",
              "      <td>True</td>\n",
              "      <td>mess up i</td>\n",
              "      <td>4 months ago</td>\n",
              "      <td>0.0</td>\n",
              "      <td>UgyNGc4NKGXCuYXAZKF4AaABAg</td>\n",
              "      <td>0</td>\n",
              "      <td>0.0</td>\n",
              "      <td>2018-08-13 05:48:21.986</td>\n",
              "      <td>Lilsourpach Kid</td>\n",
              "      <td>black</td>\n",
              "      <td>[]</td>\n",
              "    </tr>\n",
              "  </tbody>\n",
              "</table>\n",
              "</div>"
            ],
            "text/plain": [
              "  Category  CounterSpeech  ... Community replies\n",
              "0  Default          False  ...      jews      []\n",
              "1      5,9           True  ...      lgbt      []\n",
              "2        4           True  ...      jews      []\n",
              "3  Default          False  ...     black      []\n",
              "4        8           True  ...     black      []\n",
              "\n",
              "[5 rows x 12 columns]"
            ]
          },
          "metadata": {
            "tags": []
          },
          "execution_count": 8
        }
      ]
    },
    {
      "cell_type": "code",
      "metadata": {
        "id": "s1tTBFEjikEs",
        "colab": {
          "base_uri": "https://localhost:8080/",
          "height": 204
        },
        "outputId": "d3eac786-c979-451f-f851-41365102b6f1"
      },
      "source": [
        "YTrain.head(5)"
      ],
      "execution_count": null,
      "outputs": [
        {
          "output_type": "execute_result",
          "data": {
            "text/html": [
              "<div>\n",
              "<style scoped>\n",
              "    .dataframe tbody tr th:only-of-type {\n",
              "        vertical-align: middle;\n",
              "    }\n",
              "\n",
              "    .dataframe tbody tr th {\n",
              "        vertical-align: top;\n",
              "    }\n",
              "\n",
              "    .dataframe thead th {\n",
              "        text-align: right;\n",
              "    }\n",
              "</style>\n",
              "<table border=\"1\" class=\"dataframe\">\n",
              "  <thead>\n",
              "    <tr style=\"text-align: right;\">\n",
              "      <th></th>\n",
              "      <th>CounterSpeech</th>\n",
              "    </tr>\n",
              "  </thead>\n",
              "  <tbody>\n",
              "    <tr>\n",
              "      <th>0</th>\n",
              "      <td>False</td>\n",
              "    </tr>\n",
              "    <tr>\n",
              "      <th>1</th>\n",
              "      <td>True</td>\n",
              "    </tr>\n",
              "    <tr>\n",
              "      <th>2</th>\n",
              "      <td>False</td>\n",
              "    </tr>\n",
              "    <tr>\n",
              "      <th>3</th>\n",
              "      <td>False</td>\n",
              "    </tr>\n",
              "    <tr>\n",
              "      <th>4</th>\n",
              "      <td>True</td>\n",
              "    </tr>\n",
              "  </tbody>\n",
              "</table>\n",
              "</div>"
            ],
            "text/plain": [
              "   CounterSpeech\n",
              "0          False\n",
              "1           True\n",
              "2          False\n",
              "3          False\n",
              "4           True"
            ]
          },
          "metadata": {
            "tags": []
          },
          "execution_count": 9
        }
      ]
    },
    {
      "cell_type": "code",
      "metadata": {
        "id": "nJ6awWz_i2B6",
        "colab": {
          "base_uri": "https://localhost:8080/",
          "height": 204
        },
        "outputId": "39f3bca4-c0ee-431e-c77c-5c6487f7862a"
      },
      "source": [
        "YTest.head(5)"
      ],
      "execution_count": null,
      "outputs": [
        {
          "output_type": "execute_result",
          "data": {
            "text/html": [
              "<div>\n",
              "<style scoped>\n",
              "    .dataframe tbody tr th:only-of-type {\n",
              "        vertical-align: middle;\n",
              "    }\n",
              "\n",
              "    .dataframe tbody tr th {\n",
              "        vertical-align: top;\n",
              "    }\n",
              "\n",
              "    .dataframe thead th {\n",
              "        text-align: right;\n",
              "    }\n",
              "</style>\n",
              "<table border=\"1\" class=\"dataframe\">\n",
              "  <thead>\n",
              "    <tr style=\"text-align: right;\">\n",
              "      <th></th>\n",
              "      <th>CounterSpeech</th>\n",
              "    </tr>\n",
              "  </thead>\n",
              "  <tbody>\n",
              "    <tr>\n",
              "      <th>0</th>\n",
              "      <td>False</td>\n",
              "    </tr>\n",
              "    <tr>\n",
              "      <th>1</th>\n",
              "      <td>True</td>\n",
              "    </tr>\n",
              "    <tr>\n",
              "      <th>2</th>\n",
              "      <td>True</td>\n",
              "    </tr>\n",
              "    <tr>\n",
              "      <th>3</th>\n",
              "      <td>False</td>\n",
              "    </tr>\n",
              "    <tr>\n",
              "      <th>4</th>\n",
              "      <td>True</td>\n",
              "    </tr>\n",
              "  </tbody>\n",
              "</table>\n",
              "</div>"
            ],
            "text/plain": [
              "   CounterSpeech\n",
              "0          False\n",
              "1           True\n",
              "2           True\n",
              "3          False\n",
              "4           True"
            ]
          },
          "metadata": {
            "tags": []
          },
          "execution_count": 10
        }
      ]
    },
    {
      "cell_type": "markdown",
      "metadata": {
        "id": "Gs7fYtzKjDDF"
      },
      "source": [
        "### **Word2Vec**"
      ]
    },
    {
      "cell_type": "code",
      "metadata": {
        "id": "UCPa65hZi2EQ"
      },
      "source": [
        "import gensim\n",
        "from gensim.models.word2vec import Word2Vec\n",
        "LabeledSentence = gensim.models.doc2vec.LabeledSentence"
      ],
      "execution_count": null,
      "outputs": []
    },
    {
      "cell_type": "code",
      "metadata": {
        "id": "zxMkLL6ui2HN",
        "colab": {
          "base_uri": "https://localhost:8080/"
        },
        "outputId": "1b962196-6ef7-4736-dc44-2dbeb0087d84"
      },
      "source": [
        "from gensim.models import Word2Vec\n",
        "import nltk\n",
        "nltk.download('punkt')\n",
        "from nltk.tokenize import sent_tokenize\n",
        "from nltk.tokenize import word_tokenize\n",
        "\n",
        "#  Reads text.txt file\n",
        "f = open(\"text.txt\", \"w\")\n",
        "f.truncate(0)\n",
        "for i in range(len(XTrain)):\n",
        "  f.write(XTrain.iloc[i, 2])\n",
        "f.close()\n",
        "\n",
        "sample = open(\"text.txt\", \"r\")\n",
        "s = sample.read()\n",
        "\n",
        "\n",
        "# Replaces escape character with space\n",
        "f = s.replace(\"\\n\", \" \")\n",
        "  \n",
        "data = []\n",
        "  \n",
        "# iterate through each sentence in the file\n",
        "for i in sent_tokenize(f):\n",
        "    temp = []\n",
        "    # tokenize the sentence into words\n",
        "    for j in word_tokenize(i):\n",
        "        temp.append(j.lower())\n",
        "    data.append(temp)"
      ],
      "execution_count": null,
      "outputs": [
        {
          "output_type": "stream",
          "text": [
            "[nltk_data] Downloading package punkt to /root/nltk_data...\n",
            "[nltk_data]   Package punkt is already up-to-date!\n"
          ],
          "name": "stdout"
        }
      ]
    },
    {
      "cell_type": "code",
      "metadata": {
        "id": "jGe9Zb1bi2J6",
        "colab": {
          "base_uri": "https://localhost:8080/"
        },
        "outputId": "13d8a1fc-341e-4188-bd8a-59723802c69f"
      },
      "source": [
        "model_w2v = gensim.models.Word2Vec(\n",
        "            data,\n",
        "            size=200, # desired no. of features/independent variables\n",
        "            window=5, # context window size\n",
        "            min_count=5, # Ignores all words with total frequency lower than 5.                                  \n",
        "            sg = 1, # 1 for skip-gram model\n",
        "            hs = 0,\n",
        "            negative = 10, # for negative sampling\n",
        "            workers= 30, # no.of cores\n",
        "            seed = 34) \n",
        "\n",
        "model_w2v.train(data, total_examples= len(XTrain['commentText']), epochs=20)"
      ],
      "execution_count": null,
      "outputs": [
        {
          "output_type": "execute_result",
          "data": {
            "text/plain": [
              "(200000, 16127380)"
            ]
          },
          "metadata": {
            "tags": []
          },
          "execution_count": 13
        }
      ]
    },
    {
      "cell_type": "code",
      "metadata": {
        "id": "_uvDOlNbi2MW"
      },
      "source": [
        "embeddings_index = {}\n",
        "for w in model_w2v.wv.vocab.keys():\n",
        "    embeddings_index[w] = model_w2v.wv[w]"
      ],
      "execution_count": null,
      "outputs": []
    },
    {
      "cell_type": "code",
      "metadata": {
        "id": "6i8SkThgi2Pv"
      },
      "source": [
        "from keras.preprocessing.text import Tokenizer\n",
        "from keras.preprocessing.sequence import pad_sequences\n",
        "tokenizer = Tokenizer(num_words=100000)\n",
        "tokenizer.fit_on_texts(XTrain['commentText'])\n",
        "sequences = tokenizer.texts_to_sequences(XTrain['commentText'])"
      ],
      "execution_count": null,
      "outputs": []
    },
    {
      "cell_type": "code",
      "metadata": {
        "id": "ZBzVljlSjVJW",
        "colab": {
          "base_uri": "https://localhost:8080/"
        },
        "outputId": "e1330000-28e6-41c9-9629-f791ddf3693e"
      },
      "source": [
        "for x in XTrain.iloc[:5, 2]:\n",
        "    print(x)"
      ],
      "execution_count": null,
      "outputs": [
        {
          "output_type": "stream",
          "text": [
            "wasnt even surprised said actors didnt believe minute\n",
            "going done ball group person evil get excuse murdering average race sadistic american sentences helping idea pass evil acts problem issue bashed life person citizen is fun people law group excuse cant get young pin race fun goliath reduce involved people issue illogical blame using\n",
            "gay alteration ur stupid mind forced give satan rim job hell sure isnt hate right know trying help losers like wrong i\n",
            "forgiveness something separation changed news kept night wanted christ jesus self years something brings life born father death hated asking dont gave created christian church christ life news sinless answer lord god talking read years night took judgment gift gave felt change going jesus kirk deserve ask believe good like something learn love debut side found perfect forth fallen life could life went started cross jesus eternal hard savor christ jesus everything else righteousness night god could good many began ago jesus christ coward reason wanted called christ glory got sinned us would mind heart began ago bible see sees happening died everyone needed questions short later talking hard creation became wages new\n",
            "bitches racist hate backbite fucking\n"
          ],
          "name": "stdout"
        }
      ]
    },
    {
      "cell_type": "code",
      "metadata": {
        "id": "rcyNw1TzjVMB",
        "colab": {
          "base_uri": "https://localhost:8080/"
        },
        "outputId": "8bdcab1f-5879-47a4-8190-07bb0a0edc1d"
      },
      "source": [
        "length = []\n",
        "for x in XTrain['commentText']:\n",
        "    length.append(len(x.split()))\n",
        "max(length)"
      ],
      "execution_count": null,
      "outputs": [
        {
          "output_type": "execute_result",
          "data": {
            "text/plain": [
              "3095"
            ]
          },
          "metadata": {
            "tags": []
          },
          "execution_count": 17
        }
      ]
    },
    {
      "cell_type": "code",
      "metadata": {
        "id": "XOBvfZ-bjVO2",
        "colab": {
          "base_uri": "https://localhost:8080/"
        },
        "outputId": "bb61943c-4afb-4943-9ecb-642238352fcf"
      },
      "source": [
        "length = []\n",
        "for x in XTest['commentText']:\n",
        "    length.append(len(x.split()))\n",
        "max(length)"
      ],
      "execution_count": null,
      "outputs": [
        {
          "output_type": "execute_result",
          "data": {
            "text/plain": [
              "3026"
            ]
          },
          "metadata": {
            "tags": []
          },
          "execution_count": 18
        }
      ]
    },
    {
      "cell_type": "code",
      "metadata": {
        "id": "V-P595uSjVSc",
        "colab": {
          "base_uri": "https://localhost:8080/"
        },
        "outputId": "de1e6807-5013-4384-e536-92244b94bc09"
      },
      "source": [
        "XTrain_seq = pad_sequences(sequences, maxlen=3100)\n",
        "XTrain_seq[:5]"
      ],
      "execution_count": null,
      "outputs": [
        {
          "output_type": "execute_result",
          "data": {
            "text/plain": [
              "array([[   0,    0,    0, ...,   69,   25, 1457],\n",
              "       [   0,    0,    0, ..., 4287,  444,  419],\n",
              "       [   0,    0,    0, ...,    3,   41,    4],\n",
              "       [   0,    0,    0, ..., 1085, 3384,  206],\n",
              "       [   0,    0,    0, ...,    9, 2074,   73]], dtype=int32)"
            ]
          },
          "metadata": {
            "tags": []
          },
          "execution_count": 19
        }
      ]
    },
    {
      "cell_type": "code",
      "metadata": {
        "id": "8x3mpBwyjeKZ"
      },
      "source": [
        "sequences_Test = tokenizer.texts_to_sequences(XTest['commentText'])\n",
        "XTest_seq = pad_sequences(sequences_Test, maxlen=3100)"
      ],
      "execution_count": null,
      "outputs": []
    },
    {
      "cell_type": "code",
      "metadata": {
        "id": "WMMin21zjeM6",
        "colab": {
          "base_uri": "https://localhost:8080/"
        },
        "outputId": "68aba4c4-fd50-43be-dd6d-5185c6385ef0"
      },
      "source": [
        "XTest_seq[:5]"
      ],
      "execution_count": null,
      "outputs": [
        {
          "output_type": "execute_result",
          "data": {
            "text/plain": [
              "array([[   0,    0,    0, ...,    0,   40,    2],\n",
              "       [   0,    0,    0, ...,   49,  184,   80],\n",
              "       [   0,    0,    0, ...,   68,  139, 2276],\n",
              "       [   0,    0,    0, ...,  261, 8986,  170],\n",
              "       [   0,    0,    0, ..., 1636,  233,    4]], dtype=int32)"
            ]
          },
          "metadata": {
            "tags": []
          },
          "execution_count": 21
        }
      ]
    },
    {
      "cell_type": "code",
      "metadata": {
        "id": "MUx9KNbljePv"
      },
      "source": [
        "num_words = 100000\n",
        "embedding_matrix = np.zeros((num_words, 200))\n",
        "for word, i in tokenizer.word_index.items():\n",
        "    if i >= num_words:\n",
        "        continue\n",
        "    embedding_vector = embeddings_index.get(word)\n",
        "    if embedding_vector is not None:\n",
        "        embedding_matrix[i] = embedding_vector"
      ],
      "execution_count": null,
      "outputs": []
    },
    {
      "cell_type": "code",
      "metadata": {
        "id": "54CI_-0FjeR3",
        "colab": {
          "base_uri": "https://localhost:8080/"
        },
        "outputId": "3b4755d9-6930-44b9-8497-2be3d2dede3a"
      },
      "source": [
        "np.array_equal(embedding_matrix[25] ,embeddings_index.get('believe'))"
      ],
      "execution_count": null,
      "outputs": [
        {
          "output_type": "execute_result",
          "data": {
            "text/plain": [
              "True"
            ]
          },
          "metadata": {
            "tags": []
          },
          "execution_count": 23
        }
      ]
    },
    {
      "cell_type": "markdown",
      "metadata": {
        "id": "Uj_S7cdwjqQt"
      },
      "source": [
        "### **LSTM**"
      ]
    },
    {
      "cell_type": "code",
      "metadata": {
        "id": "I0_FZgNNjeUK"
      },
      "source": [
        "from keras.models import Sequential\n",
        "from keras.layers import Dense, Dropout\n",
        "from keras.layers import Flatten\n",
        "from keras.layers.embeddings import Embedding\n",
        "\n",
        "from keras.layers.convolutional import Conv1D\n",
        "from keras.layers.convolutional import MaxPooling1D\n",
        "from keras.preprocessing import sequence\n",
        "from keras import layers"
      ],
      "execution_count": null,
      "outputs": []
    },
    {
      "cell_type": "code",
      "metadata": {
        "id": "Mot5ZipxjeXp",
        "colab": {
          "base_uri": "https://localhost:8080/"
        },
        "outputId": "7fab65dc-5693-479f-eeb0-b35f561e4ccb"
      },
      "source": [
        "model = Sequential()\n",
        "model.add(Embedding(100000, 200, input_length=3100))\n",
        "model.add(layers.LSTM(64,dropout=0.5))\n",
        "model.add(Dense(1, activation='sigmoid'))\n",
        "\n",
        "model.compile(loss='binary_crossentropy', optimizer='adam', metrics=['accuracy'])\n",
        "model.summary()"
      ],
      "execution_count": null,
      "outputs": [
        {
          "output_type": "stream",
          "text": [
            "Model: \"sequential\"\n",
            "_________________________________________________________________\n",
            "Layer (type)                 Output Shape              Param #   \n",
            "=================================================================\n",
            "embedding (Embedding)        (None, 3100, 200)         20000000  \n",
            "_________________________________________________________________\n",
            "lstm (LSTM)                  (None, 64)                67840     \n",
            "_________________________________________________________________\n",
            "dense (Dense)                (None, 1)                 65        \n",
            "=================================================================\n",
            "Total params: 20,067,905\n",
            "Trainable params: 20,067,905\n",
            "Non-trainable params: 0\n",
            "_________________________________________________________________\n"
          ],
          "name": "stdout"
        }
      ]
    },
    {
      "cell_type": "code",
      "metadata": {
        "id": "A66T9YeSj3iR",
        "colab": {
          "base_uri": "https://localhost:8080/"
        },
        "outputId": "61b4e42e-3bda-493e-d782-8d9b4a8c4228"
      },
      "source": [
        "history = model.fit(XTrain_seq, YTrain, epochs=10, validation_data=(XTest_seq, YTest))"
      ],
      "execution_count": 26,
      "outputs": [
        {
          "output_type": "stream",
          "text": [
            "Epoch 1/10\n",
            "1517/1517 [==============================] - 482s 307ms/step - loss: 0.5565 - accuracy: 0.6996 - val_loss: 0.3201 - val_accuracy: 0.8630\n",
            "Epoch 2/10\n",
            "1517/1517 [==============================] - 465s 307ms/step - loss: 0.2347 - accuracy: 0.9042 - val_loss: 0.2207 - val_accuracy: 0.9102\n",
            "Epoch 3/10\n",
            "1517/1517 [==============================] - 465s 306ms/step - loss: 0.1407 - accuracy: 0.9431 - val_loss: 0.1733 - val_accuracy: 0.9302\n",
            "Epoch 4/10\n",
            "1517/1517 [==============================] - 467s 308ms/step - loss: 0.0982 - accuracy: 0.9603 - val_loss: 0.1570 - val_accuracy: 0.9407\n",
            "Epoch 5/10\n",
            "1517/1517 [==============================] - 467s 308ms/step - loss: 0.0723 - accuracy: 0.9713 - val_loss: 0.1524 - val_accuracy: 0.9466\n",
            "Epoch 6/10\n",
            "1517/1517 [==============================] - 466s 307ms/step - loss: 0.0542 - accuracy: 0.9787 - val_loss: 0.1439 - val_accuracy: 0.9533\n",
            "Epoch 7/10\n",
            "1517/1517 [==============================] - 463s 305ms/step - loss: 0.0439 - accuracy: 0.9840 - val_loss: 0.1442 - val_accuracy: 0.9547\n",
            "Epoch 8/10\n",
            "1517/1517 [==============================] - 465s 307ms/step - loss: 0.0386 - accuracy: 0.9855 - val_loss: 0.1498 - val_accuracy: 0.9563\n",
            "Epoch 9/10\n",
            "1517/1517 [==============================] - 466s 307ms/step - loss: 0.0305 - accuracy: 0.9882 - val_loss: 0.1495 - val_accuracy: 0.9595\n",
            "Epoch 10/10\n",
            "1517/1517 [==============================] - 468s 308ms/step - loss: 0.0237 - accuracy: 0.9912 - val_loss: 0.1518 - val_accuracy: 0.9568\n"
          ],
          "name": "stdout"
        }
      ]
    },
    {
      "cell_type": "code",
      "metadata": {
        "id": "fEnYcIIHj3k9",
        "colab": {
          "base_uri": "https://localhost:8080/"
        },
        "outputId": "539c8685-bd2f-468b-b041-022367f24c61"
      },
      "source": [
        "print('Final training loss \\t', history.history['loss'][-1])\n",
        "print('Final training accuracy ', history.history['accuracy'][-1])"
      ],
      "execution_count": 33,
      "outputs": [
        {
          "output_type": "stream",
          "text": [
            "Final training loss \t 0.02764272689819336\n",
            "Final training accuracy  0.9894520044326782\n"
          ],
          "name": "stdout"
        }
      ]
    },
    {
      "cell_type": "code",
      "metadata": {
        "id": "HeH95mwOj3oh",
        "colab": {
          "base_uri": "https://localhost:8080/"
        },
        "outputId": "4244bd03-c3b2-4182-8d2c-291a04b2604a"
      },
      "source": [
        "testLoss, testAccuracy = model.evaluate( XTest_seq, YTest)"
      ],
      "execution_count": 28,
      "outputs": [
        {
          "output_type": "stream",
          "text": [
            "651/651 [==============================] - 37s 57ms/step - loss: 0.1518 - accuracy: 0.9568\n"
          ],
          "name": "stdout"
        }
      ]
    },
    {
      "cell_type": "code",
      "metadata": {
        "id": "VkQyeU27btT7",
        "colab": {
          "base_uri": "https://localhost:8080/"
        },
        "outputId": "9415557c-70f6-4056-95a3-2e9a48f7955b"
      },
      "source": [
        "print('Testing loss  \\t', testLoss)\n",
        "print('Testing accuracy ', testAccuracy)"
      ],
      "execution_count": 34,
      "outputs": [
        {
          "output_type": "stream",
          "text": [
            "Testing loss  \t 0.15178687870502472\n",
            "Testing accuracy  0.9568352103233337\n"
          ],
          "name": "stdout"
        }
      ]
    },
    {
      "cell_type": "code",
      "metadata": {
        "id": "9xGqQNTObwEu",
        "colab": {
          "base_uri": "https://localhost:8080/",
          "height": 573
        },
        "outputId": "1ef0d9e5-e49c-48b5-e282-dea2d6ae9d0f"
      },
      "source": [
        "# plotting training and validation loss\n",
        "\n",
        "loss = history.history['loss']\n",
        "val_loss = history.history['val_loss']\n",
        "epochs = range(1, len(loss) + 1)\n",
        "mplot.plot(epochs, loss, color='red', label='Training loss')\n",
        "mplot.plot(epochs, val_loss, color='green', label='Validation loss')\n",
        "mplot.title('Training and Validation loss')\n",
        "mplot.xlabel('Epochs')\n",
        "mplot.ylabel('Loss')\n",
        "mplot.legend()\n",
        "mplot.show()\n",
        "\n",
        "# plotting training and validation accuracy\n",
        "\n",
        "acc = history.history['accuracy']\n",
        "val_acc = history.history['val_accuracy']\n",
        "mplot.plot(epochs, acc, color='red', label='Training accuracy')\n",
        "mplot.plot(epochs, val_acc, color='green', label='Validation accuracy')\n",
        "mplot.title('Training and Validation accuracy')\n",
        "mplot.xlabel('Epochs')\n",
        "mplot.ylabel('Accuracy')\n",
        "mplot.legend()\n",
        "mplot.legend()\n",
        "mplot.show()"
      ],
      "execution_count": 35,
      "outputs": [
        {
          "output_type": "display_data",
          "data": {
            "image/png": "[encoded data removed]",
            "text/plain": [
              "<Figure size 432x288 with 1 Axes>"
            ]
          },
          "metadata": {
            "tags": [],
            "needs_background": "light"
          }
        },
        {
          "output_type": "display_data",
          "data": {
            "image/png": "[encoded data removed]",
            "text/plain": [
              "<Figure size 432x288 with 1 Axes>"
            ]
          },
          "metadata": {
            "tags": [],
            "needs_background": "light"
          }
        }
      ]
    },
    {
      "cell_type": "code",
      "metadata": {
        "id": "pLfSmHvdkANb"
      },
      "source": [
        "YPred = model.predict(XTest_seq)\n",
        "YPred = (YPred > 0.5)"
      ],
      "execution_count": 36,
      "outputs": []
    },
    {
      "cell_type": "code",
      "metadata": {
        "id": "rRPDXTIQkI43",
        "colab": {
          "base_uri": "https://localhost:8080/"
        },
        "outputId": "a144b355-9161-4b3d-ed22-5c534ff41727"
      },
      "source": [
        "print(classification_report(YTest, YPred))"
      ],
      "execution_count": 37,
      "outputs": [
        {
          "output_type": "stream",
          "text": [
            "              precision    recall  f1-score   support\n",
            "\n",
            "       False       0.95      0.96      0.96     10584\n",
            "        True       0.96      0.95      0.96     10220\n",
            "\n",
            "    accuracy                           0.96     20804\n",
            "   macro avg       0.96      0.96      0.96     20804\n",
            "weighted avg       0.96      0.96      0.96     20804\n",
            "\n"
          ],
          "name": "stdout"
        }
      ]
    }
  ]
}