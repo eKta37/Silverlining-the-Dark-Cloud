{
  "nbformat": 4,
  "nbformat_minor": 0,
  "metadata": {
    "colab": {
      "name": "Binary Classification (Classical ML Models).ipynb",
      "provenance": [],
      "collapsed_sections": []
    },
    "kernelspec": {
      "display_name": "Python 3",
      "name": "python3"
    },
    "language_info": {
      "name": "python"
    }
  },
  "cells": [
    {
      "cell_type": "code",
      "metadata": {
        "colab": {
          "base_uri": "https://localhost:8080/"
        },
        "id": "pyiGgw15jHjF",
        "outputId": "384e59ce-3432-4a74-c89a-7eb1c7a529f3"
      },
      "source": [
        "from google.colab import drive\n",
        "drive.mount('/content/gdrive')"
      ],
      "execution_count": null,
      "outputs": [
        {
          "output_type": "stream",
          "text": [
            "Mounted at /content/gdrive\n"
          ],
          "name": "stdout"
        }
      ]
    },
    {
      "cell_type": "code",
      "metadata": {
        "colab": {
          "base_uri": "https://localhost:8080/"
        },
        "id": "hPv8YxqdjJGk",
        "outputId": "b157d675-66cb-413c-80a8-84ada6c46edd"
      },
      "source": [
        "cd gdrive"
      ],
      "execution_count": null,
      "outputs": [
        {
          "output_type": "stream",
          "text": [
            "/content/gdrive\n"
          ],
          "name": "stdout"
        }
      ]
    },
    {
      "cell_type": "code",
      "metadata": {
        "colab": {
          "base_uri": "https://localhost:8080/"
        },
        "id": "-XxSpi1FjUUO",
        "outputId": "c30b0ebe-6a55-4328-bc88-c62172f7e498"
      },
      "source": [
        "cd MyDrive"
      ],
      "execution_count": null,
      "outputs": [
        {
          "output_type": "stream",
          "text": [
            "/content/gdrive/MyDrive\n"
          ],
          "name": "stdout"
        }
      ]
    },
    {
      "cell_type": "code",
      "metadata": {
        "colab": {
          "base_uri": "https://localhost:8080/"
        },
        "id": "oXKMFs6ejVD6",
        "outputId": "5586dce2-144b-47c8-acb1-2c57c737a88e"
      },
      "source": [
        "cd Colab datasets"
      ],
      "execution_count": null,
      "outputs": [
        {
          "output_type": "stream",
          "text": [
            "/content/gdrive/MyDrive/Colab datasets\n"
          ],
          "name": "stdout"
        }
      ]
    },
    {
      "cell_type": "code",
      "metadata": {
        "id": "25xa7u8JjZt3"
      },
      "source": [
        "import numpy as np\n",
        "import pandas as pd\n",
        "import seaborn as sb\n",
        "import matplotlib.pyplot as mplot\n",
        "\n",
        "from sklearn.model_selection import GridSearchCV\n",
        "from sklearn.linear_model import LogisticRegression\n",
        "from sklearn.feature_extraction.text import CountVectorizer, TfidfVectorizer, TfidfTransformer\n",
        "from sklearn.metrics import confusion_matrix\n",
        "from sklearn.pipeline import Pipeline\n",
        "from sklearn.naive_bayes import MultinomialNB\n",
        "from sklearn.metrics import classification_report\n",
        "from sklearn.ensemble import RandomForestClassifier\n",
        "from sklearn.svm import LinearSVC\n",
        "from sklearn.tree import DecisionTreeClassifier\n",
        "from sklearn import tree\n",
        "\n",
        "import math"
      ],
      "execution_count": null,
      "outputs": []
    },
    {
      "cell_type": "code",
      "metadata": {
        "colab": {
          "base_uri": "https://localhost:8080/",
          "height": 279
        },
        "id": "FLqHGj4sjaSv",
        "outputId": "8f64a934-5fc8-4b09-82b6-9b4f514bb694"
      },
      "source": [
        "Data = pd.read_csv(\"processed.csv\")\n",
        "Data.head()"
      ],
      "execution_count": null,
      "outputs": [
        {
          "output_type": "execute_result",
          "data": {
            "text/html": [
              "<div>\n",
              "<style scoped>\n",
              "    .dataframe tbody tr th:only-of-type {\n",
              "        vertical-align: middle;\n",
              "    }\n",
              "\n",
              "    .dataframe tbody tr th {\n",
              "        vertical-align: top;\n",
              "    }\n",
              "\n",
              "    .dataframe thead th {\n",
              "        text-align: right;\n",
              "    }\n",
              "</style>\n",
              "<table border=\"1\" class=\"dataframe\">\n",
              "  <thead>\n",
              "    <tr style=\"text-align: right;\">\n",
              "      <th></th>\n",
              "      <th>Category</th>\n",
              "      <th>CounterSpeech</th>\n",
              "      <th>commentText</th>\n",
              "      <th>date</th>\n",
              "      <th>hasReplies</th>\n",
              "      <th>id</th>\n",
              "      <th>likes</th>\n",
              "      <th>numberOfReplies</th>\n",
              "      <th>timestamp</th>\n",
              "      <th>user</th>\n",
              "      <th>Community</th>\n",
              "      <th>replies</th>\n",
              "    </tr>\n",
              "  </thead>\n",
              "  <tbody>\n",
              "    <tr>\n",
              "      <th>0</th>\n",
              "      <td>Default</td>\n",
              "      <td>False</td>\n",
              "      <td>last brave white women brain</td>\n",
              "      <td>5 years ago</td>\n",
              "      <td>0.0</td>\n",
              "      <td>Ugw-_mfnTo9SUniGGTN4AaABAg</td>\n",
              "      <td>0</td>\n",
              "      <td>0.0</td>\n",
              "      <td>2012-12-05 09:13:58.535</td>\n",
              "      <td>Ik hou van surfen</td>\n",
              "      <td>jews</td>\n",
              "      <td>[]</td>\n",
              "    </tr>\n",
              "    <tr>\n",
              "      <th>1</th>\n",
              "      <td>Default</td>\n",
              "      <td>False</td>\n",
              "      <td>amen pastor</td>\n",
              "      <td>2 years ago</td>\n",
              "      <td>0.0</td>\n",
              "      <td>UgiMOgO3u4akkngCoAEC</td>\n",
              "      <td>0</td>\n",
              "      <td>0.0</td>\n",
              "      <td>2015-12-05 04:47:36.420</td>\n",
              "      <td>julius smith</td>\n",
              "      <td>lgbt</td>\n",
              "      <td>[]</td>\n",
              "    </tr>\n",
              "    <tr>\n",
              "      <th>2</th>\n",
              "      <td>2,8</td>\n",
              "      <td>True</td>\n",
              "      <td>kind god hates people curses kind people belie...</td>\n",
              "      <td>4 years ago</td>\n",
              "      <td>0.0</td>\n",
              "      <td>UgzemCMbg-ri1ri7sCt4AaABAg</td>\n",
              "      <td>0</td>\n",
              "      <td>0.0</td>\n",
              "      <td>2013-12-05 09:16:05.293</td>\n",
              "      <td>gary wersley</td>\n",
              "      <td>jews</td>\n",
              "      <td>[]</td>\n",
              "    </tr>\n",
              "    <tr>\n",
              "      <th>3</th>\n",
              "      <td>8</td>\n",
              "      <td>True</td>\n",
              "      <td>question comment racist jews smartest group pe...</td>\n",
              "      <td>3 years ago</td>\n",
              "      <td>0.0</td>\n",
              "      <td>UghFhzrURF1svHgCoAEC</td>\n",
              "      <td>0</td>\n",
              "      <td>0.0</td>\n",
              "      <td>2015-01-05 16:27:25.589</td>\n",
              "      <td>Les Ordway</td>\n",
              "      <td>jews</td>\n",
              "      <td>[]</td>\n",
              "    </tr>\n",
              "    <tr>\n",
              "      <th>4</th>\n",
              "      <td>8</td>\n",
              "      <td>True</td>\n",
              "      <td>israel fail nothing new israel rebelious natio...</td>\n",
              "      <td>5 years ago</td>\n",
              "      <td>0.0</td>\n",
              "      <td>Ugzr50sQdH0Ictuex214AaABAg</td>\n",
              "      <td>0</td>\n",
              "      <td>0.0</td>\n",
              "      <td>2012-12-05 09:17:14.596</td>\n",
              "      <td>HamalachMichael</td>\n",
              "      <td>jews</td>\n",
              "      <td>[]</td>\n",
              "    </tr>\n",
              "  </tbody>\n",
              "</table>\n",
              "</div>"
            ],
            "text/plain": [
              "  Category  CounterSpeech  ... Community replies\n",
              "0  Default          False  ...      jews      []\n",
              "1  Default          False  ...      lgbt      []\n",
              "2      2,8           True  ...      jews      []\n",
              "3        8           True  ...      jews      []\n",
              "4        8           True  ...      jews      []\n",
              "\n",
              "[5 rows x 12 columns]"
            ]
          },
          "metadata": {
            "tags": []
          },
          "execution_count": 6
        }
      ]
    },
    {
      "cell_type": "code",
      "metadata": {
        "id": "yr5OIl10xISZ"
      },
      "source": [
        "Data.dropna(axis=0, inplace=True)"
      ],
      "execution_count": null,
      "outputs": []
    },
    {
      "cell_type": "markdown",
      "metadata": {
        "id": "H4mNZPwrk9W1"
      },
      "source": [
        "## Logistic Regression + Bag of Words Vector"
      ]
    },
    {
      "cell_type": "code",
      "metadata": {
        "id": "jnCGROxJkDMc"
      },
      "source": [
        "#import mglearn\n",
        "train_fraction = 0.7\n",
        "train_index = math.floor(Data.shape[0]*train_fraction)\n",
        "\n",
        "train_data = Data.loc[:train_index, 'commentText'].values\n",
        "train_label = Data.loc[:train_index, 'CounterSpeech'].values\n",
        "test_data = Data.loc[train_index:, 'commentText'].values\n",
        "test_label = Data.loc[train_index:, 'CounterSpeech'].values\n",
        "\n",
        "YTrain = train_label\n",
        "YTest = test_label"
      ],
      "execution_count": null,
      "outputs": []
    },
    {
      "cell_type": "code",
      "metadata": {
        "colab": {
          "base_uri": "https://localhost:8080/"
        },
        "id": "FGbvr-o1kLyt",
        "outputId": "2adcbcc4-6f88-4c2c-f669-1c5bcd882c0b"
      },
      "source": [
        "print(train_data)"
      ],
      "execution_count": null,
      "outputs": [
        {
          "output_type": "stream",
          "text": [
            "['last brave white women brain' 'amen pastor'\n",
            " 'kind god hates people curses kind people believe god roots islamicfundamentalism happen muslims xterminated jews find others god hates persecute strange religion seems religion hatred muslims seem hate faithwith religious beliefs never peace among mankind'\n",
            " ...\n",
            " 'hugh ridiculous nobodys making millions dollars invested propry stead snorting families would st fot life got money 💰 thy talent point jews nothing money 💰 buy blue chip tocks bnot ferraris'\n",
            " 'suit wearingiam pretty sure material came frm jews garment factory'\n",
            " 'course hes obvioudly major shareholder snd ceo theres exxon shell imb chevron walmart etc jewish cpsnies according uour criteria definitely real monrybis eith thr olf established wasps sre number successful jews catholiv vhurch lsrgest land osner vountry day jews run country money idnt true sndcbelirve tluou know problem rhevmondy rsrned homestly fsct modtbsre liberals support people like obama seems like foreign agent know anh somdjewush friends real nice served army dtreidandsa sndd harvey weinsteid soros make sick indtrad rxpresdingblovr kf america fot earned promote thingd poor dont represent eehsts bedt interest country bet sevond black moves neighborthood leave limousine liberals']\n"
          ],
          "name": "stdout"
        }
      ]
    },
    {
      "cell_type": "code",
      "metadata": {
        "colab": {
          "base_uri": "https://localhost:8080/"
        },
        "id": "ujSmQvbLkMXb",
        "outputId": "c07393f4-9b67-4517-cd90-17b8b32b1fd5"
      },
      "source": [
        "print(YTrain)"
      ],
      "execution_count": null,
      "outputs": [
        {
          "output_type": "stream",
          "text": [
            "[False False  True ...  True  True False]\n"
          ],
          "name": "stdout"
        }
      ]
    },
    {
      "cell_type": "code",
      "metadata": {
        "id": "GK4E3sJ3kPQN"
      },
      "source": [
        "vect = CountVectorizer(min_df=2, ngram_range=(1, 3))\n",
        "XTrain = vect.fit(train_data).transform(train_data)\n",
        "XTest = vect.transform(test_data)"
      ],
      "execution_count": null,
      "outputs": []
    },
    {
      "cell_type": "code",
      "metadata": {
        "colab": {
          "base_uri": "https://localhost:8080/"
        },
        "id": "kdif7n52kVIN",
        "outputId": "1ab8b758-a6d0-47b0-e0cc-65e3643d773e"
      },
      "source": [
        "print(\"Vocabulary size: {}\".format(len(vect.vocabulary_)))\n",
        "print(\"XTrain : \\n{}\".format(repr(XTrain)))\n",
        "print(\"XTest : \\n{}\".format(repr(XTest)))\n",
        "print(\"Features : {}\".format(len(vect.get_feature_names())))"
      ],
      "execution_count": null,
      "outputs": [
        {
          "output_type": "stream",
          "text": [
            "Vocabulary size: 24677\n",
            "XTrain : \n",
            "<9661x24677 sparse matrix of type '<class 'numpy.int64'>'\n",
            "\twith 187030 stored elements in Compressed Sparse Row format>\n",
            "XTest : \n",
            "<4209x24677 sparse matrix of type '<class 'numpy.int64'>'\n",
            "\twith 61858 stored elements in Compressed Sparse Row format>\n",
            "Features : 24677\n"
          ],
          "name": "stdout"
        }
      ]
    },
    {
      "cell_type": "code",
      "metadata": {
        "colab": {
          "base_uri": "https://localhost:8080/"
        },
        "id": "m1ZkI01bkXmh",
        "outputId": "e3cff8b4-c545-440c-f4f7-568eb4e18e67"
      },
      "source": [
        "parameter_grid = {'C': [0.1, 0.2, 0.3, 0.4, 0.5]}\n",
        "grid = GridSearchCV(LogisticRegression(), parameter_grid, cv = 5)\n",
        "grid.fit(XTrain, YTrain)"
      ],
      "execution_count": null,
      "outputs": [
        {
          "output_type": "execute_result",
          "data": {
            "text/plain": [
              "GridSearchCV(cv=5, error_score=nan,\n",
              "             estimator=LogisticRegression(C=1.0, class_weight=None, dual=False,\n",
              "                                          fit_intercept=True,\n",
              "                                          intercept_scaling=1, l1_ratio=None,\n",
              "                                          max_iter=100, multi_class='auto',\n",
              "                                          n_jobs=None, penalty='l2',\n",
              "                                          random_state=None, solver='lbfgs',\n",
              "                                          tol=0.0001, verbose=0,\n",
              "                                          warm_start=False),\n",
              "             iid='deprecated', n_jobs=None,\n",
              "             param_grid={'C': [0.1, 0.2, 0.3, 0.4, 0.5]},\n",
              "             pre_dispatch='2*n_jobs', refit=True, return_train_score=False,\n",
              "             scoring=None, verbose=0)"
            ]
          },
          "metadata": {
            "tags": []
          },
          "execution_count": 13
        }
      ]
    },
    {
      "cell_type": "code",
      "metadata": {
        "colab": {
          "base_uri": "https://localhost:8080/"
        },
        "id": "lTHhdb5nkYY8",
        "outputId": "b8beea55-89d2-44a3-9291-a709d0745cb1"
      },
      "source": [
        "print(\"Best cross-validation score: {}\".format(grid.best_score_))\n",
        "print(\"Best parameters: \", grid.best_params_)\n",
        "print(\"Best estimator: \", grid.best_estimator_)"
      ],
      "execution_count": null,
      "outputs": [
        {
          "output_type": "stream",
          "text": [
            "Best cross-validation score: 0.6974435515225906\n",
            "Best parameters:  {'C': 0.3}\n",
            "Best estimator:  LogisticRegression(C=0.3, class_weight=None, dual=False, fit_intercept=True,\n",
            "                   intercept_scaling=1, l1_ratio=None, max_iter=100,\n",
            "                   multi_class='auto', n_jobs=None, penalty='l2',\n",
            "                   random_state=None, solver='lbfgs', tol=0.0001, verbose=0,\n",
            "                   warm_start=False)\n"
          ],
          "name": "stdout"
        }
      ]
    },
    {
      "cell_type": "code",
      "metadata": {
        "colab": {
          "base_uri": "https://localhost:8080/"
        },
        "id": "5SDfGBXikbLm",
        "outputId": "8c2bc7f3-5f69-415c-f5bd-23ca82801174"
      },
      "source": [
        "lr = grid.best_estimator_\n",
        "lr.fit(XTrain, YTrain)"
      ],
      "execution_count": null,
      "outputs": [
        {
          "output_type": "execute_result",
          "data": {
            "text/plain": [
              "LogisticRegression(C=0.3, class_weight=None, dual=False, fit_intercept=True,\n",
              "                   intercept_scaling=1, l1_ratio=None, max_iter=100,\n",
              "                   multi_class='auto', n_jobs=None, penalty='l2',\n",
              "                   random_state=None, solver='lbfgs', tol=0.0001, verbose=0,\n",
              "                   warm_start=False)"
            ]
          },
          "metadata": {
            "tags": []
          },
          "execution_count": 15
        }
      ]
    },
    {
      "cell_type": "code",
      "metadata": {
        "colab": {
          "base_uri": "https://localhost:8080/"
        },
        "id": "xSxmYRixkgcn",
        "outputId": "e8ff3edb-fddb-4680-8695-92e43346e0e8"
      },
      "source": [
        "lr.predict(XTest)\n",
        "print(\"Score: {}\".format(lr.score(XTest, YTest)))"
      ],
      "execution_count": null,
      "outputs": [
        {
          "output_type": "stream",
          "text": [
            "Score: 0.62984081729627\n"
          ],
          "name": "stdout"
        }
      ]
    },
    {
      "cell_type": "code",
      "metadata": {
        "colab": {
          "base_uri": "https://localhost:8080/"
        },
        "id": "z2rDTtHjkjQ6",
        "outputId": "dc670585-ee80-483a-d012-52312228fb3a"
      },
      "source": [
        "ypred = lr.predict(XTest)\n",
        "print(classification_report(YTest,ypred))"
      ],
      "execution_count": null,
      "outputs": [
        {
          "output_type": "stream",
          "text": [
            "              precision    recall  f1-score   support\n",
            "\n",
            "       False       0.48      0.83      0.61      1478\n",
            "        True       0.85      0.52      0.65      2731\n",
            "\n",
            "    accuracy                           0.63      4209\n",
            "   macro avg       0.67      0.67      0.63      4209\n",
            "weighted avg       0.72      0.63      0.63      4209\n",
            "\n"
          ],
          "name": "stdout"
        }
      ]
    },
    {
      "cell_type": "markdown",
      "metadata": {
        "id": "8SG4pbdqlCuI"
      },
      "source": [
        "## Random Forest + Bag of Words Vector"
      ]
    },
    {
      "cell_type": "code",
      "metadata": {
        "id": "IruN_mATlHKw"
      },
      "source": [
        "train_data_features=XTrain.toarray()\n",
        "forest = RandomForestClassifier(n_estimators = 150) \n",
        "forest = forest.fit( train_data_features, YTrain)"
      ],
      "execution_count": null,
      "outputs": []
    },
    {
      "cell_type": "code",
      "metadata": {
        "id": "IwPs1pZElSEl",
        "colab": {
          "base_uri": "https://localhost:8080/"
        },
        "outputId": "be83e03f-579e-41d4-9e35-c0950352fc7e"
      },
      "source": [
        "test_data_features=XTest.toarray()\n",
        "result = forest.predict(test_data_features)\n",
        "print(result)"
      ],
      "execution_count": null,
      "outputs": [
        {
          "output_type": "stream",
          "text": [
            "[False False False ... False False  True]\n"
          ],
          "name": "stdout"
        }
      ]
    },
    {
      "cell_type": "code",
      "metadata": {
        "id": "qFnE9z59lVnJ",
        "colab": {
          "base_uri": "https://localhost:8080/"
        },
        "outputId": "8220372f-dce1-4f91-994c-5526667efd1a"
      },
      "source": [
        "print(classification_report(YTest,result))"
      ],
      "execution_count": null,
      "outputs": [
        {
          "output_type": "stream",
          "text": [
            "              precision    recall  f1-score   support\n",
            "\n",
            "       False       0.48      0.78      0.59      1478\n",
            "        True       0.82      0.54      0.65      2731\n",
            "\n",
            "    accuracy                           0.63      4209\n",
            "   macro avg       0.65      0.66      0.62      4209\n",
            "weighted avg       0.70      0.63      0.63      4209\n",
            "\n"
          ],
          "name": "stdout"
        }
      ]
    },
    {
      "cell_type": "markdown",
      "metadata": {
        "id": "kyNmjWqdludR"
      },
      "source": [
        "## Multinomial Naive Bayes + Bag of Words Vector"
      ]
    },
    {
      "cell_type": "code",
      "metadata": {
        "id": "bmPlkdL1lxCv",
        "colab": {
          "base_uri": "https://localhost:8080/"
        },
        "outputId": "07d4a2a5-7f83-4317-89cf-e8bcb0e6e120"
      },
      "source": [
        "\n",
        "naive = MultinomialNB()\n",
        "classifier_naive = naive.fit(XTrain,YTrain)\n",
        "predict_naive = classifier_naive.predict(XTest)\n",
        "\n",
        "print(predict_naive)"
      ],
      "execution_count": null,
      "outputs": [
        {
          "output_type": "stream",
          "text": [
            "[False False False ... False  True  True]\n"
          ],
          "name": "stdout"
        }
      ]
    },
    {
      "cell_type": "code",
      "metadata": {
        "id": "7l4mDMLN-EuR",
        "colab": {
          "base_uri": "https://localhost:8080/"
        },
        "outputId": "d272379c-137f-45f2-9b6c-2de78a2a3b8a"
      },
      "source": [
        "print(classification_report(YTest,predict_naive))"
      ],
      "execution_count": null,
      "outputs": [
        {
          "output_type": "stream",
          "text": [
            "              precision    recall  f1-score   support\n",
            "\n",
            "       False       0.52      0.73      0.61      1478\n",
            "        True       0.82      0.63      0.71      2731\n",
            "\n",
            "    accuracy                           0.67      4209\n",
            "   macro avg       0.67      0.68      0.66      4209\n",
            "weighted avg       0.71      0.67      0.68      4209\n",
            "\n"
          ],
          "name": "stdout"
        }
      ]
    },
    {
      "cell_type": "markdown",
      "metadata": {
        "id": "0-F8tr7huycQ"
      },
      "source": [
        "## Support Vector Machine + Bag of Words Vector"
      ]
    },
    {
      "cell_type": "code",
      "metadata": {
        "id": "ncL_d2B8uy3Q",
        "colab": {
          "base_uri": "https://localhost:8080/"
        },
        "outputId": "1ffbae44-9b57-4d68-98c0-3716ddba5f81"
      },
      "source": [
        "svm = LinearSVC()\n",
        "classifier_SVM = svm.fit(XTrain, YTrain)\n",
        "predict_SVM = svm.predict(XTest)\n",
        "print(predict_SVM)\n",
        "#print(classification_report(YTest, predict_SVM ))\n",
        "logreg = LogisticRegression(dual=False)"
      ],
      "execution_count": null,
      "outputs": [
        {
          "output_type": "stream",
          "text": [
            "[False False False ... False  True  True]\n"
          ],
          "name": "stdout"
        }
      ]
    },
    {
      "cell_type": "code",
      "metadata": {
        "id": "iqMtcmz5wbnT",
        "colab": {
          "base_uri": "https://localhost:8080/"
        },
        "outputId": "ac7c4775-df35-466f-db7b-8ac73efab53a"
      },
      "source": [
        "print(classification_report(YTest,predict_SVM))"
      ],
      "execution_count": null,
      "outputs": [
        {
          "output_type": "stream",
          "text": [
            "              precision    recall  f1-score   support\n",
            "\n",
            "       False       0.47      0.74      0.58      1478\n",
            "        True       0.80      0.55      0.65      2731\n",
            "\n",
            "    accuracy                           0.62      4209\n",
            "   macro avg       0.64      0.65      0.62      4209\n",
            "weighted avg       0.69      0.62      0.63      4209\n",
            "\n"
          ],
          "name": "stdout"
        }
      ]
    },
    {
      "cell_type": "markdown",
      "metadata": {
        "id": "oDshYGnr0FdL"
      },
      "source": [
        "## Decision Tree + Bag of Words Vector"
      ]
    },
    {
      "cell_type": "code",
      "metadata": {
        "id": "r3Pk8hoCzkkd",
        "colab": {
          "base_uri": "https://localhost:8080/"
        },
        "outputId": "5dc37278-bb1c-46df-b05d-bf54ffede525"
      },
      "source": [
        "dt = DecisionTreeClassifier()\n",
        "dt.fit(XTrain, YTrain)\n",
        "tree_pred = dt.predict(XTest)\n",
        "print(tree_pred)"
      ],
      "execution_count": null,
      "outputs": [
        {
          "output_type": "stream",
          "text": [
            "[False False  True ... False False  True]\n"
          ],
          "name": "stdout"
        }
      ]
    },
    {
      "cell_type": "code",
      "metadata": {
        "id": "S0qclqVO0v1a",
        "colab": {
          "base_uri": "https://localhost:8080/"
        },
        "outputId": "b7527570-56f2-4bd3-e220-4f328061de8f"
      },
      "source": [
        "print(classification_report(YTest, tree_pred))"
      ],
      "execution_count": null,
      "outputs": [
        {
          "output_type": "stream",
          "text": [
            "              precision    recall  f1-score   support\n",
            "\n",
            "       False       0.46      0.71      0.55      1478\n",
            "        True       0.77      0.54      0.64      2731\n",
            "\n",
            "    accuracy                           0.60      4209\n",
            "   macro avg       0.62      0.63      0.60      4209\n",
            "weighted avg       0.66      0.60      0.61      4209\n",
            "\n"
          ],
          "name": "stdout"
        }
      ]
    },
    {
      "cell_type": "markdown",
      "metadata": {
        "id": "58UYy48e2daD"
      },
      "source": [
        "## Logistic Regression + TF-IDF"
      ]
    },
    {
      "cell_type": "code",
      "metadata": {
        "id": "Vty3r3Gs2g7I"
      },
      "source": [
        "tfidf = TfidfVectorizer(ngram_range=(1, 3), max_df=0.9, min_df=5, sublinear_tf=True)\n",
        "XTrain = tfidf.fit(train_data).transform(train_data)\n",
        "XTest = tfidf.transform(test_data)"
      ],
      "execution_count": null,
      "outputs": []
    },
    {
      "cell_type": "code",
      "metadata": {
        "id": "6Uymv5mZ2hH4",
        "colab": {
          "base_uri": "https://localhost:8080/"
        },
        "outputId": "336fef32-b801-4a22-a917-30be5767a348"
      },
      "source": [
        "print(\"Vocabulary size: {}\".format(len(tfidf.vocabulary_)))\n",
        "print(\"XTrain : \\n{}\".format(repr(XTrain)))\n",
        "print(\"XTest : \\n{}\".format(repr(XTest)))\n",
        "print(\"Features : {}\".format(len(tfidf.get_feature_names())))"
      ],
      "execution_count": null,
      "outputs": [
        {
          "output_type": "stream",
          "text": [
            "Vocabulary size: 5733\n",
            "XTrain : \n",
            "<9661x5733 sparse matrix of type '<class 'numpy.float64'>'\n",
            "\twith 141418 stored elements in Compressed Sparse Row format>\n",
            "XTest : \n",
            "<4209x5733 sparse matrix of type '<class 'numpy.float64'>'\n",
            "\twith 53161 stored elements in Compressed Sparse Row format>\n",
            "Features : 5733\n"
          ],
          "name": "stdout"
        }
      ]
    },
    {
      "cell_type": "code",
      "metadata": {
        "id": "LyEaoS8w2hJv",
        "colab": {
          "base_uri": "https://localhost:8080/"
        },
        "outputId": "1842e144-8976-40bc-be27-af101ac15e5f"
      },
      "source": [
        "parameter_grid = {'C': [7.9,8,8.25]}\n",
        "grid = GridSearchCV(LogisticRegression(max_iter = 300), parameter_grid, cv = 5)\n",
        "grid.fit(XTrain, YTrain)\n",
        "print(\"Best cross-validation score: {}\".format(grid.best_score_))\n",
        "print(\"Best parameters: \", grid.best_params_)\n",
        "print(\"Best estimator: \", grid.best_estimator_)"
      ],
      "execution_count": null,
      "outputs": [
        {
          "output_type": "stream",
          "text": [
            "Best cross-validation score: 0.6962019045905323\n",
            "Best parameters:  {'C': 7.9}\n",
            "Best estimator:  LogisticRegression(C=7.9, class_weight=None, dual=False, fit_intercept=True,\n",
            "                   intercept_scaling=1, l1_ratio=None, max_iter=300,\n",
            "                   multi_class='auto', n_jobs=None, penalty='l2',\n",
            "                   random_state=None, solver='lbfgs', tol=0.0001, verbose=0,\n",
            "                   warm_start=False)\n"
          ],
          "name": "stdout"
        }
      ]
    },
    {
      "cell_type": "code",
      "metadata": {
        "id": "aa8z2F4C2hP_",
        "colab": {
          "base_uri": "https://localhost:8080/"
        },
        "outputId": "8bfffc9b-3ab4-43ff-cd18-d10cfb7bd8a3"
      },
      "source": [
        "lr = grid.best_estimator_\n",
        "lr.fit(XTrain, YTrain)"
      ],
      "execution_count": null,
      "outputs": [
        {
          "output_type": "execute_result",
          "data": {
            "text/plain": [
              "LogisticRegression(C=7.9, class_weight=None, dual=False, fit_intercept=True,\n",
              "                   intercept_scaling=1, l1_ratio=None, max_iter=300,\n",
              "                   multi_class='auto', n_jobs=None, penalty='l2',\n",
              "                   random_state=None, solver='lbfgs', tol=0.0001, verbose=0,\n",
              "                   warm_start=False)"
            ]
          },
          "metadata": {
            "tags": []
          },
          "execution_count": 33
        }
      ]
    },
    {
      "cell_type": "code",
      "metadata": {
        "id": "I6-HxkrE2hSG",
        "colab": {
          "base_uri": "https://localhost:8080/"
        },
        "outputId": "66c4aa6c-0498-435a-f824-0f0855acae5c"
      },
      "source": [
        "lr.predict(XTest)\n",
        "print(\"Score: {}\".format(lr.score(XTest, YTest)))"
      ],
      "execution_count": null,
      "outputs": [
        {
          "output_type": "stream",
          "text": [
            "Score: 0.6391066761701116\n"
          ],
          "name": "stdout"
        }
      ]
    },
    {
      "cell_type": "code",
      "metadata": {
        "id": "8tgZKSK82heo",
        "colab": {
          "base_uri": "https://localhost:8080/"
        },
        "outputId": "63f657b2-d515-4e73-838e-eefb338312b0"
      },
      "source": [
        "ypred = lr.predict(XTest)\n",
        "print(classification_report(YTest, ypred))"
      ],
      "execution_count": null,
      "outputs": [
        {
          "output_type": "stream",
          "text": [
            "              precision    recall  f1-score   support\n",
            "\n",
            "       False       0.49      0.75      0.59      1478\n",
            "        True       0.81      0.58      0.68      2731\n",
            "\n",
            "    accuracy                           0.64      4209\n",
            "   macro avg       0.65      0.66      0.63      4209\n",
            "weighted avg       0.70      0.64      0.65      4209\n",
            "\n"
          ],
          "name": "stdout"
        }
      ]
    },
    {
      "cell_type": "markdown",
      "metadata": {
        "id": "WUKyrW2C4uw6"
      },
      "source": [
        "## Multinomial Naive Bayes + TF-IDF"
      ]
    },
    {
      "cell_type": "code",
      "metadata": {
        "id": "NjZDLAzP3iNh",
        "colab": {
          "base_uri": "https://localhost:8080/"
        },
        "outputId": "a6723b81-ed2f-4455-bfd2-5cba75865c3e"
      },
      "source": [
        "naive = MultinomialNB()\n",
        "classifier_naive = naive.fit(XTrain,YTrain)\n",
        "predict_naive = classifier_naive.predict(XTest)\n",
        "\n",
        "print(predict_naive)"
      ],
      "execution_count": null,
      "outputs": [
        {
          "output_type": "stream",
          "text": [
            "[False False False ... False  True  True]\n"
          ],
          "name": "stdout"
        }
      ]
    },
    {
      "cell_type": "code",
      "metadata": {
        "id": "q9kmbawM46JY",
        "colab": {
          "base_uri": "https://localhost:8080/"
        },
        "outputId": "bd7b65f6-20c2-4f93-aeb7-deff4af3838a"
      },
      "source": [
        "print(classification_report(YTest, predict_naive))"
      ],
      "execution_count": null,
      "outputs": [
        {
          "output_type": "stream",
          "text": [
            "              precision    recall  f1-score   support\n",
            "\n",
            "       False       0.49      0.84      0.62      1478\n",
            "        True       0.86      0.52      0.65      2731\n",
            "\n",
            "    accuracy                           0.63      4209\n",
            "   macro avg       0.67      0.68      0.63      4209\n",
            "weighted avg       0.73      0.63      0.64      4209\n",
            "\n"
          ],
          "name": "stdout"
        }
      ]
    },
    {
      "cell_type": "markdown",
      "metadata": {
        "id": "-SMiHUKp6Mk6"
      },
      "source": [
        "## Support Vector Machine + TF-IDF"
      ]
    },
    {
      "cell_type": "code",
      "metadata": {
        "colab": {
          "base_uri": "https://localhost:8080/"
        },
        "id": "pguZk_4p6Rdn",
        "outputId": "715ce166-c4be-4c0d-e8d3-a3d1d65605c0"
      },
      "source": [
        "svm = LinearSVC()\n",
        "classifier_SVM = svm.fit(XTrain, YTrain)\n",
        "predict_SVM = svm.predict(XTest)\n",
        "print(predict_SVM)\n",
        "logreg = LogisticRegression(dual=False)"
      ],
      "execution_count": null,
      "outputs": [
        {
          "output_type": "stream",
          "text": [
            "[False False False ... False  True  True]\n"
          ],
          "name": "stdout"
        }
      ]
    },
    {
      "cell_type": "code",
      "metadata": {
        "colab": {
          "base_uri": "https://localhost:8080/"
        },
        "id": "xQPjY6Dl6V__",
        "outputId": "60ed4ebe-6bf0-4287-ea6a-902258da1ab5"
      },
      "source": [
        "print(classification_report(YTest, predict_SVM))"
      ],
      "execution_count": null,
      "outputs": [
        {
          "output_type": "stream",
          "text": [
            "              precision    recall  f1-score   support\n",
            "\n",
            "       False       0.49      0.74      0.59      1478\n",
            "        True       0.80      0.58      0.68      2731\n",
            "\n",
            "    accuracy                           0.64      4209\n",
            "   macro avg       0.65      0.66      0.63      4209\n",
            "weighted avg       0.69      0.64      0.65      4209\n",
            "\n"
          ],
          "name": "stdout"
        }
      ]
    },
    {
      "cell_type": "markdown",
      "metadata": {
        "id": "o-QnM8bJ6sVz"
      },
      "source": [
        "## Decision Tree + TF-IDF"
      ]
    },
    {
      "cell_type": "code",
      "metadata": {
        "colab": {
          "base_uri": "https://localhost:8080/"
        },
        "id": "_sYeF3n66kkf",
        "outputId": "fb1edf58-7bd7-4f89-e5ff-1141f74ab93f"
      },
      "source": [
        "dt = DecisionTreeClassifier()\n",
        "dt.fit(XTrain, YTrain)\n",
        "tree_pred = dt.predict(XTest)\n",
        "print(tree_pred)"
      ],
      "execution_count": null,
      "outputs": [
        {
          "output_type": "stream",
          "text": [
            "[False False  True ... False False  True]\n"
          ],
          "name": "stdout"
        }
      ]
    },
    {
      "cell_type": "code",
      "metadata": {
        "colab": {
          "base_uri": "https://localhost:8080/"
        },
        "id": "qhhNoShy63s2",
        "outputId": "04ce7ec7-79d5-4d99-e52f-4ccd8731aa8b"
      },
      "source": [
        "print(classification_report(YTest, tree_pred))"
      ],
      "execution_count": null,
      "outputs": [
        {
          "output_type": "stream",
          "text": [
            "              precision    recall  f1-score   support\n",
            "\n",
            "       False       0.45      0.65      0.53      1478\n",
            "        True       0.75      0.57      0.65      2731\n",
            "\n",
            "    accuracy                           0.60      4209\n",
            "   macro avg       0.60      0.61      0.59      4209\n",
            "weighted avg       0.64      0.60      0.60      4209\n",
            "\n"
          ],
          "name": "stdout"
        }
      ]
    },
    {
      "cell_type": "markdown",
      "metadata": {
        "id": "UW9AGqw17Txd"
      },
      "source": [
        "## Random Forest + TF-IDF"
      ]
    },
    {
      "cell_type": "code",
      "metadata": {
        "id": "6tRkFI437ExM"
      },
      "source": [
        "train_data_features=XTrain.toarray()\n",
        "forest = RandomForestClassifier(n_estimators = 150) \n",
        "forest = forest.fit( train_data_features, YTrain)"
      ],
      "execution_count": null,
      "outputs": []
    },
    {
      "cell_type": "code",
      "metadata": {
        "colab": {
          "base_uri": "https://localhost:8080/"
        },
        "id": "Z7uOL_Hg7ad4",
        "outputId": "9df3ed7d-6417-40e2-bf84-b89bbdb95e3b"
      },
      "source": [
        "test_data_features=XTest.toarray()\n",
        "ypred = forest.predict(test_data_features)\n",
        "print(ypred)"
      ],
      "execution_count": null,
      "outputs": [
        {
          "output_type": "stream",
          "text": [
            "[False False False ... False False  True]\n"
          ],
          "name": "stdout"
        }
      ]
    },
    {
      "cell_type": "code",
      "metadata": {
        "colab": {
          "base_uri": "https://localhost:8080/"
        },
        "id": "4LSf32JS7dbb",
        "outputId": "7dae383e-7ac7-45d5-8fc5-08000f066cb8"
      },
      "source": [
        "print(classification_report(YTest, ypred))"
      ],
      "execution_count": null,
      "outputs": [
        {
          "output_type": "stream",
          "text": [
            "              precision    recall  f1-score   support\n",
            "\n",
            "       False       0.48      0.79      0.60      1478\n",
            "        True       0.83      0.53      0.65      2731\n",
            "\n",
            "    accuracy                           0.62      4209\n",
            "   macro avg       0.65      0.66      0.62      4209\n",
            "weighted avg       0.70      0.62      0.63      4209\n",
            "\n"
          ],
          "name": "stdout"
        }
      ]
    }
  ]
}