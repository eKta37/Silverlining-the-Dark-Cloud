{
  "nbformat": 4,
  "nbformat_minor": 0,
  "metadata": {
    "colab": {
      "name": "Binary Classification (CNN).ipynb",
      "provenance": [],
      "collapsed_sections": []
    },
    "kernelspec": {
      "name": "python3",
      "display_name": "Python 3"
    },
    "language_info": {
      "name": "python"
    }
  },
  "cells": [
    {
      "cell_type": "code",
      "metadata": {
        "id": "Va3FS41telpZ",
        "colab": {
          "base_uri": "https://localhost:8080/"
        },
        "outputId": "35c6cc50-ac31-405d-d1c5-06ff007359f4"
      },
      "source": [
        "from google.colab import drive\n",
        "drive.mount('/content/gdrive')"
      ],
      "execution_count": null,
      "outputs": [
        {
          "output_type": "stream",
          "text": [
            "Drive already mounted at /content/gdrive; to attempt to forcibly remount, call drive.mount(\"/content/gdrive\", force_remount=True).\n"
          ],
          "name": "stdout"
        }
      ]
    },
    {
      "cell_type": "code",
      "metadata": {
        "id": "Ki_nW7lYimyz",
        "colab": {
          "base_uri": "https://localhost:8080/"
        },
        "outputId": "040ed1f0-309e-4e6a-952d-978a2c6d8753"
      },
      "source": [
        "cd gdrive"
      ],
      "execution_count": null,
      "outputs": [
        {
          "output_type": "stream",
          "text": [
            "[Errno 2] No such file or directory: 'gdrive'\n",
            "/content/gdrive\n"
          ],
          "name": "stdout"
        }
      ]
    },
    {
      "cell_type": "code",
      "metadata": {
        "id": "EJFIoVr_im1O",
        "colab": {
          "base_uri": "https://localhost:8080/"
        },
        "outputId": "bb513ca8-db54-466e-81c1-bd772456e996"
      },
      "source": [
        "cd MyDrive"
      ],
      "execution_count": null,
      "outputs": [
        {
          "output_type": "stream",
          "text": [
            "/content/gdrive/MyDrive\n"
          ],
          "name": "stdout"
        }
      ]
    },
    {
      "cell_type": "code",
      "metadata": {
        "id": "n2DSkHslim4b",
        "colab": {
          "base_uri": "https://localhost:8080/"
        },
        "outputId": "2ce3a927-4c7d-41e0-97fa-52d3998f0af3"
      },
      "source": [
        "cd Colab datasets"
      ],
      "execution_count": null,
      "outputs": [
        {
          "output_type": "stream",
          "text": [
            "/content/gdrive/MyDrive/Colab datasets\n"
          ],
          "name": "stdout"
        }
      ]
    },
    {
      "cell_type": "code",
      "metadata": {
        "id": "0YtkQF-Jim6M"
      },
      "source": [
        "import numpy as np\n",
        "import pandas as pd\n",
        "import seaborn as sb\n",
        "import matplotlib.pyplot as mplot\n",
        "\n",
        "from __future__ import division, print_function\n",
        "from gensim import models\n",
        "from keras.callbacks import ModelCheckpoint\n",
        "from keras.layers import Dense, Dropout, Reshape, Flatten, concatenate, Input, Conv1D, GlobalMaxPooling1D, Embedding\n",
        "from keras.layers.recurrent import LSTM\n",
        "from keras.models import Sequential\n",
        "from keras.preprocessing.text import Tokenizer\n",
        "from keras.preprocessing.sequence import pad_sequences\n",
        "from keras.models import Model\n",
        "from sklearn.model_selection import train_test_split\n",
        "\n",
        "from sklearn.metrics import confusion_matrix\n",
        "from sklearn.metrics import classification_report\n",
        "\n",
        "import math"
      ],
      "execution_count": null,
      "outputs": []
    },
    {
      "cell_type": "code",
      "metadata": {
        "id": "2FQ7pZEzim-Y"
      },
      "source": [
        "XTrain=pd.read_csv(\"x_train_data.csv\")\n",
        "XTest=pd.read_csv(\"x_test_data.csv\")\n",
        "YTrain=pd.read_csv(\"y_train.csv\")\n",
        "YTest=pd.read_csv(\"y_test.csv\")"
      ],
      "execution_count": null,
      "outputs": []
    },
    {
      "cell_type": "code",
      "metadata": {
        "id": "luJ9jDS_inAb",
        "colab": {
          "base_uri": "https://localhost:8080/",
          "height": 287
        },
        "outputId": "76864337-5032-4a79-dc30-ad19ddd05a9b"
      },
      "source": [
        "XTrain.head(5)"
      ],
      "execution_count": null,
      "outputs": [
        {
          "output_type": "execute_result",
          "data": {
            "text/html": [
              "<div>\n",
              "<style scoped>\n",
              "    .dataframe tbody tr th:only-of-type {\n",
              "        vertical-align: middle;\n",
              "    }\n",
              "\n",
              "    .dataframe tbody tr th {\n",
              "        vertical-align: top;\n",
              "    }\n",
              "\n",
              "    .dataframe thead th {\n",
              "        text-align: right;\n",
              "    }\n",
              "</style>\n",
              "<table border=\"1\" class=\"dataframe\">\n",
              "  <thead>\n",
              "    <tr style=\"text-align: right;\">\n",
              "      <th></th>\n",
              "      <th>Category</th>\n",
              "      <th>CounterSpeech</th>\n",
              "      <th>commentText</th>\n",
              "      <th>date</th>\n",
              "      <th>hasReplies</th>\n",
              "      <th>id</th>\n",
              "      <th>likes</th>\n",
              "      <th>numberOfReplies</th>\n",
              "      <th>timestamp</th>\n",
              "      <th>user</th>\n",
              "      <th>Community</th>\n",
              "      <th>replies</th>\n",
              "    </tr>\n",
              "  </thead>\n",
              "  <tbody>\n",
              "    <tr>\n",
              "      <th>0</th>\n",
              "      <td>Default</td>\n",
              "      <td>False</td>\n",
              "      <td>wasnt even surprised said actors didnt believe...</td>\n",
              "      <td>3 years ago</td>\n",
              "      <td>0.0</td>\n",
              "      <td>Ugj9_a6p-pCTkHgCoAEC</td>\n",
              "      <td>0</td>\n",
              "      <td>0.0</td>\n",
              "      <td>2015-01-05 16:27:02.809</td>\n",
              "      <td>SvAg</td>\n",
              "      <td>jews</td>\n",
              "      <td>[]</td>\n",
              "    </tr>\n",
              "    <tr>\n",
              "      <th>1</th>\n",
              "      <td>5</td>\n",
              "      <td>True</td>\n",
              "      <td>going done ball group person evil get excuse m...</td>\n",
              "      <td>7 years ago</td>\n",
              "      <td>0.0</td>\n",
              "      <td>UgweYtkh98TTUX156M54AaABAg</td>\n",
              "      <td>0</td>\n",
              "      <td>0.0</td>\n",
              "      <td>2011-12-06 09:43:19.992</td>\n",
              "      <td>Neojhun</td>\n",
              "      <td>black</td>\n",
              "      <td>[]</td>\n",
              "    </tr>\n",
              "    <tr>\n",
              "      <th>2</th>\n",
              "      <td>Default</td>\n",
              "      <td>False</td>\n",
              "      <td>gay alteration ur stupid mind forced give sata...</td>\n",
              "      <td>5 years ago</td>\n",
              "      <td>0.0</td>\n",
              "      <td>Ugw6ESunxYnBZu05sfR4AaABAg</td>\n",
              "      <td>0</td>\n",
              "      <td>0.0</td>\n",
              "      <td>2012-12-05 04:48:03.679</td>\n",
              "      <td>tellit2yastr8</td>\n",
              "      <td>lgbt</td>\n",
              "      <td>[]</td>\n",
              "    </tr>\n",
              "    <tr>\n",
              "      <th>3</th>\n",
              "      <td>Default</td>\n",
              "      <td>False</td>\n",
              "      <td>forgiveness something separation changed news ...</td>\n",
              "      <td>5 months ago</td>\n",
              "      <td>0.0</td>\n",
              "      <td>Ugj_TcgR6vXTZHgCoAEC</td>\n",
              "      <td>0</td>\n",
              "      <td>0.0</td>\n",
              "      <td>2017-07-05 04:41:28.158</td>\n",
              "      <td>john dennis</td>\n",
              "      <td>lgbt</td>\n",
              "      <td>[]</td>\n",
              "    </tr>\n",
              "    <tr>\n",
              "      <th>4</th>\n",
              "      <td>5,9</td>\n",
              "      <td>True</td>\n",
              "      <td>bitches racist hate backbite fucking</td>\n",
              "      <td>4 months ago</td>\n",
              "      <td>0.0</td>\n",
              "      <td>UgyHINlb_aSDTD7nK9Z4AaABAg</td>\n",
              "      <td>0</td>\n",
              "      <td>0.0</td>\n",
              "      <td>2018-08-13 05:48:20.758</td>\n",
              "      <td>gaby gonzalez</td>\n",
              "      <td>black</td>\n",
              "      <td>[]</td>\n",
              "    </tr>\n",
              "  </tbody>\n",
              "</table>\n",
              "</div>"
            ],
            "text/plain": [
              "  Category  CounterSpeech  ... Community replies\n",
              "0  Default          False  ...      jews      []\n",
              "1        5           True  ...     black      []\n",
              "2  Default          False  ...      lgbt      []\n",
              "3  Default          False  ...      lgbt      []\n",
              "4      5,9           True  ...     black      []\n",
              "\n",
              "[5 rows x 12 columns]"
            ]
          },
          "metadata": {
            "tags": []
          },
          "execution_count": 9
        }
      ]
    },
    {
      "cell_type": "code",
      "metadata": {
        "id": "Q1hHsgxWinFw",
        "colab": {
          "base_uri": "https://localhost:8080/",
          "height": 287
        },
        "outputId": "6db51443-cfc0-4b5f-ada8-827f007bbcc1"
      },
      "source": [
        "XTest.head(5)"
      ],
      "execution_count": null,
      "outputs": [
        {
          "output_type": "execute_result",
          "data": {
            "text/html": [
              "<div>\n",
              "<style scoped>\n",
              "    .dataframe tbody tr th:only-of-type {\n",
              "        vertical-align: middle;\n",
              "    }\n",
              "\n",
              "    .dataframe tbody tr th {\n",
              "        vertical-align: top;\n",
              "    }\n",
              "\n",
              "    .dataframe thead th {\n",
              "        text-align: right;\n",
              "    }\n",
              "</style>\n",
              "<table border=\"1\" class=\"dataframe\">\n",
              "  <thead>\n",
              "    <tr style=\"text-align: right;\">\n",
              "      <th></th>\n",
              "      <th>Category</th>\n",
              "      <th>CounterSpeech</th>\n",
              "      <th>commentText</th>\n",
              "      <th>date</th>\n",
              "      <th>hasReplies</th>\n",
              "      <th>id</th>\n",
              "      <th>likes</th>\n",
              "      <th>numberOfReplies</th>\n",
              "      <th>timestamp</th>\n",
              "      <th>user</th>\n",
              "      <th>Community</th>\n",
              "      <th>replies</th>\n",
              "    </tr>\n",
              "  </thead>\n",
              "  <tbody>\n",
              "    <tr>\n",
              "      <th>0</th>\n",
              "      <td>Default</td>\n",
              "      <td>False</td>\n",
              "      <td>truth god</td>\n",
              "      <td>5 months ago</td>\n",
              "      <td>0.0</td>\n",
              "      <td>UgyOn3XdzLd7WGtpR014AaABAg</td>\n",
              "      <td>0</td>\n",
              "      <td>0.0</td>\n",
              "      <td>2018-07-04 16:13:05.830</td>\n",
              "      <td>David Malapile</td>\n",
              "      <td>jews</td>\n",
              "      <td>[]</td>\n",
              "    </tr>\n",
              "    <tr>\n",
              "      <th>1</th>\n",
              "      <td>5,9</td>\n",
              "      <td>True</td>\n",
              "      <td>stunned disgusting hateful hell sick homosexua...</td>\n",
              "      <td>4 years ago</td>\n",
              "      <td>0.0</td>\n",
              "      <td>Ugz2jIERhfSlbTT3I5N4AaABAg</td>\n",
              "      <td>0</td>\n",
              "      <td>0.0</td>\n",
              "      <td>2013-12-05 04:47:49.740</td>\n",
              "      <td>Fangirl Smith</td>\n",
              "      <td>lgbt</td>\n",
              "      <td>[]</td>\n",
              "    </tr>\n",
              "    <tr>\n",
              "      <th>2</th>\n",
              "      <td>4</td>\n",
              "      <td>True</td>\n",
              "      <td>muslim video makes emotional</td>\n",
              "      <td>1 month ago</td>\n",
              "      <td>0.0</td>\n",
              "      <td>UgzqreWMOeDIUDRbOAR4AaABAg</td>\n",
              "      <td>0</td>\n",
              "      <td>0.0</td>\n",
              "      <td>2017-12-05 16:22:40.118</td>\n",
              "      <td>nadeem malik</td>\n",
              "      <td>jews</td>\n",
              "      <td>[]</td>\n",
              "    </tr>\n",
              "    <tr>\n",
              "      <th>3</th>\n",
              "      <td>Default</td>\n",
              "      <td>False</td>\n",
              "      <td>racist opinions reporter matter kids mom dont ...</td>\n",
              "      <td>5 months ago</td>\n",
              "      <td>0.0</td>\n",
              "      <td>Ugwu32empR4tRwqs67J4AaABAg</td>\n",
              "      <td>0</td>\n",
              "      <td>0.0</td>\n",
              "      <td>2018-07-13 05:49:34.356</td>\n",
              "      <td>sirlozervilleskidmarx</td>\n",
              "      <td>black</td>\n",
              "      <td>[]</td>\n",
              "    </tr>\n",
              "    <tr>\n",
              "      <th>4</th>\n",
              "      <td>8</td>\n",
              "      <td>True</td>\n",
              "      <td>mess up i</td>\n",
              "      <td>4 months ago</td>\n",
              "      <td>0.0</td>\n",
              "      <td>UgyNGc4NKGXCuYXAZKF4AaABAg</td>\n",
              "      <td>0</td>\n",
              "      <td>0.0</td>\n",
              "      <td>2018-08-13 05:48:21.986</td>\n",
              "      <td>Lilsourpach Kid</td>\n",
              "      <td>black</td>\n",
              "      <td>[]</td>\n",
              "    </tr>\n",
              "  </tbody>\n",
              "</table>\n",
              "</div>"
            ],
            "text/plain": [
              "  Category  CounterSpeech  ... Community replies\n",
              "0  Default          False  ...      jews      []\n",
              "1      5,9           True  ...      lgbt      []\n",
              "2        4           True  ...      jews      []\n",
              "3  Default          False  ...     black      []\n",
              "4        8           True  ...     black      []\n",
              "\n",
              "[5 rows x 12 columns]"
            ]
          },
          "metadata": {
            "tags": []
          },
          "execution_count": 10
        }
      ]
    },
    {
      "cell_type": "code",
      "metadata": {
        "id": "y5qUMhvfinIJ",
        "colab": {
          "base_uri": "https://localhost:8080/",
          "height": 203
        },
        "outputId": "e777a4af-8c38-4802-d8b9-d87d50530047"
      },
      "source": [
        "YTrain.head(5)"
      ],
      "execution_count": null,
      "outputs": [
        {
          "output_type": "execute_result",
          "data": {
            "text/html": [
              "<div>\n",
              "<style scoped>\n",
              "    .dataframe tbody tr th:only-of-type {\n",
              "        vertical-align: middle;\n",
              "    }\n",
              "\n",
              "    .dataframe tbody tr th {\n",
              "        vertical-align: top;\n",
              "    }\n",
              "\n",
              "    .dataframe thead th {\n",
              "        text-align: right;\n",
              "    }\n",
              "</style>\n",
              "<table border=\"1\" class=\"dataframe\">\n",
              "  <thead>\n",
              "    <tr style=\"text-align: right;\">\n",
              "      <th></th>\n",
              "      <th>CounterSpeech</th>\n",
              "    </tr>\n",
              "  </thead>\n",
              "  <tbody>\n",
              "    <tr>\n",
              "      <th>0</th>\n",
              "      <td>False</td>\n",
              "    </tr>\n",
              "    <tr>\n",
              "      <th>1</th>\n",
              "      <td>True</td>\n",
              "    </tr>\n",
              "    <tr>\n",
              "      <th>2</th>\n",
              "      <td>False</td>\n",
              "    </tr>\n",
              "    <tr>\n",
              "      <th>3</th>\n",
              "      <td>False</td>\n",
              "    </tr>\n",
              "    <tr>\n",
              "      <th>4</th>\n",
              "      <td>True</td>\n",
              "    </tr>\n",
              "  </tbody>\n",
              "</table>\n",
              "</div>"
            ],
            "text/plain": [
              "   CounterSpeech\n",
              "0          False\n",
              "1           True\n",
              "2          False\n",
              "3          False\n",
              "4           True"
            ]
          },
          "metadata": {
            "tags": []
          },
          "execution_count": 11
        }
      ]
    },
    {
      "cell_type": "code",
      "metadata": {
        "id": "yvmZWeieinMX",
        "colab": {
          "base_uri": "https://localhost:8080/",
          "height": 203
        },
        "outputId": "618f2148-4fab-452b-a237-9d9d5554246a"
      },
      "source": [
        "YTest.head(5)"
      ],
      "execution_count": null,
      "outputs": [
        {
          "output_type": "execute_result",
          "data": {
            "text/html": [
              "<div>\n",
              "<style scoped>\n",
              "    .dataframe tbody tr th:only-of-type {\n",
              "        vertical-align: middle;\n",
              "    }\n",
              "\n",
              "    .dataframe tbody tr th {\n",
              "        vertical-align: top;\n",
              "    }\n",
              "\n",
              "    .dataframe thead th {\n",
              "        text-align: right;\n",
              "    }\n",
              "</style>\n",
              "<table border=\"1\" class=\"dataframe\">\n",
              "  <thead>\n",
              "    <tr style=\"text-align: right;\">\n",
              "      <th></th>\n",
              "      <th>CounterSpeech</th>\n",
              "    </tr>\n",
              "  </thead>\n",
              "  <tbody>\n",
              "    <tr>\n",
              "      <th>0</th>\n",
              "      <td>False</td>\n",
              "    </tr>\n",
              "    <tr>\n",
              "      <th>1</th>\n",
              "      <td>True</td>\n",
              "    </tr>\n",
              "    <tr>\n",
              "      <th>2</th>\n",
              "      <td>True</td>\n",
              "    </tr>\n",
              "    <tr>\n",
              "      <th>3</th>\n",
              "      <td>False</td>\n",
              "    </tr>\n",
              "    <tr>\n",
              "      <th>4</th>\n",
              "      <td>True</td>\n",
              "    </tr>\n",
              "  </tbody>\n",
              "</table>\n",
              "</div>"
            ],
            "text/plain": [
              "   CounterSpeech\n",
              "0          False\n",
              "1           True\n",
              "2           True\n",
              "3          False\n",
              "4           True"
            ]
          },
          "metadata": {
            "tags": []
          },
          "execution_count": 12
        }
      ]
    },
    {
      "cell_type": "markdown",
      "metadata": {
        "id": "QCal5zvg6fmv"
      },
      "source": [
        "### **Word2Vec**"
      ]
    },
    {
      "cell_type": "code",
      "metadata": {
        "id": "csE2Ey7Xt8lN"
      },
      "source": [
        "import gensim\n",
        "from gensim.models.word2vec import Word2Vec\n",
        "LabeledSentence = gensim.models.doc2vec.LabeledSentence"
      ],
      "execution_count": null,
      "outputs": []
    },
    {
      "cell_type": "code",
      "metadata": {
        "id": "5AbW-__TcFGC",
        "colab": {
          "base_uri": "https://localhost:8080/"
        },
        "outputId": "cf9b7c08-b24a-46af-92e2-5f1b8a95bfe0"
      },
      "source": [
        "from gensim.models import Word2Vec\n",
        "import nltk\n",
        "nltk.download('punkt')\n",
        "from nltk.tokenize import sent_tokenize\n",
        "from nltk.tokenize import word_tokenize\n",
        "\n",
        "#  Reads text.txt file\n",
        "f = open(\"text.txt\", \"w\")\n",
        "f.truncate(0)\n",
        "for i in range(len(XTrain)):\n",
        "  f.write(XTrain.iloc[i, 2])\n",
        "f.close()\n",
        "\n",
        "sample = open(\"text.txt\", \"r\")\n",
        "s = sample.read()\n",
        "\n",
        "\n",
        "# Replaces escape character with space\n",
        "f = s.replace(\"\\n\", \" \")\n",
        "  \n",
        "data = []\n",
        "  \n",
        "# iterate through each sentence in the file\n",
        "for i in sent_tokenize(f):\n",
        "    temp = []\n",
        "    # tokenize the sentence into words\n",
        "    for j in word_tokenize(i):\n",
        "        temp.append(j.lower())\n",
        "    data.append(temp)"
      ],
      "execution_count": null,
      "outputs": [
        {
          "output_type": "stream",
          "text": [
            "[nltk_data] Downloading package punkt to /root/nltk_data...\n",
            "[nltk_data]   Package punkt is already up-to-date!\n"
          ],
          "name": "stdout"
        }
      ]
    },
    {
      "cell_type": "code",
      "metadata": {
        "id": "KWAf_IwnYAbT",
        "colab": {
          "base_uri": "https://localhost:8080/"
        },
        "outputId": "63bbe072-43f3-4470-8a90-f13141058791"
      },
      "source": [
        "model_w2v = gensim.models.Word2Vec(\n",
        "            data,\n",
        "            size=200, # desired no. of features/independent variables\n",
        "            window=5, # context window size\n",
        "            min_count=5, # Ignores all words with total frequency lower than 5.                                  \n",
        "            sg = 1, # 1 for skip-gram model\n",
        "            hs = 0,\n",
        "            negative = 10, # for negative sampling\n",
        "            workers= 30, # no.of cores\n",
        "            seed = 34) \n",
        "\n",
        "model_w2v.train(data, total_examples= len(XTrain['commentText']), epochs=20)"
      ],
      "execution_count": null,
      "outputs": [
        {
          "output_type": "execute_result",
          "data": {
            "text/plain": [
              "(200000, 16127380)"
            ]
          },
          "metadata": {
            "tags": []
          },
          "execution_count": 15
        }
      ]
    },
    {
      "cell_type": "code",
      "metadata": {
        "id": "WEozwesXeBYz",
        "colab": {
          "base_uri": "https://localhost:8080/"
        },
        "outputId": "d3d61fbe-7f9f-4a23-a989-9a945d7a0126"
      },
      "source": [
        "w1 = \"muslim\"\n",
        "model_w2v.wv.most_similar (positive=w1)"
      ],
      "execution_count": null,
      "outputs": [
        {
          "output_type": "execute_result",
          "data": {
            "text/plain": [
              "[('jew', 0.9807682037353516),\n",
              " ('islam', 0.9709647297859192),\n",
              " ('anti', 0.9705650806427002),\n",
              " ('muslims', 0.9660741686820984),\n",
              " ('religion', 0.9601702094078064),\n",
              " ('cant', 0.9594258069992065),\n",
              " ('jews', 0.9591585397720337),\n",
              " ('semi', 0.9583747386932373),\n",
              " ('today', 0.9554988145828247),\n",
              " ('israel', 0.9540188312530518)]"
            ]
          },
          "metadata": {
            "tags": []
          },
          "execution_count": 16
        }
      ]
    },
    {
      "cell_type": "code",
      "metadata": {
        "id": "UzTzMDIoeNIC",
        "colab": {
          "base_uri": "https://localhost:8080/"
        },
        "outputId": "9ddaf072-dc22-4dd0-962a-3307b7db9b95"
      },
      "source": [
        "w1 = \"black\"\n",
        "model_w2v.wv.most_similar (positive=w1)"
      ],
      "execution_count": null,
      "outputs": [
        {
          "output_type": "execute_result",
          "data": {
            "text/plain": [
              "[('white', 0.9833188652992249),\n",
              " ('racist', 0.9682799577713013),\n",
              " ('media', 0.957857608795166),\n",
              " ('person', 0.9574815034866333),\n",
              " ('police', 0.9550235867500305),\n",
              " ('damn', 0.9524862766265869),\n",
              " ('brutality', 0.9521309733390808),\n",
              " ('people', 0.9508342742919922),\n",
              " ('beat', 0.9499897956848145),\n",
              " ('crime', 0.9499017000198364)]"
            ]
          },
          "metadata": {
            "tags": []
          },
          "execution_count": 17
        }
      ]
    },
    {
      "cell_type": "code",
      "metadata": {
        "id": "9-NblmL1jDhE"
      },
      "source": [
        "embeddings_index = {}\n",
        "for w in model_w2v.wv.vocab.keys():\n",
        "    embeddings_index[w] = model_w2v.wv[w]"
      ],
      "execution_count": null,
      "outputs": []
    },
    {
      "cell_type": "code",
      "metadata": {
        "id": "CHp0SHv4hZFT"
      },
      "source": [
        "from keras.preprocessing.text import Tokenizer\n",
        "from keras.preprocessing.sequence import pad_sequences\n",
        "tokenizer = Tokenizer(num_words=100000)\n",
        "tokenizer.fit_on_texts(XTrain['commentText'])\n",
        "sequences = tokenizer.texts_to_sequences(XTrain['commentText'])"
      ],
      "execution_count": null,
      "outputs": []
    },
    {
      "cell_type": "code",
      "metadata": {
        "id": "zzx1vr67keUD",
        "colab": {
          "base_uri": "https://localhost:8080/"
        },
        "outputId": "7a7c1c06-8fb9-4d76-a737-fe2816ce75d1"
      },
      "source": [
        "for x in XTrain.iloc[:5, 2]:\n",
        "    print(x)"
      ],
      "execution_count": null,
      "outputs": [
        {
          "output_type": "stream",
          "text": [
            "wasnt even surprised said actors didnt believe minute\n",
            "going done ball group person evil get excuse murdering average race sadistic american sentences helping idea pass evil acts problem issue bashed life person citizen is fun people law group excuse cant get young pin race fun goliath reduce involved people issue illogical blame using\n",
            "gay alteration ur stupid mind forced give satan rim job hell sure isnt hate right know trying help losers like wrong i\n",
            "forgiveness something separation changed news kept night wanted christ jesus self years something brings life born father death hated asking dont gave created christian church christ life news sinless answer lord god talking read years night took judgment gift gave felt change going jesus kirk deserve ask believe good like something learn love debut side found perfect forth fallen life could life went started cross jesus eternal hard savor christ jesus everything else righteousness night god could good many began ago jesus christ coward reason wanted called christ glory got sinned us would mind heart began ago bible see sees happening died everyone needed questions short later talking hard creation became wages new\n",
            "bitches racist hate backbite fucking\n"
          ],
          "name": "stdout"
        }
      ]
    },
    {
      "cell_type": "code",
      "metadata": {
        "id": "HUDFjVCuiDtu"
      },
      "source": [
        "#sequences[:5]"
      ],
      "execution_count": null,
      "outputs": []
    },
    {
      "cell_type": "code",
      "metadata": {
        "id": "q3-etV_HlDeL",
        "colab": {
          "base_uri": "https://localhost:8080/"
        },
        "outputId": "b0f4ffed-b422-4a7f-b73c-e3e5b3b6c0be"
      },
      "source": [
        "length = []\n",
        "for x in XTrain['commentText']:\n",
        "    length.append(len(x.split()))\n",
        "max(length)"
      ],
      "execution_count": null,
      "outputs": [
        {
          "output_type": "execute_result",
          "data": {
            "text/plain": [
              "3095"
            ]
          },
          "metadata": {
            "tags": []
          },
          "execution_count": 22
        }
      ]
    },
    {
      "cell_type": "code",
      "metadata": {
        "id": "rVXqpBkwl6hS",
        "colab": {
          "base_uri": "https://localhost:8080/"
        },
        "outputId": "fc6eb2b6-1679-4cfe-fbf4-e59bae1feaf5"
      },
      "source": [
        "length = []\n",
        "for x in XTest['commentText']:\n",
        "    length.append(len(x.split()))\n",
        "max(length)"
      ],
      "execution_count": null,
      "outputs": [
        {
          "output_type": "execute_result",
          "data": {
            "text/plain": [
              "3026"
            ]
          },
          "metadata": {
            "tags": []
          },
          "execution_count": 23
        }
      ]
    },
    {
      "cell_type": "code",
      "metadata": {
        "id": "u1ycHX9mmVCx",
        "colab": {
          "base_uri": "https://localhost:8080/"
        },
        "outputId": "9105e22c-ac44-4c18-9158-46e52bf095b2"
      },
      "source": [
        "XTrain_seq = pad_sequences(sequences, maxlen=3100)\n",
        "XTrain_seq[:5]"
      ],
      "execution_count": null,
      "outputs": [
        {
          "output_type": "execute_result",
          "data": {
            "text/plain": [
              "array([[   0,    0,    0, ...,   69,   25, 1457],\n",
              "       [   0,    0,    0, ..., 4287,  444,  419],\n",
              "       [   0,    0,    0, ...,    3,   41,    4],\n",
              "       [   0,    0,    0, ..., 1085, 3384,  206],\n",
              "       [   0,    0,    0, ...,    9, 2074,   73]], dtype=int32)"
            ]
          },
          "metadata": {
            "tags": []
          },
          "execution_count": 24
        }
      ]
    },
    {
      "cell_type": "code",
      "metadata": {
        "id": "2Q4XJ0gNmj5m"
      },
      "source": [
        "sequences_Test = tokenizer.texts_to_sequences(XTest['commentText'])\n",
        "XTest_seq = pad_sequences(sequences_Test, maxlen=3100)"
      ],
      "execution_count": null,
      "outputs": []
    },
    {
      "cell_type": "code",
      "metadata": {
        "id": "0TCR9AXHnNh6",
        "colab": {
          "base_uri": "https://localhost:8080/"
        },
        "outputId": "a3109d33-8af8-4b67-edc3-ea6bfa2789fb"
      },
      "source": [
        "XTest_seq[:5]"
      ],
      "execution_count": null,
      "outputs": [
        {
          "output_type": "execute_result",
          "data": {
            "text/plain": [
              "array([[   0,    0,    0, ...,    0,   40,    2],\n",
              "       [   0,    0,    0, ...,   49,  184,   80],\n",
              "       [   0,    0,    0, ...,   68,  139, 2276],\n",
              "       [   0,    0,    0, ...,  261, 8986,  170],\n",
              "       [   0,    0,    0, ..., 1636,  233,    4]], dtype=int32)"
            ]
          },
          "metadata": {
            "tags": []
          },
          "execution_count": 26
        }
      ]
    },
    {
      "cell_type": "code",
      "metadata": {
        "id": "eyVMDFzZpNUe"
      },
      "source": [
        "num_words = 100000\n",
        "embedding_matrix = np.zeros((num_words, 200))\n",
        "for word, i in tokenizer.word_index.items():\n",
        "    if i >= num_words:\n",
        "        continue\n",
        "    embedding_vector = embeddings_index.get(word)\n",
        "    if embedding_vector is not None:\n",
        "        embedding_matrix[i] = embedding_vector"
      ],
      "execution_count": null,
      "outputs": []
    },
    {
      "cell_type": "code",
      "metadata": {
        "id": "ir4hovNzqBI-",
        "colab": {
          "base_uri": "https://localhost:8080/"
        },
        "outputId": "cb959e12-72fa-4fb4-9a3c-7eefe6d831a5"
      },
      "source": [
        "np.array_equal(embedding_matrix[25] ,embeddings_index.get('believe'))"
      ],
      "execution_count": null,
      "outputs": [
        {
          "output_type": "execute_result",
          "data": {
            "text/plain": [
              "True"
            ]
          },
          "metadata": {
            "tags": []
          },
          "execution_count": 28
        }
      ]
    },
    {
      "cell_type": "markdown",
      "metadata": {
        "id": "8kDq0Iah5HxH"
      },
      "source": [
        "### **CNN Model**"
      ]
    },
    {
      "cell_type": "code",
      "metadata": {
        "id": "pExOQuf0qmQ8"
      },
      "source": [
        "from keras.models import Sequential\n",
        "from keras.layers import Dense, Dropout\n",
        "from keras.layers import Flatten\n",
        "from keras.layers.embeddings import Embedding\n",
        "\n",
        "from keras.layers.convolutional import Conv1D\n",
        "from keras.layers.convolutional import MaxPooling1D\n",
        "from keras.preprocessing import sequence"
      ],
      "execution_count": null,
      "outputs": []
    },
    {
      "cell_type": "code",
      "metadata": {
        "id": "0kPD_PFdK0_-"
      },
      "source": [
        "model = Sequential()\n",
        "model.add(Embedding(100000, 200, input_length=3100))\n",
        "model.add(Conv1D(64, 3, padding='valid', activation='relu'))\n",
        "model.add(MaxPooling1D())\n",
        "model.add(Flatten())\n",
        "model.add(Dense(250, activation='relu'))\n",
        "model.add(Dense(1, activation='sigmoid'))"
      ],
      "execution_count": null,
      "outputs": []
    },
    {
      "cell_type": "code",
      "metadata": {
        "colab": {
          "base_uri": "https://localhost:8080/"
        },
        "id": "Gmo5r0vqL7E9",
        "outputId": "9761fb3f-3d55-492e-a5e4-3ae9e74298b7"
      },
      "source": [
        "model.compile(loss='binary_crossentropy', optimizer='adam', metrics=['accuracy'])\n",
        "model.summary()"
      ],
      "execution_count": null,
      "outputs": [
        {
          "output_type": "stream",
          "text": [
            "Model: \"sequential\"\n",
            "_________________________________________________________________\n",
            "Layer (type)                 Output Shape              Param #   \n",
            "=================================================================\n",
            "embedding (Embedding)        (None, 3100, 200)         20000000  \n",
            "_________________________________________________________________\n",
            "conv1d (Conv1D)              (None, 3098, 64)          38464     \n",
            "_________________________________________________________________\n",
            "max_pooling1d (MaxPooling1D) (None, 1549, 64)          0         \n",
            "_________________________________________________________________\n",
            "flatten (Flatten)            (None, 99136)             0         \n",
            "_________________________________________________________________\n",
            "dense (Dense)                (None, 250)               24784250  \n",
            "_________________________________________________________________\n",
            "dense_1 (Dense)              (None, 1)                 251       \n",
            "=================================================================\n",
            "Total params: 44,822,965\n",
            "Trainable params: 44,822,965\n",
            "Non-trainable params: 0\n",
            "_________________________________________________________________\n"
          ],
          "name": "stdout"
        }
      ]
    },
    {
      "cell_type": "code",
      "metadata": {
        "colab": {
          "base_uri": "https://localhost:8080/"
        },
        "id": "ZtUFTuC2L73H",
        "outputId": "d2943afc-2e36-4bc8-b0d9-9a5694b0d4fc"
      },
      "source": [
        "history = model.fit(XTrain_seq, YTrain, validation_data=(XTest_seq, YTest), epochs=15, batch_size=128, verbose=2)"
      ],
      "execution_count": null,
      "outputs": [
        {
          "output_type": "stream",
          "text": [
            "Epoch 1/15\n",
            "380/380 - 1360s - loss: 0.4917 - accuracy: 0.7534 - val_loss: 0.3271 - val_accuracy: 0.8619\n",
            "Epoch 2/15\n",
            "380/380 - 1324s - loss: 0.1683 - accuracy: 0.9346 - val_loss: 0.2246 - val_accuracy: 0.9117\n",
            "Epoch 3/15\n",
            "380/380 - 1348s - loss: 0.0668 - accuracy: 0.9749 - val_loss: 0.2257 - val_accuracy: 0.9253\n",
            "Epoch 4/15\n",
            "380/380 - 1321s - loss: 0.0306 - accuracy: 0.9891 - val_loss: 0.2624 - val_accuracy: 0.9226\n",
            "Epoch 5/15\n",
            "380/380 - 1327s - loss: 0.0183 - accuracy: 0.9938 - val_loss: 0.2913 - val_accuracy: 0.9292\n",
            "Epoch 6/15\n",
            "380/380 - 1332s - loss: 0.0187 - accuracy: 0.9937 - val_loss: 0.3411 - val_accuracy: 0.9201\n",
            "Epoch 7/15\n",
            "380/380 - 1332s - loss: 0.0266 - accuracy: 0.9907 - val_loss: 0.3852 - val_accuracy: 0.9167\n",
            "Epoch 8/15\n",
            "380/380 - 1341s - loss: 0.0237 - accuracy: 0.9919 - val_loss: 0.4334 - val_accuracy: 0.9139\n",
            "Epoch 9/15\n",
            "380/380 - 1334s - loss: 0.0157 - accuracy: 0.9947 - val_loss: 0.4065 - val_accuracy: 0.9205\n",
            "Epoch 10/15\n",
            "380/380 - 1365s - loss: 0.0135 - accuracy: 0.9962 - val_loss: 0.4229 - val_accuracy: 0.9196\n",
            "Epoch 11/15\n",
            "380/380 - 1373s - loss: 0.0087 - accuracy: 0.9971 - val_loss: 0.4569 - val_accuracy: 0.9192\n",
            "Epoch 12/15\n",
            "380/380 - 1374s - loss: 0.0100 - accuracy: 0.9964 - val_loss: 0.4535 - val_accuracy: 0.9217\n",
            "Epoch 13/15\n",
            "380/380 - 1360s - loss: 0.0113 - accuracy: 0.9959 - val_loss: 0.4777 - val_accuracy: 0.9210\n",
            "Epoch 14/15\n",
            "380/380 - 1363s - loss: 0.0166 - accuracy: 0.9943 - val_loss: 0.4455 - val_accuracy: 0.9176\n",
            "Epoch 15/15\n",
            "380/380 - 1377s - loss: 0.0167 - accuracy: 0.9941 - val_loss: 0.4284 - val_accuracy: 0.9193\n"
          ],
          "name": "stdout"
        }
      ]
    },
    {
      "cell_type": "code",
      "metadata": {
        "id": "JQJmJNQhSS8h",
        "colab": {
          "base_uri": "https://localhost:8080/"
        },
        "outputId": "5968e98d-4dbb-4621-ee50-33abb4ca705f"
      },
      "source": [
        "print('Final training loss \\t', history.history['loss'][-1])\n",
        "print('Final training accuracy ', history.history['accuracy'][-1])"
      ],
      "execution_count": null,
      "outputs": [
        {
          "output_type": "stream",
          "text": [
            "Final training loss \t 0.016661956906318665\n",
            "Final training accuracy  0.9941285252571106\n"
          ],
          "name": "stdout"
        }
      ]
    },
    {
      "cell_type": "code",
      "metadata": {
        "id": "IObW8_4YSTXK",
        "colab": {
          "base_uri": "https://localhost:8080/"
        },
        "outputId": "34fd5279-65de-4bc1-98de-b548a98dc161"
      },
      "source": [
        "testLoss, testAccuracy = model.evaluate( XTest_seq, YTest)"
      ],
      "execution_count": null,
      "outputs": [
        {
          "output_type": "stream",
          "text": [
            "651/651 [==============================] - 137s 210ms/step - loss: 0.4284 - accuracy: 0.9193\n"
          ],
          "name": "stdout"
        }
      ]
    },
    {
      "cell_type": "code",
      "metadata": {
        "id": "vgz8yoozkQca",
        "colab": {
          "base_uri": "https://localhost:8080/"
        },
        "outputId": "e6741606-2b9e-4d31-e622-e5f46931bd1b"
      },
      "source": [
        "print('Testing loss  \\t', testLoss)\n",
        "print('Testing accuracy ', testAccuracy)"
      ],
      "execution_count": null,
      "outputs": [
        {
          "output_type": "stream",
          "text": [
            "Testing loss  \t 0.4283749759197235\n",
            "Testing accuracy  0.9192943572998047\n"
          ],
          "name": "stdout"
        }
      ]
    },
    {
      "cell_type": "code",
      "metadata": {
        "id": "4f3hC_SpkFHj",
        "colab": {
          "base_uri": "https://localhost:8080/",
          "height": 573
        },
        "outputId": "a95bd98e-d06c-4925-a15a-fdc6380df4a8"
      },
      "source": [
        "# plotting training and validation loss\n",
        "\n",
        "loss = history.history['loss']\n",
        "val_loss = history.history['val_loss']\n",
        "epochs = range(1, len(loss) + 1)\n",
        "mplot.plot(epochs, loss, color='red', label='Training loss')\n",
        "mplot.plot(epochs, val_loss, color='green', label='Validation loss')\n",
        "mplot.title('Training and Validation loss')\n",
        "mplot.xlabel('Epochs')\n",
        "mplot.ylabel('Loss')\n",
        "mplot.legend()\n",
        "mplot.show()\n",
        "\n",
        "# plotting training and validation accuracy\n",
        "\n",
        "acc = history.history['accuracy']\n",
        "val_acc = history.history['val_accuracy']\n",
        "mplot.plot(epochs, acc, color='red', label='Training accuracy')\n",
        "mplot.plot(epochs, val_acc, color='green', label='Validation accuracy')\n",
        "mplot.title('Training and Validation accuracy')\n",
        "mplot.xlabel('Epochs')\n",
        "mplot.ylabel('Accuracy')\n",
        "mplot.legend()\n",
        "mplot.legend()\n",
        "mplot.show()"
      ],
      "execution_count": null,
      "outputs": [
        {
          "output_type": "display_data",
          "data": {
            "image/png": "[encoded data removed]",
            "text/plain": [
              "<Figure size 432x288 with 1 Axes>"
            ]
          },
          "metadata": {
            "tags": [],
            "needs_background": "light"
          }
        },
        {
          "output_type": "display_data",
          "data": {
            "image/png": "[encoded data removed]",
            "text/plain": [
              "<Figure size 432x288 with 1 Axes>"
            ]
          },
          "metadata": {
            "tags": [],
            "needs_background": "light"
          }
        }
      ]
    },
    {
      "cell_type": "code",
      "metadata": {
        "id": "MDpJ4d77cJAj"
      },
      "source": [
        "YPred = model.predict(XTest_seq)\n",
        "YPred = (YPred > 0.5)"
      ],
      "execution_count": null,
      "outputs": []
    },
    {
      "cell_type": "code",
      "metadata": {
        "id": "42RKBJn0c-Aq",
        "colab": {
          "base_uri": "https://localhost:8080/"
        },
        "outputId": "a81369d7-e8e4-49a5-962b-debf6777515e"
      },
      "source": [
        "print(classification_report(YTest, YPred))"
      ],
      "execution_count": null,
      "outputs": [
        {
          "output_type": "stream",
          "text": [
            "              precision    recall  f1-score   support\n",
            "\n",
            "       False       0.92      0.92      0.92     10584\n",
            "        True       0.92      0.92      0.92     10220\n",
            "\n",
            "    accuracy                           0.92     20804\n",
            "   macro avg       0.92      0.92      0.92     20804\n",
            "weighted avg       0.92      0.92      0.92     20804\n",
            "\n"
          ],
          "name": "stdout"
        }
      ]
    }
  ]
}