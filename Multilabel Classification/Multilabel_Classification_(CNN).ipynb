{
  "nbformat": 4,
  "nbformat_minor": 0,
  "metadata": {
    "colab": {
      "name": "Multilabel Classification (CNN).ipynb",
      "provenance": [],
      "collapsed_sections": []
    },
    "kernelspec": {
      "name": "python3",
      "display_name": "Python 3"
    },
    "language_info": {
      "name": "python"
    }
  },
  "cells": [
    {
      "cell_type": "code",
      "metadata": {
        "colab": {
          "base_uri": "https://localhost:8080/"
        },
        "id": "PdNeuIEd7m0g",
        "outputId": "debcc974-a20c-4170-f5a8-341964449081"
      },
      "source": [
        "from google.colab import drive\n",
        "drive.mount('/content/gdrive')"
      ],
      "execution_count": null,
      "outputs": [
        {
          "output_type": "stream",
          "text": [
            "Drive already mounted at /content/gdrive; to attempt to forcibly remount, call drive.mount(\"/content/gdrive\", force_remount=True).\n"
          ],
          "name": "stdout"
        }
      ]
    },
    {
      "cell_type": "code",
      "metadata": {
        "colab": {
          "base_uri": "https://localhost:8080/"
        },
        "id": "j5rMrU2p7wdY",
        "outputId": "84513e70-134c-4510-e2f7-cf9d23cfc8cd"
      },
      "source": [
        "cd gdrive"
      ],
      "execution_count": null,
      "outputs": [
        {
          "output_type": "stream",
          "text": [
            "/content/gdrive\n"
          ],
          "name": "stdout"
        }
      ]
    },
    {
      "cell_type": "code",
      "metadata": {
        "colab": {
          "base_uri": "https://localhost:8080/"
        },
        "id": "gSwP4uHU7yYX",
        "outputId": "a5205c1a-0120-4d7e-e5ca-73839eb2e8fe"
      },
      "source": [
        "cd MyDrive"
      ],
      "execution_count": null,
      "outputs": [
        {
          "output_type": "stream",
          "text": [
            "/content/gdrive/MyDrive\n"
          ],
          "name": "stdout"
        }
      ]
    },
    {
      "cell_type": "code",
      "metadata": {
        "colab": {
          "base_uri": "https://localhost:8080/"
        },
        "id": "U65aDu9o7ya-",
        "outputId": "bf0e213d-8ab8-47f3-8e77-c28f0f25def3"
      },
      "source": [
        "cd Colab datasets"
      ],
      "execution_count": null,
      "outputs": [
        {
          "output_type": "stream",
          "text": [
            "/content/gdrive/MyDrive/Colab datasets\n"
          ],
          "name": "stdout"
        }
      ]
    },
    {
      "cell_type": "code",
      "metadata": {
        "id": "d_0ljLPz7ydx"
      },
      "source": [
        "# importing necessary libraries\n",
        "import os\n",
        "\n",
        "from nltk.corpus import stopwords\n",
        "from nltk.util import ngrams\n",
        "\n",
        "from sklearn.feature_extraction.text import CountVectorizer, TfidfVectorizer\n",
        "from sklearn.model_selection import train_test_split\n",
        "from sklearn.decomposition import PCA, TruncatedSVD\n",
        "from sklearn.metrics import classification_report,confusion_matrix\n",
        "\n",
        "import numpy as np\n",
        "import pandas as pd\n",
        "import seaborn as sb\n",
        "import matplotlib.pyplot as mplot\n",
        "\n",
        "from __future__ import division, print_function\n",
        "from gensim import models\n",
        "from keras.callbacks import ModelCheckpoint\n",
        "from keras.layers import Dense, Dropout, Reshape, Flatten, concatenate, Input, Conv1D, GlobalMaxPooling1D, Embedding\n",
        "from keras.layers.recurrent import LSTM\n",
        "from keras.models import Sequential\n",
        "from keras.preprocessing.text import Tokenizer\n",
        "from keras.preprocessing.sequence import pad_sequences\n",
        "from keras.models import Model\n",
        "from sklearn.model_selection import train_test_split\n",
        "\n",
        "from sklearn.metrics import confusion_matrix\n",
        "from sklearn.metrics import classification_report\n",
        "\n",
        "import math"
      ],
      "execution_count": null,
      "outputs": []
    },
    {
      "cell_type": "code",
      "metadata": {
        "colab": {
          "base_uri": "https://localhost:8080/",
          "height": 203
        },
        "id": "a5F7POQU7ygh",
        "outputId": "431c174e-6523-4be8-8040-89c87587c9a0"
      },
      "source": [
        "Data = pd.read_csv(\"multilable_dataset.csv\")\n",
        "Data.head()"
      ],
      "execution_count": null,
      "outputs": [
        {
          "output_type": "execute_result",
          "data": {
            "text/html": [
              "<div>\n",
              "<style scoped>\n",
              "    .dataframe tbody tr th:only-of-type {\n",
              "        vertical-align: middle;\n",
              "    }\n",
              "\n",
              "    .dataframe tbody tr th {\n",
              "        vertical-align: top;\n",
              "    }\n",
              "\n",
              "    .dataframe thead th {\n",
              "        text-align: right;\n",
              "    }\n",
              "</style>\n",
              "<table border=\"1\" class=\"dataframe\">\n",
              "  <thead>\n",
              "    <tr style=\"text-align: right;\">\n",
              "      <th></th>\n",
              "      <th>commentText</th>\n",
              "      <th>facts</th>\n",
              "      <th>hypocrisy</th>\n",
              "      <th>warning</th>\n",
              "      <th>affiliation</th>\n",
              "      <th>denouncing</th>\n",
              "      <th>humor</th>\n",
              "      <th>positive_tone</th>\n",
              "      <th>hostile_language</th>\n",
              "    </tr>\n",
              "  </thead>\n",
              "  <tbody>\n",
              "    <tr>\n",
              "      <th>0</th>\n",
              "      <td>kind god hates people curses kind people belie...</td>\n",
              "      <td>0</td>\n",
              "      <td>1</td>\n",
              "      <td>0</td>\n",
              "      <td>0</td>\n",
              "      <td>0</td>\n",
              "      <td>0</td>\n",
              "      <td>1</td>\n",
              "      <td>0</td>\n",
              "    </tr>\n",
              "    <tr>\n",
              "      <th>1</th>\n",
              "      <td>question comment racist jews smartest group pe...</td>\n",
              "      <td>0</td>\n",
              "      <td>0</td>\n",
              "      <td>0</td>\n",
              "      <td>0</td>\n",
              "      <td>0</td>\n",
              "      <td>0</td>\n",
              "      <td>1</td>\n",
              "      <td>0</td>\n",
              "    </tr>\n",
              "    <tr>\n",
              "      <th>2</th>\n",
              "      <td>israel fail nothing new israel rebellious nati...</td>\n",
              "      <td>0</td>\n",
              "      <td>0</td>\n",
              "      <td>0</td>\n",
              "      <td>0</td>\n",
              "      <td>0</td>\n",
              "      <td>0</td>\n",
              "      <td>1</td>\n",
              "      <td>0</td>\n",
              "    </tr>\n",
              "    <tr>\n",
              "      <th>3</th>\n",
              "      <td>god damned ignorant little prick doesnt know a...</td>\n",
              "      <td>0</td>\n",
              "      <td>0</td>\n",
              "      <td>0</td>\n",
              "      <td>0</td>\n",
              "      <td>0</td>\n",
              "      <td>0</td>\n",
              "      <td>0</td>\n",
              "      <td>1</td>\n",
              "    </tr>\n",
              "    <tr>\n",
              "      <th>4</th>\n",
              "      <td>shit may cooler police brutality people assumi...</td>\n",
              "      <td>0</td>\n",
              "      <td>1</td>\n",
              "      <td>0</td>\n",
              "      <td>0</td>\n",
              "      <td>0</td>\n",
              "      <td>0</td>\n",
              "      <td>0</td>\n",
              "      <td>0</td>\n",
              "    </tr>\n",
              "  </tbody>\n",
              "</table>\n",
              "</div>"
            ],
            "text/plain": [
              "                                         commentText  ...  hostile_language\n",
              "0  kind god hates people curses kind people belie...  ...                 0\n",
              "1  question comment racist jews smartest group pe...  ...                 0\n",
              "2  israel fail nothing new israel rebellious nati...  ...                 0\n",
              "3  god damned ignorant little prick doesnt know a...  ...                 1\n",
              "4  shit may cooler police brutality people assumi...  ...                 0\n",
              "\n",
              "[5 rows x 9 columns]"
            ]
          },
          "metadata": {
            "tags": []
          },
          "execution_count": 6
        }
      ]
    },
    {
      "cell_type": "code",
      "metadata": {
        "id": "YzVXBays7yjg"
      },
      "source": [
        "from sklearn.model_selection import train_test_split"
      ],
      "execution_count": null,
      "outputs": []
    },
    {
      "cell_type": "code",
      "metadata": {
        "id": "CPPA29vR7ym5"
      },
      "source": [
        "train, test = train_test_split(Data, test_size=0.40, shuffle=True)\n",
        "XTrain = train['commentText'].values\n",
        "XTest = test['commentText'].values\n",
        " \n",
        "labels=['facts', 'hypocrisy', 'warning', 'affiliation', 'denouncing', 'humor', 'positive_tone', 'hostile_language']\n",
        "YTrain = train[labels]\n",
        "YTest = test[labels]"
      ],
      "execution_count": null,
      "outputs": []
    },
    {
      "cell_type": "code",
      "metadata": {
        "colab": {
          "base_uri": "https://localhost:8080/"
        },
        "id": "a2ijuQEM9jQW",
        "outputId": "abb182c2-5f7f-4a2c-d9e9-320dd04accb8"
      },
      "source": [
        "XTrain"
      ],
      "execution_count": null,
      "outputs": [
        {
          "output_type": "execute_result",
          "data": {
            "text/plain": [
              "array(['xxdonaldqxxx stupid animal sure ripping spirit apart word lol her word god quick powerful sharper wedged sword piercing even dividing asunder soul spirit joints marrow discerned thoughts intents heart',\n",
              "       'slight lisp gay', 'animation life', ...,\n",
              "       'rabbi minister stood flocks said go steal muslims goddess purify make holy hot goods fun temple church would swat teamed rabbiminister would prison life members would interrogated believe freedom speech statements consistent definition hate speech guy needs deported people follow need deported well',\n",
              "       'would direct hatred toward apparent already hatred coming ears soothe appropriate response think laugh',\n",
              "       'people people black know accent like black act british could'],\n",
              "      dtype=object)"
            ]
          },
          "metadata": {
            "tags": []
          },
          "execution_count": 9
        }
      ]
    },
    {
      "cell_type": "code",
      "metadata": {
        "colab": {
          "base_uri": "https://localhost:8080/"
        },
        "id": "WmR8wGjw-Vhe",
        "outputId": "bfc9c552-20b0-4b9b-e078-586303e81d47"
      },
      "source": [
        "XTest"
      ],
      "execution_count": null,
      "outputs": [
        {
          "output_type": "execute_result",
          "data": {
            "text/plain": [
              "array(['iam muslim guy saying complete utter ignorance dont put leaflet say insult guy agreed chats much shit started go back live iraq mate iraqis muslims talking ur antiseptic ur complete disgusting person point blank',\n",
              "       'hindu born theres i wrong saying regardless born heaven become know allah go become reach cursed pure make buddhist slowminded kids people jewish said longer vision islamic purely pure make heres born christian jewish sins answer died born everything mercy rules oh responsible age parents right allah kid born religion kid applied baby means bullshit thats',\n",
              "       'mean hate prophet try america preacher kill real listen false tells please cmon i i guy think labeled people i people preacher save herself guy get',\n",
              "       ..., 'marbles lost completely wow woman',\n",
              "       'homosexuals heterosexuals rival',\n",
              "       'clearly manhunt blacks like dont even dont many bringing racist since colour attacks'],\n",
              "      dtype=object)"
            ]
          },
          "metadata": {
            "tags": []
          },
          "execution_count": 10
        }
      ]
    },
    {
      "cell_type": "code",
      "metadata": {
        "colab": {
          "base_uri": "https://localhost:8080/",
          "height": 417
        },
        "id": "-A0yyhXl-n8z",
        "outputId": "d681964c-b1fb-449e-9cc8-42c72d1f81a9"
      },
      "source": [
        "YTrain"
      ],
      "execution_count": null,
      "outputs": [
        {
          "output_type": "execute_result",
          "data": {
            "text/html": [
              "<div>\n",
              "<style scoped>\n",
              "    .dataframe tbody tr th:only-of-type {\n",
              "        vertical-align: middle;\n",
              "    }\n",
              "\n",
              "    .dataframe tbody tr th {\n",
              "        vertical-align: top;\n",
              "    }\n",
              "\n",
              "    .dataframe thead th {\n",
              "        text-align: right;\n",
              "    }\n",
              "</style>\n",
              "<table border=\"1\" class=\"dataframe\">\n",
              "  <thead>\n",
              "    <tr style=\"text-align: right;\">\n",
              "      <th></th>\n",
              "      <th>facts</th>\n",
              "      <th>hypocrisy</th>\n",
              "      <th>warning</th>\n",
              "      <th>affiliation</th>\n",
              "      <th>denouncing</th>\n",
              "      <th>humor</th>\n",
              "      <th>positive_tone</th>\n",
              "      <th>hostile_language</th>\n",
              "    </tr>\n",
              "  </thead>\n",
              "  <tbody>\n",
              "    <tr>\n",
              "      <th>6322</th>\n",
              "      <td>0</td>\n",
              "      <td>0</td>\n",
              "      <td>0</td>\n",
              "      <td>0</td>\n",
              "      <td>0</td>\n",
              "      <td>0</td>\n",
              "      <td>0</td>\n",
              "      <td>1</td>\n",
              "    </tr>\n",
              "    <tr>\n",
              "      <th>25515</th>\n",
              "      <td>0</td>\n",
              "      <td>0</td>\n",
              "      <td>0</td>\n",
              "      <td>0</td>\n",
              "      <td>0</td>\n",
              "      <td>1</td>\n",
              "      <td>0</td>\n",
              "      <td>0</td>\n",
              "    </tr>\n",
              "    <tr>\n",
              "      <th>14701</th>\n",
              "      <td>0</td>\n",
              "      <td>0</td>\n",
              "      <td>0</td>\n",
              "      <td>0</td>\n",
              "      <td>0</td>\n",
              "      <td>0</td>\n",
              "      <td>0</td>\n",
              "      <td>1</td>\n",
              "    </tr>\n",
              "    <tr>\n",
              "      <th>17334</th>\n",
              "      <td>0</td>\n",
              "      <td>0</td>\n",
              "      <td>0</td>\n",
              "      <td>0</td>\n",
              "      <td>0</td>\n",
              "      <td>1</td>\n",
              "      <td>0</td>\n",
              "      <td>0</td>\n",
              "    </tr>\n",
              "    <tr>\n",
              "      <th>34230</th>\n",
              "      <td>0</td>\n",
              "      <td>0</td>\n",
              "      <td>1</td>\n",
              "      <td>0</td>\n",
              "      <td>0</td>\n",
              "      <td>0</td>\n",
              "      <td>0</td>\n",
              "      <td>0</td>\n",
              "    </tr>\n",
              "    <tr>\n",
              "      <th>...</th>\n",
              "      <td>...</td>\n",
              "      <td>...</td>\n",
              "      <td>...</td>\n",
              "      <td>...</td>\n",
              "      <td>...</td>\n",
              "      <td>...</td>\n",
              "      <td>...</td>\n",
              "      <td>...</td>\n",
              "    </tr>\n",
              "    <tr>\n",
              "      <th>3220</th>\n",
              "      <td>1</td>\n",
              "      <td>0</td>\n",
              "      <td>0</td>\n",
              "      <td>0</td>\n",
              "      <td>0</td>\n",
              "      <td>0</td>\n",
              "      <td>1</td>\n",
              "      <td>0</td>\n",
              "    </tr>\n",
              "    <tr>\n",
              "      <th>23631</th>\n",
              "      <td>0</td>\n",
              "      <td>0</td>\n",
              "      <td>0</td>\n",
              "      <td>0</td>\n",
              "      <td>1</td>\n",
              "      <td>0</td>\n",
              "      <td>0</td>\n",
              "      <td>1</td>\n",
              "    </tr>\n",
              "    <tr>\n",
              "      <th>3775</th>\n",
              "      <td>1</td>\n",
              "      <td>0</td>\n",
              "      <td>1</td>\n",
              "      <td>0</td>\n",
              "      <td>1</td>\n",
              "      <td>0</td>\n",
              "      <td>0</td>\n",
              "      <td>0</td>\n",
              "    </tr>\n",
              "    <tr>\n",
              "      <th>689</th>\n",
              "      <td>0</td>\n",
              "      <td>0</td>\n",
              "      <td>0</td>\n",
              "      <td>0</td>\n",
              "      <td>0</td>\n",
              "      <td>1</td>\n",
              "      <td>0</td>\n",
              "      <td>0</td>\n",
              "    </tr>\n",
              "    <tr>\n",
              "      <th>17072</th>\n",
              "      <td>0</td>\n",
              "      <td>1</td>\n",
              "      <td>0</td>\n",
              "      <td>0</td>\n",
              "      <td>0</td>\n",
              "      <td>0</td>\n",
              "      <td>0</td>\n",
              "      <td>0</td>\n",
              "    </tr>\n",
              "  </tbody>\n",
              "</table>\n",
              "<p>20595 rows × 8 columns</p>\n",
              "</div>"
            ],
            "text/plain": [
              "       facts  hypocrisy  warning  ...  humor  positive_tone  hostile_language\n",
              "6322       0          0        0  ...      0              0                 1\n",
              "25515      0          0        0  ...      1              0                 0\n",
              "14701      0          0        0  ...      0              0                 1\n",
              "17334      0          0        0  ...      1              0                 0\n",
              "34230      0          0        1  ...      0              0                 0\n",
              "...      ...        ...      ...  ...    ...            ...               ...\n",
              "3220       1          0        0  ...      0              1                 0\n",
              "23631      0          0        0  ...      0              0                 1\n",
              "3775       1          0        1  ...      0              0                 0\n",
              "689        0          0        0  ...      1              0                 0\n",
              "17072      0          1        0  ...      0              0                 0\n",
              "\n",
              "[20595 rows x 8 columns]"
            ]
          },
          "metadata": {
            "tags": []
          },
          "execution_count": 11
        }
      ]
    },
    {
      "cell_type": "code",
      "metadata": {
        "colab": {
          "base_uri": "https://localhost:8080/",
          "height": 417
        },
        "id": "KX7d-Hkj-rGl",
        "outputId": "3782507c-7189-4fa1-e046-cf4c9fb40bba"
      },
      "source": [
        "YTest"
      ],
      "execution_count": null,
      "outputs": [
        {
          "output_type": "execute_result",
          "data": {
            "text/html": [
              "<div>\n",
              "<style scoped>\n",
              "    .dataframe tbody tr th:only-of-type {\n",
              "        vertical-align: middle;\n",
              "    }\n",
              "\n",
              "    .dataframe tbody tr th {\n",
              "        vertical-align: top;\n",
              "    }\n",
              "\n",
              "    .dataframe thead th {\n",
              "        text-align: right;\n",
              "    }\n",
              "</style>\n",
              "<table border=\"1\" class=\"dataframe\">\n",
              "  <thead>\n",
              "    <tr style=\"text-align: right;\">\n",
              "      <th></th>\n",
              "      <th>facts</th>\n",
              "      <th>hypocrisy</th>\n",
              "      <th>warning</th>\n",
              "      <th>affiliation</th>\n",
              "      <th>denouncing</th>\n",
              "      <th>humor</th>\n",
              "      <th>positive_tone</th>\n",
              "      <th>hostile_language</th>\n",
              "    </tr>\n",
              "  </thead>\n",
              "  <tbody>\n",
              "    <tr>\n",
              "      <th>560</th>\n",
              "      <td>0</td>\n",
              "      <td>0</td>\n",
              "      <td>0</td>\n",
              "      <td>1</td>\n",
              "      <td>0</td>\n",
              "      <td>0</td>\n",
              "      <td>0</td>\n",
              "      <td>0</td>\n",
              "    </tr>\n",
              "    <tr>\n",
              "      <th>17328</th>\n",
              "      <td>0</td>\n",
              "      <td>0</td>\n",
              "      <td>0</td>\n",
              "      <td>0</td>\n",
              "      <td>0</td>\n",
              "      <td>0</td>\n",
              "      <td>1</td>\n",
              "      <td>0</td>\n",
              "    </tr>\n",
              "    <tr>\n",
              "      <th>25008</th>\n",
              "      <td>0</td>\n",
              "      <td>0</td>\n",
              "      <td>0</td>\n",
              "      <td>0</td>\n",
              "      <td>1</td>\n",
              "      <td>0</td>\n",
              "      <td>0</td>\n",
              "      <td>1</td>\n",
              "    </tr>\n",
              "    <tr>\n",
              "      <th>31551</th>\n",
              "      <td>0</td>\n",
              "      <td>0</td>\n",
              "      <td>0</td>\n",
              "      <td>0</td>\n",
              "      <td>0</td>\n",
              "      <td>0</td>\n",
              "      <td>0</td>\n",
              "      <td>1</td>\n",
              "    </tr>\n",
              "    <tr>\n",
              "      <th>4847</th>\n",
              "      <td>0</td>\n",
              "      <td>0</td>\n",
              "      <td>0</td>\n",
              "      <td>0</td>\n",
              "      <td>0</td>\n",
              "      <td>0</td>\n",
              "      <td>0</td>\n",
              "      <td>1</td>\n",
              "    </tr>\n",
              "    <tr>\n",
              "      <th>...</th>\n",
              "      <td>...</td>\n",
              "      <td>...</td>\n",
              "      <td>...</td>\n",
              "      <td>...</td>\n",
              "      <td>...</td>\n",
              "      <td>...</td>\n",
              "      <td>...</td>\n",
              "      <td>...</td>\n",
              "    </tr>\n",
              "    <tr>\n",
              "      <th>1456</th>\n",
              "      <td>0</td>\n",
              "      <td>0</td>\n",
              "      <td>0</td>\n",
              "      <td>0</td>\n",
              "      <td>0</td>\n",
              "      <td>1</td>\n",
              "      <td>0</td>\n",
              "      <td>0</td>\n",
              "    </tr>\n",
              "    <tr>\n",
              "      <th>22653</th>\n",
              "      <td>0</td>\n",
              "      <td>0</td>\n",
              "      <td>0</td>\n",
              "      <td>0</td>\n",
              "      <td>0</td>\n",
              "      <td>0</td>\n",
              "      <td>0</td>\n",
              "      <td>1</td>\n",
              "    </tr>\n",
              "    <tr>\n",
              "      <th>21794</th>\n",
              "      <td>0</td>\n",
              "      <td>0</td>\n",
              "      <td>0</td>\n",
              "      <td>0</td>\n",
              "      <td>0</td>\n",
              "      <td>1</td>\n",
              "      <td>0</td>\n",
              "      <td>0</td>\n",
              "    </tr>\n",
              "    <tr>\n",
              "      <th>29532</th>\n",
              "      <td>0</td>\n",
              "      <td>0</td>\n",
              "      <td>0</td>\n",
              "      <td>0</td>\n",
              "      <td>0</td>\n",
              "      <td>0</td>\n",
              "      <td>1</td>\n",
              "      <td>0</td>\n",
              "    </tr>\n",
              "    <tr>\n",
              "      <th>32775</th>\n",
              "      <td>0</td>\n",
              "      <td>0</td>\n",
              "      <td>0</td>\n",
              "      <td>0</td>\n",
              "      <td>1</td>\n",
              "      <td>0</td>\n",
              "      <td>0</td>\n",
              "      <td>0</td>\n",
              "    </tr>\n",
              "  </tbody>\n",
              "</table>\n",
              "<p>13730 rows × 8 columns</p>\n",
              "</div>"
            ],
            "text/plain": [
              "       facts  hypocrisy  warning  ...  humor  positive_tone  hostile_language\n",
              "560        0          0        0  ...      0              0                 0\n",
              "17328      0          0        0  ...      0              1                 0\n",
              "25008      0          0        0  ...      0              0                 1\n",
              "31551      0          0        0  ...      0              0                 1\n",
              "4847       0          0        0  ...      0              0                 1\n",
              "...      ...        ...      ...  ...    ...            ...               ...\n",
              "1456       0          0        0  ...      1              0                 0\n",
              "22653      0          0        0  ...      0              0                 1\n",
              "21794      0          0        0  ...      1              0                 0\n",
              "29532      0          0        0  ...      0              1                 0\n",
              "32775      0          0        0  ...      0              0                 0\n",
              "\n",
              "[13730 rows x 8 columns]"
            ]
          },
          "metadata": {
            "tags": []
          },
          "execution_count": 12
        }
      ]
    },
    {
      "cell_type": "markdown",
      "metadata": {
        "id": "MwGkKxdC_flY"
      },
      "source": [
        "## Word2Vec"
      ]
    },
    {
      "cell_type": "code",
      "metadata": {
        "id": "BRhEhXwm-udp"
      },
      "source": [
        "import gensim\n",
        "from gensim.models.word2vec import Word2Vec\n",
        "LabeledSentence = gensim.models.doc2vec.LabeledSentence"
      ],
      "execution_count": null,
      "outputs": []
    },
    {
      "cell_type": "code",
      "metadata": {
        "colab": {
          "base_uri": "https://localhost:8080/"
        },
        "id": "MKjXVTY-_jyw",
        "outputId": "c9314771-0c87-48c5-9cea-b4781b6efba4"
      },
      "source": [
        "from gensim.models import Word2Vec\n",
        "import nltk\n",
        "nltk.download('punkt')\n",
        "from nltk.tokenize import sent_tokenize\n",
        "from nltk.tokenize import word_tokenize\n",
        "\n",
        "#  Reads text.txt file\n",
        "f = open(\"text.txt\", \"w\")\n",
        "f.truncate(0)\n",
        "for i in range(len(XTrain)):\n",
        "  f.write(XTrain[i])\n",
        "f.close()\n",
        "\n",
        "sample = open(\"text.txt\", \"r\")\n",
        "s = sample.read()\n",
        "\n",
        "\n",
        "# Replaces escape character with space\n",
        "f = s.replace(\"\\n\", \" \")\n",
        "  \n",
        "data = []\n",
        "  \n",
        "# iterate through each sentence in the file\n",
        "for i in sent_tokenize(f):\n",
        "    temp = []\n",
        "    # tokenize the sentence into words\n",
        "    for j in word_tokenize(i):\n",
        "        temp.append(j.lower())\n",
        "    data.append(temp)"
      ],
      "execution_count": null,
      "outputs": [
        {
          "output_type": "stream",
          "text": [
            "[nltk_data] Downloading package punkt to /root/nltk_data...\n",
            "[nltk_data]   Package punkt is already up-to-date!\n"
          ],
          "name": "stdout"
        }
      ]
    },
    {
      "cell_type": "code",
      "metadata": {
        "colab": {
          "base_uri": "https://localhost:8080/"
        },
        "id": "xdWc7MRn_mrJ",
        "outputId": "97e691ab-412f-48da-b45c-e15d98fc1c37"
      },
      "source": [
        "model_w2v = gensim.models.Word2Vec(\n",
        "            data,\n",
        "            size=200, # desired no. of features/independent variables\n",
        "            window=5, # context window size\n",
        "            min_count=5, # Ignores all words with total frequency lower than 5.                                  \n",
        "            sg = 1, # 1 for skip-gram model\n",
        "            hs = 0,\n",
        "            negative = 10, # for negative sampling\n",
        "            workers= 30, # no.of cores\n",
        "            seed = 34) \n",
        "\n",
        "model_w2v.train(data, total_examples= len(XTrain), epochs=20)"
      ],
      "execution_count": null,
      "outputs": [
        {
          "output_type": "execute_result",
          "data": {
            "text/plain": [
              "(200000, 6449540)"
            ]
          },
          "metadata": {
            "tags": []
          },
          "execution_count": 15
        }
      ]
    },
    {
      "cell_type": "code",
      "metadata": {
        "id": "Vd5eVAI7AUzL"
      },
      "source": [
        "embeddings_index = {}\n",
        "for w in model_w2v.wv.vocab.keys():\n",
        "    embeddings_index[w] = model_w2v.wv[w]"
      ],
      "execution_count": null,
      "outputs": []
    },
    {
      "cell_type": "code",
      "metadata": {
        "id": "dnpz5hGNAuCZ"
      },
      "source": [
        "from keras.preprocessing.text import Tokenizer\n",
        "from keras.preprocessing.sequence import pad_sequences\n",
        "tokenizer = Tokenizer(num_words=100000)\n",
        "tokenizer.fit_on_texts(XTrain)\n",
        "sequences = tokenizer.texts_to_sequences(XTrain)"
      ],
      "execution_count": null,
      "outputs": []
    },
    {
      "cell_type": "code",
      "metadata": {
        "colab": {
          "base_uri": "https://localhost:8080/"
        },
        "id": "2fbMErI_AzDO",
        "outputId": "910cf330-1d96-4611-b234-738924c1e002"
      },
      "source": [
        "for x in XTrain[:5, ]:\n",
        "    print(x)"
      ],
      "execution_count": null,
      "outputs": [
        {
          "output_type": "stream",
          "text": [
            "xxdonaldqxxx stupid animal sure ripping spirit apart word lol her word god quick powerful sharper wedged sword piercing even dividing asunder soul spirit joints marrow discerned thoughts intents heart\n",
            "slight lisp gay\n",
            "animation life\n",
            "humanity ago eve news break someone somebody adam years\n",
            "spot ran wouldve\n"
          ],
          "name": "stdout"
        }
      ]
    },
    {
      "cell_type": "code",
      "metadata": {
        "colab": {
          "base_uri": "https://localhost:8080/"
        },
        "id": "c121SqoqA5ba",
        "outputId": "211d2ceb-51a3-401a-bf51-551b2dfb0630"
      },
      "source": [
        "length = []\n",
        "for x in XTrain:\n",
        "    length.append(len(x.split()))\n",
        "max(length)"
      ],
      "execution_count": null,
      "outputs": [
        {
          "output_type": "execute_result",
          "data": {
            "text/plain": [
              "905"
            ]
          },
          "metadata": {
            "tags": []
          },
          "execution_count": 19
        }
      ]
    },
    {
      "cell_type": "code",
      "metadata": {
        "colab": {
          "base_uri": "https://localhost:8080/"
        },
        "id": "SAGxiqCSBUCB",
        "outputId": "c6336d0d-0c68-4418-afbd-91dac4e4da75"
      },
      "source": [
        "length = []\n",
        "for x in XTest:\n",
        "    length.append(len(x.split()))\n",
        "max(length)"
      ],
      "execution_count": null,
      "outputs": [
        {
          "output_type": "execute_result",
          "data": {
            "text/plain": [
              "977"
            ]
          },
          "metadata": {
            "tags": []
          },
          "execution_count": 20
        }
      ]
    },
    {
      "cell_type": "code",
      "metadata": {
        "colab": {
          "base_uri": "https://localhost:8080/"
        },
        "id": "yEJEQPeiBXsH",
        "outputId": "a09d320b-92a1-494b-80af-d3998a8b766d"
      },
      "source": [
        "XTrain_seq = pad_sequences(sequences, maxlen=980)\n",
        "XTrain_seq[:5]"
      ],
      "execution_count": null,
      "outputs": [
        {
          "output_type": "execute_result",
          "data": {
            "text/plain": [
              "array([[   0,    0,    0, ..., 1091, 9137,  246],\n",
              "       [   0,    0,    0, ..., 3929, 6108,   13],\n",
              "       [   0,    0,    0, ...,    0, 1910,   40],\n",
              "       [   0,    0,    0, ...,  476,  550,  119],\n",
              "       [   0,    0,    0, ..., 1801, 1450,  996]], dtype=int32)"
            ]
          },
          "metadata": {
            "tags": []
          },
          "execution_count": 21
        }
      ]
    },
    {
      "cell_type": "code",
      "metadata": {
        "colab": {
          "base_uri": "https://localhost:8080/"
        },
        "id": "DvX3HwYQBh2i",
        "outputId": "13a60a7b-c964-47e1-9fe7-ddb4df258e62"
      },
      "source": [
        "sequences_Test = tokenizer.texts_to_sequences(XTest)\n",
        "XTest_seq = pad_sequences(sequences_Test, maxlen=980)\n",
        "XTest_seq[:5]"
      ],
      "execution_count": null,
      "outputs": [
        {
          "output_type": "execute_result",
          "data": {
            "text/plain": [
              "array([[    0,     0,     0, ...,    39,   185,  2109],\n",
              "       [    0,     0,     0, ...,   210,   262,    45],\n",
              "       [    0,     0,     0, ..., 14030,    17,    12],\n",
              "       [    0,     0,     0, ...,    24,    18,  3498],\n",
              "       [    0,     0,     0, ...,  3346,  1902,   751]], dtype=int32)"
            ]
          },
          "metadata": {
            "tags": []
          },
          "execution_count": 22
        }
      ]
    },
    {
      "cell_type": "code",
      "metadata": {
        "id": "d6mqC2P9BnzM"
      },
      "source": [
        "num_words = 100000\n",
        "embedding_matrix = np.zeros((num_words, 200))\n",
        "for word, i in tokenizer.word_index.items():\n",
        "    if i >= num_words:\n",
        "        continue\n",
        "    embedding_vector = embeddings_index.get(word)\n",
        "    if embedding_vector is not None:\n",
        "        embedding_matrix[i] = embedding_vector"
      ],
      "execution_count": null,
      "outputs": []
    },
    {
      "cell_type": "markdown",
      "metadata": {
        "id": "3LCwHh_WB3rO"
      },
      "source": [
        "# CNN"
      ]
    },
    {
      "cell_type": "code",
      "metadata": {
        "id": "KaC8Yfy8BwTK"
      },
      "source": [
        "from keras.models import Sequential\n",
        "from keras.layers import Dense, Dropout\n",
        "from keras.layers import Flatten\n",
        "from keras.layers.embeddings import Embedding\n",
        "\n",
        "from keras.layers.convolutional import Conv1D\n",
        "from keras.layers.convolutional import MaxPooling1D\n",
        "from keras.preprocessing import sequence"
      ],
      "execution_count": null,
      "outputs": []
    },
    {
      "cell_type": "code",
      "metadata": {
        "id": "A5ibSsVSBy5y"
      },
      "source": [
        "model = Sequential()\n",
        "model.add(Embedding(100000, 200, input_length=980))\n",
        "model.add(Conv1D(64, 3, padding='valid', activation='relu'))\n",
        "model.add(MaxPooling1D())\n",
        "model.add(Flatten())\n",
        "model.add(Dense(250, activation='relu'))\n",
        "model.add(Dense(1, activation='sigmoid'))"
      ],
      "execution_count": null,
      "outputs": []
    },
    {
      "cell_type": "code",
      "metadata": {
        "colab": {
          "base_uri": "https://localhost:8080/"
        },
        "id": "bNT09c6dCEsm",
        "outputId": "5f1d6b3b-3fcb-400f-fc89-923856074431"
      },
      "source": [
        "model.compile(loss='binary_crossentropy', optimizer='adam', metrics=['accuracy'])\n",
        "model.summary()"
      ],
      "execution_count": null,
      "outputs": [
        {
          "output_type": "stream",
          "text": [
            "Model: \"sequential\"\n",
            "_________________________________________________________________\n",
            "Layer (type)                 Output Shape              Param #   \n",
            "=================================================================\n",
            "embedding (Embedding)        (None, 980, 200)          20000000  \n",
            "_________________________________________________________________\n",
            "conv1d (Conv1D)              (None, 978, 64)           38464     \n",
            "_________________________________________________________________\n",
            "max_pooling1d (MaxPooling1D) (None, 489, 64)           0         \n",
            "_________________________________________________________________\n",
            "flatten (Flatten)            (None, 31296)             0         \n",
            "_________________________________________________________________\n",
            "dense (Dense)                (None, 250)               7824250   \n",
            "_________________________________________________________________\n",
            "dense_1 (Dense)              (None, 1)                 251       \n",
            "=================================================================\n",
            "Total params: 27,862,965\n",
            "Trainable params: 27,862,965\n",
            "Non-trainable params: 0\n",
            "_________________________________________________________________\n"
          ],
          "name": "stdout"
        }
      ]
    },
    {
      "cell_type": "code",
      "metadata": {
        "id": "OPsbiBmmCLDB"
      },
      "source": [
        "clasess = ['facts',\t'hypocrisy', 'warning', 'affiliation', 'denouncing', 'humor', 'positive_tone', 'hostile_language']"
      ],
      "execution_count": null,
      "outputs": []
    },
    {
      "cell_type": "markdown",
      "metadata": {
        "id": "X93NREqiM9hO"
      },
      "source": [
        "### Facts"
      ]
    },
    {
      "cell_type": "code",
      "metadata": {
        "id": "IrmaiPHOTRG-",
        "colab": {
          "base_uri": "https://localhost:8080/",
          "height": 1000
        },
        "outputId": "d0334cae-8bb8-4580-9439-7af30885b5fe"
      },
      "source": [
        "history = model.fit(XTrain_seq, YTrain['facts'], validation_data=(XTest_seq, YTest['facts']), epochs=10, batch_size=128, verbose=2)\n",
        "\n",
        "print('\\nFinal training loss \\t', history.history['loss'][-1])\n",
        "print('Final training accuracy ', history.history['accuracy'][-1], '\\n')\n",
        "\n",
        "testLoss, testAccuracy = model.evaluate( XTest_seq, YTest['facts'])\n",
        "\n",
        "print('\\nTesting loss \\t', testLoss)\n",
        "print('Testing accuracy ', testAccuracy)\n",
        "\n",
        "# plotting training and validation loss\n",
        "\n",
        "loss = history.history['loss']\n",
        "val_loss = history.history['val_loss']\n",
        "epochs = range(1, len(loss) + 1)\n",
        "mplot.plot(epochs, loss, color='red', label='Training loss')\n",
        "mplot.plot(epochs, val_loss, color='green', label='Validation loss')\n",
        "mplot.title('Training and Validation loss')\n",
        "mplot.xlabel('Epochs')\n",
        "mplot.ylabel('Loss')\n",
        "mplot.legend()\n",
        "mplot.show()\n",
        "\n",
        "# plotting training and validation accuracy\n",
        "\n",
        "acc = history.history['accuracy']\n",
        "val_acc = history.history['val_accuracy']\n",
        "mplot.plot(epochs, acc, color='red', label='Training accuracy')\n",
        "mplot.plot(epochs, val_acc, color='green', label='Validation accuracy')\n",
        "mplot.title('Training and Validation accuracy')\n",
        "mplot.xlabel('Epochs')\n",
        "mplot.ylabel('Accuracy')\n",
        "mplot.legend()\n",
        "mplot.legend()\n",
        "mplot.show()\n",
        "\n",
        "YPred = model.predict(XTest_seq)\n",
        "for i in range(len(YPred)):\n",
        "  if(YPred[i] > 0.5):\n",
        "    YPred[i] = 1\n",
        "  else:\n",
        "    YPred[i] = 0\n",
        "\n",
        "print(classification_report(YTest['facts'], YPred))"
      ],
      "execution_count": null,
      "outputs": [
        {
          "output_type": "stream",
          "text": [
            "Epoch 1/10\n",
            "161/161 - 219s - loss: 0.0918 - accuracy: 0.9632 - val_loss: 0.0538 - val_accuracy: 0.9861\n",
            "Epoch 2/10\n",
            "161/161 - 217s - loss: 0.0032 - accuracy: 0.9994 - val_loss: 0.0581 - val_accuracy: 0.9876\n",
            "Epoch 3/10\n",
            "161/161 - 218s - loss: 9.6535e-04 - accuracy: 0.9998 - val_loss: 0.0577 - val_accuracy: 0.9878\n",
            "Epoch 4/10\n",
            "161/161 - 216s - loss: 4.7470e-04 - accuracy: 0.9999 - val_loss: 0.0636 - val_accuracy: 0.9875\n",
            "Epoch 5/10\n",
            "161/161 - 218s - loss: 2.9050e-04 - accuracy: 1.0000 - val_loss: 0.0681 - val_accuracy: 0.9875\n",
            "Epoch 6/10\n",
            "161/161 - 218s - loss: 1.8262e-04 - accuracy: 1.0000 - val_loss: 0.0659 - val_accuracy: 0.9875\n",
            "Epoch 7/10\n",
            "161/161 - 218s - loss: 1.2440e-04 - accuracy: 1.0000 - val_loss: 0.0680 - val_accuracy: 0.9877\n",
            "Epoch 8/10\n",
            "161/161 - 217s - loss: 8.1693e-05 - accuracy: 1.0000 - val_loss: 0.0683 - val_accuracy: 0.9873\n",
            "Epoch 9/10\n",
            "161/161 - 213s - loss: 1.5326e-04 - accuracy: 1.0000 - val_loss: 0.0737 - val_accuracy: 0.9870\n",
            "Epoch 10/10\n",
            "161/161 - 213s - loss: 1.4190e-04 - accuracy: 1.0000 - val_loss: 0.0794 - val_accuracy: 0.9868\n",
            "\n",
            "Final training loss \t 0.00014189699140843004\n",
            "Final training accuracy  0.9999514222145081 \n",
            "\n",
            "430/430 [==============================] - 31s 71ms/step - loss: 0.0794 - accuracy: 0.9868\n",
            "\n",
            "Testing loss \t 0.07939847558736801\n",
            "Testing accuracy  0.9868171811103821\n"
          ],
          "name": "stdout"
        },
        {
          "output_type": "display_data",
          "data": {
            "image/png": "[encoded data removed]",
            "text/plain": [
              "<Figure size 432x288 with 1 Axes>"
            ]
          },
          "metadata": {
            "tags": [],
            "needs_background": "light"
          }
        },
        {
          "output_type": "display_data",
          "data": {
            "image/png": "[encoded data removed]",
            "text/plain": [
              "<Figure size 432x288 with 1 Axes>"
            ]
          },
          "metadata": {
            "tags": [],
            "needs_background": "light"
          }
        },
        {
          "output_type": "stream",
          "text": [
            "              precision    recall  f1-score   support\n",
            "\n",
            "           0       0.99      0.99      0.99     12268\n",
            "           1       0.95      0.92      0.94      1462\n",
            "\n",
            "    accuracy                           0.99     13730\n",
            "   macro avg       0.97      0.96      0.96     13730\n",
            "weighted avg       0.99      0.99      0.99     13730\n",
            "\n"
          ],
          "name": "stdout"
        }
      ]
    },
    {
      "cell_type": "markdown",
      "metadata": {
        "id": "-Ow2mY-CNJlP"
      },
      "source": [
        "### Hypocrisy"
      ]
    },
    {
      "cell_type": "code",
      "metadata": {
        "id": "30kaCdy3TeqJ",
        "colab": {
          "base_uri": "https://localhost:8080/",
          "height": 1000
        },
        "outputId": "85d41d21-0826-4d44-d289-3fd3d3e17fe9"
      },
      "source": [
        "history = model.fit(XTrain_seq, YTrain['hypocrisy'], validation_data=(XTest_seq, YTest['hypocrisy']), epochs=10, batch_size=128, verbose=2)\n",
        "\n",
        "print('\\nFinal training loss \\t', history.history['loss'][-1])\n",
        "print('Final training accuracy ', history.history['accuracy'][-1], '\\n')\n",
        "\n",
        "testLoss, testAccuracy = model.evaluate( XTest_seq, YTest['hypocrisy'])\n",
        "\n",
        "print('\\nTesting loss  \\t', testLoss)\n",
        "print('Testing accuracy ', testAccuracy)\n",
        "\n",
        "# plotting training and validation loss\n",
        "\n",
        "loss = history.history['loss']\n",
        "val_loss = history.history['val_loss']\n",
        "epochs = range(1, len(loss) + 1)\n",
        "mplot.plot(epochs, loss, color='red', label='Training loss')\n",
        "mplot.plot(epochs, val_loss, color='green', label='Validation loss')\n",
        "mplot.title('Training and Validation loss')\n",
        "mplot.xlabel('Epochs')\n",
        "mplot.ylabel('Loss')\n",
        "mplot.legend()\n",
        "mplot.show()\n",
        "\n",
        "# plotting training and validation accuracy\n",
        "\n",
        "acc = history.history['accuracy']\n",
        "val_acc = history.history['val_accuracy']\n",
        "mplot.plot(epochs, acc, color='red', label='Training accuracy')\n",
        "mplot.plot(epochs, val_acc, color='green', label='Validation accuracy')\n",
        "mplot.title('Training and Validation accuracy')\n",
        "mplot.xlabel('Epochs')\n",
        "mplot.ylabel('Accuracy')\n",
        "mplot.legend()\n",
        "mplot.legend()\n",
        "mplot.show()\n",
        "\n",
        "YPred = model.predict(XTest_seq)\n",
        "for i in range(len(YPred)):\n",
        "  if(YPred[i] > 0.5):\n",
        "    YPred[i] = 1\n",
        "  else:\n",
        "    YPred[i] = 0\n",
        "\n",
        "print(classification_report(YTest['hypocrisy'], YPred))"
      ],
      "execution_count": null,
      "outputs": [
        {
          "output_type": "stream",
          "text": [
            "Epoch 1/10\n",
            "161/161 - 214s - loss: 0.1529 - accuracy: 0.9660 - val_loss: 0.1208 - val_accuracy: 0.9682\n",
            "Epoch 2/10\n",
            "161/161 - 213s - loss: 0.0157 - accuracy: 0.9949 - val_loss: 0.1110 - val_accuracy: 0.9732\n",
            "Epoch 3/10\n",
            "161/161 - 213s - loss: 0.0055 - accuracy: 0.9981 - val_loss: 0.1082 - val_accuracy: 0.9737\n",
            "Epoch 4/10\n",
            "161/161 - 213s - loss: 0.0030 - accuracy: 0.9988 - val_loss: 0.1553 - val_accuracy: 0.9734\n",
            "Epoch 5/10\n",
            "161/161 - 214s - loss: 0.0024 - accuracy: 0.9990 - val_loss: 0.1602 - val_accuracy: 0.9739\n",
            "Epoch 6/10\n",
            "161/161 - 215s - loss: 0.0020 - accuracy: 0.9992 - val_loss: 0.1312 - val_accuracy: 0.9749\n",
            "Epoch 7/10\n",
            "161/161 - 216s - loss: 0.0015 - accuracy: 0.9996 - val_loss: 0.1327 - val_accuracy: 0.9752\n",
            "Epoch 8/10\n",
            "161/161 - 216s - loss: 0.0013 - accuracy: 0.9995 - val_loss: 0.1347 - val_accuracy: 0.9744\n",
            "Epoch 9/10\n",
            "161/161 - 216s - loss: 9.5104e-04 - accuracy: 0.9996 - val_loss: 0.1403 - val_accuracy: 0.9744\n",
            "Epoch 10/10\n",
            "161/161 - 215s - loss: 7.3485e-04 - accuracy: 0.9997 - val_loss: 0.1450 - val_accuracy: 0.9746\n",
            "\n",
            "Final training loss \t 0.0007348497747443616\n",
            "Final training accuracy  0.9997086524963379 \n",
            "\n",
            "430/430 [==============================] - 30s 71ms/step - loss: 0.1450 - accuracy: 0.9746\n",
            "\n",
            "Testing loss \t 0.14497999846935272\n",
            "Testing accuracy  0.9745811820030212\n"
          ],
          "name": "stdout"
        },
        {
          "output_type": "display_data",
          "data": {
            "image/png": "[encoded data removed]",
            "text/plain": [
              "<Figure size 432x288 with 1 Axes>"
            ]
          },
          "metadata": {
            "tags": [],
            "needs_background": "light"
          }
        },
        {
          "output_type": "display_data",
          "data": {
            "image/png": "[encoded data removed]",
            "text/plain": [
              "<Figure size 432x288 with 1 Axes>"
            ]
          },
          "metadata": {
            "tags": [],
            "needs_background": "light"
          }
        },
        {
          "output_type": "stream",
          "text": [
            "              precision    recall  f1-score   support\n",
            "\n",
            "           0       0.98      0.99      0.99     11689\n",
            "           1       0.92      0.91      0.91      2041\n",
            "\n",
            "    accuracy                           0.97     13730\n",
            "   macro avg       0.95      0.95      0.95     13730\n",
            "weighted avg       0.97      0.97      0.97     13730\n",
            "\n"
          ],
          "name": "stdout"
        }
      ]
    },
    {
      "cell_type": "markdown",
      "metadata": {
        "id": "pSSdZXnFS06e"
      },
      "source": [
        "### Warning"
      ]
    },
    {
      "cell_type": "code",
      "metadata": {
        "id": "mpDBYSRiTmhe",
        "colab": {
          "base_uri": "https://localhost:8080/",
          "height": 1000
        },
        "outputId": "0ea37b91-b8f4-4065-90f3-fc5d7d869af4"
      },
      "source": [
        "history = model.fit(XTrain_seq, YTrain['warning'], validation_data=(XTest_seq, YTest['warning']), epochs=10, batch_size=128, verbose=2)\n",
        "\n",
        "print('\\nFinal training loss \\t', history.history['loss'][-1])\n",
        "print('Final training accuracy ', history.history['accuracy'][-1], '\\n')\n",
        "\n",
        "testLoss, testAccuracy = model.evaluate( XTest_seq, YTest['warning'])\n",
        "\n",
        "print('\\nTesting loss  \\t', testLoss)\n",
        "print('Testing accuracy ', testAccuracy)\n",
        "\n",
        "# plotting training and validation loss\n",
        "\n",
        "loss = history.history['loss']\n",
        "val_loss = history.history['val_loss']\n",
        "epochs = range(1, len(loss) + 1)\n",
        "mplot.plot(epochs, loss, color='red', label='Training loss')\n",
        "mplot.plot(epochs, val_loss, color='green', label='Validation loss')\n",
        "mplot.title('Training and Validation loss')\n",
        "mplot.xlabel('Epochs')\n",
        "mplot.ylabel('Loss')\n",
        "mplot.legend()\n",
        "mplot.show()\n",
        "\n",
        "# plotting training and validation accuracy\n",
        "\n",
        "acc = history.history['accuracy']\n",
        "val_acc = history.history['val_accuracy']\n",
        "mplot.plot(epochs, acc, color='red', label='Training accuracy')\n",
        "mplot.plot(epochs, val_acc, color='green', label='Validation accuracy')\n",
        "mplot.title('Training and Validation accuracy')\n",
        "mplot.xlabel('Epochs')\n",
        "mplot.ylabel('Accuracy')\n",
        "mplot.legend()\n",
        "mplot.legend()\n",
        "mplot.show()\n",
        "\n",
        "YPred = model.predict(XTest_seq)\n",
        "for i in range(len(YPred)):\n",
        "  if(YPred[i] > 0.5):\n",
        "    YPred[i] = 1\n",
        "  else:\n",
        "    YPred[i] = 0\n",
        "\n",
        "print(classification_report(YTest['warning'], YPred))"
      ],
      "execution_count": null,
      "outputs": [
        {
          "output_type": "stream",
          "text": [
            "Epoch 1/10\n",
            "161/161 - 213s - loss: 0.3983 - accuracy: 0.8904 - val_loss: 0.2056 - val_accuracy: 0.9289\n",
            "Epoch 2/10\n",
            "161/161 - 212s - loss: 0.1052 - accuracy: 0.9610 - val_loss: 0.0879 - val_accuracy: 0.9704\n",
            "Epoch 3/10\n",
            "161/161 - 213s - loss: 0.0336 - accuracy: 0.9892 - val_loss: 0.0762 - val_accuracy: 0.9779\n",
            "Epoch 4/10\n",
            "161/161 - 213s - loss: 0.0155 - accuracy: 0.9953 - val_loss: 0.0877 - val_accuracy: 0.9775\n",
            "Epoch 5/10\n",
            "161/161 - 213s - loss: 0.0082 - accuracy: 0.9979 - val_loss: 0.0860 - val_accuracy: 0.9796\n",
            "Epoch 6/10\n",
            "161/161 - 213s - loss: 0.0051 - accuracy: 0.9988 - val_loss: 0.0945 - val_accuracy: 0.9786\n",
            "Epoch 7/10\n",
            "161/161 - 213s - loss: 0.0036 - accuracy: 0.9991 - val_loss: 0.0981 - val_accuracy: 0.9794\n",
            "Epoch 8/10\n",
            "161/161 - 214s - loss: 0.0030 - accuracy: 0.9993 - val_loss: 0.1036 - val_accuracy: 0.9779\n",
            "Epoch 9/10\n",
            "161/161 - 213s - loss: 0.0023 - accuracy: 0.9995 - val_loss: 0.1103 - val_accuracy: 0.9789\n",
            "Epoch 10/10\n",
            "161/161 - 213s - loss: 0.0017 - accuracy: 0.9997 - val_loss: 0.1175 - val_accuracy: 0.9769\n",
            "\n",
            "Final training loss \t 0.0017420211806893349\n",
            "Final training accuracy  0.9997086524963379 \n",
            "\n",
            "430/430 [==============================] - 31s 73ms/step - loss: 0.1175 - accuracy: 0.9769\n",
            "\n",
            "Testing loss  \t 0.11746605485677719\n",
            "Testing accuracy  0.9769118428230286\n"
          ],
          "name": "stdout"
        },
        {
          "output_type": "display_data",
          "data": {
            "image/png": "[encoded data removed]",
            "text/plain": [
              "<Figure size 432x288 with 1 Axes>"
            ]
          },
          "metadata": {
            "tags": [],
            "needs_background": "light"
          }
        },
        {
          "output_type": "display_data",
          "data": {
            "image/png": "[encoded data removed]",
            "text/plain": [
              "<Figure size 432x288 with 1 Axes>"
            ]
          },
          "metadata": {
            "tags": [],
            "needs_background": "light"
          }
        },
        {
          "output_type": "stream",
          "text": [
            "              precision    recall  f1-score   support\n",
            "\n",
            "           0       0.99      0.99      0.99     12305\n",
            "           1       0.89      0.89      0.89      1425\n",
            "\n",
            "    accuracy                           0.98     13730\n",
            "   macro avg       0.94      0.94      0.94     13730\n",
            "weighted avg       0.98      0.98      0.98     13730\n",
            "\n"
          ],
          "name": "stdout"
        }
      ]
    },
    {
      "cell_type": "markdown",
      "metadata": {
        "id": "yHrcriOHQ6wQ"
      },
      "source": [
        "### Affiliation"
      ]
    },
    {
      "cell_type": "code",
      "metadata": {
        "id": "v6ys1IbFTnne",
        "colab": {
          "base_uri": "https://localhost:8080/",
          "height": 1000
        },
        "outputId": "c6be6691-4c94-4241-fe00-713c01d5febb"
      },
      "source": [
        "history = model.fit(XTrain_seq, YTrain['affiliation'], validation_data=(XTest_seq, YTest['affiliation']), epochs=10, batch_size=128, verbose=2)\n",
        "\n",
        "print('\\nFinal training loss \\t', history.history['loss'][-1])\n",
        "print('Final training accuracy ', history.history['accuracy'][-1], '\\n')\n",
        "\n",
        "testLoss, testAccuracy = model.evaluate( XTest_seq, YTest['affiliation'])\n",
        "\n",
        "print('\\nTesting loss  \\t', testLoss)\n",
        "print('Testing accuracy ', testAccuracy)\n",
        "\n",
        "# plotting training and validation loss\n",
        "\n",
        "loss = history.history['loss']\n",
        "val_loss = history.history['val_loss']\n",
        "epochs = range(1, len(loss) + 1)\n",
        "mplot.plot(epochs, loss, color='red', label='Training loss')\n",
        "mplot.plot(epochs, val_loss, color='green', label='Validation loss')\n",
        "mplot.title('Training and Validation loss')\n",
        "mplot.xlabel('Epochs')\n",
        "mplot.ylabel('Loss')\n",
        "mplot.legend()\n",
        "mplot.show()\n",
        "\n",
        "# plotting training and validation accuracy\n",
        "\n",
        "acc = history.history['accuracy']\n",
        "val_acc = history.history['val_accuracy']\n",
        "mplot.plot(epochs, acc, color='red', label='Training accuracy')\n",
        "mplot.plot(epochs, val_acc, color='green', label='Validation accuracy')\n",
        "mplot.title('Training and Validation accuracy')\n",
        "mplot.xlabel('Epochs')\n",
        "mplot.ylabel('Accuracy')\n",
        "mplot.legend()\n",
        "mplot.legend()\n",
        "mplot.show()\n",
        "\n",
        "YPred = model.predict(XTest_seq)\n",
        "for i in range(len(YPred)):\n",
        "  if(YPred[i] > 0.5):\n",
        "    YPred[i] = 1\n",
        "  else:\n",
        "    YPred[i] = 0\n",
        "\n",
        "print(classification_report(YTest['affiliation'], YPred))"
      ],
      "execution_count": null,
      "outputs": [
        {
          "output_type": "stream",
          "text": [
            "Epoch 1/10\n",
            "161/161 - 216s - loss: 0.3608 - accuracy: 0.9109 - val_loss: 0.2467 - val_accuracy: 0.9195\n",
            "Epoch 2/10\n",
            "161/161 - 216s - loss: 0.1699 - accuracy: 0.9418 - val_loss: 0.1074 - val_accuracy: 0.9619\n",
            "Epoch 3/10\n",
            "161/161 - 215s - loss: 0.0522 - accuracy: 0.9812 - val_loss: 0.0693 - val_accuracy: 0.9796\n",
            "Epoch 4/10\n",
            "161/161 - 215s - loss: 0.0216 - accuracy: 0.9933 - val_loss: 0.0740 - val_accuracy: 0.9806\n",
            "Epoch 5/10\n",
            "161/161 - 215s - loss: 0.0114 - accuracy: 0.9966 - val_loss: 0.0737 - val_accuracy: 0.9830\n",
            "Epoch 6/10\n",
            "161/161 - 214s - loss: 0.0074 - accuracy: 0.9980 - val_loss: 0.0759 - val_accuracy: 0.9836\n",
            "Epoch 7/10\n",
            "161/161 - 215s - loss: 0.0051 - accuracy: 0.9988 - val_loss: 0.0806 - val_accuracy: 0.9838\n",
            "Epoch 8/10\n",
            "161/161 - 215s - loss: 0.0039 - accuracy: 0.9990 - val_loss: 0.0890 - val_accuracy: 0.9832\n",
            "Epoch 9/10\n",
            "161/161 - 214s - loss: 0.0029 - accuracy: 0.9991 - val_loss: 0.0909 - val_accuracy: 0.9832\n",
            "Epoch 10/10\n",
            "161/161 - 214s - loss: 0.0024 - accuracy: 0.9992 - val_loss: 0.0952 - val_accuracy: 0.9832\n",
            "\n",
            "Final training loss \t 0.0024353275075554848\n",
            "Final training accuracy  0.9992231130599976 \n",
            "\n",
            "430/430 [==============================] - 31s 72ms/step - loss: 0.0952 - accuracy: 0.9832\n",
            "\n",
            "Testing loss  \t 0.09517476707696915\n",
            "Testing accuracy  0.98317551612854\n"
          ],
          "name": "stdout"
        },
        {
          "output_type": "display_data",
          "data": {
            "image/png": "[encoded data removed]",
            "text/plain": [
              "<Figure size 432x288 with 1 Axes>"
            ]
          },
          "metadata": {
            "tags": [],
            "needs_background": "light"
          }
        },
        {
          "output_type": "display_data",
          "data": {
            "image/png": "[encoded data removed]",
            "text/plain": [
              "<Figure size 432x288 with 1 Axes>"
            ]
          },
          "metadata": {
            "tags": [],
            "needs_background": "light"
          }
        },
        {
          "output_type": "stream",
          "text": [
            "              precision    recall  f1-score   support\n",
            "\n",
            "           0       0.99      0.99      0.99     12620\n",
            "           1       0.92      0.87      0.89      1110\n",
            "\n",
            "    accuracy                           0.98     13730\n",
            "   macro avg       0.95      0.93      0.94     13730\n",
            "weighted avg       0.98      0.98      0.98     13730\n",
            "\n"
          ],
          "name": "stdout"
        }
      ]
    },
    {
      "cell_type": "markdown",
      "metadata": {
        "id": "707nOWgsS4-5"
      },
      "source": [
        "### Denouncing"
      ]
    },
    {
      "cell_type": "code",
      "metadata": {
        "id": "e1h7EcufToaU",
        "colab": {
          "base_uri": "https://localhost:8080/",
          "height": 1000
        },
        "outputId": "9e8b53db-a6dc-43fc-a163-430fe2ae3032"
      },
      "source": [
        "history = model.fit(XTrain_seq, YTrain['denouncing'], validation_data=(XTest_seq, YTest['denouncing']), epochs=10, batch_size=128, verbose=2)\n",
        "\n",
        "print('\\nFinal training loss \\t', history.history['loss'][-1])\n",
        "print('Final training accuracy ', history.history['accuracy'][-1], '\\n')\n",
        "\n",
        "testLoss, testAccuracy = model.evaluate( XTest_seq, YTest['denouncing'])\n",
        "\n",
        "print('\\nTesting loss  \\t', testLoss)\n",
        "print('Testing accuracy ', testAccuracy)\n",
        "\n",
        "# plotting training and validation loss\n",
        "\n",
        "loss = history.history['loss']\n",
        "val_loss = history.history['val_loss']\n",
        "epochs = range(1, len(loss) + 1)\n",
        "mplot.plot(epochs, loss, color='red', label='Training loss')\n",
        "mplot.plot(epochs, val_loss, color='green', label='Validation loss')\n",
        "mplot.title('Training and Validation loss')\n",
        "mplot.xlabel('Epochs')\n",
        "mplot.ylabel('Loss')\n",
        "mplot.legend()\n",
        "mplot.show()\n",
        "\n",
        "# plotting training and validation accuracy\n",
        "\n",
        "acc = history.history['accuracy']\n",
        "val_acc = history.history['val_accuracy']\n",
        "mplot.plot(epochs, acc, color='red', label='Training accuracy')\n",
        "mplot.plot(epochs, val_acc, color='green', label='Validation accuracy')\n",
        "mplot.title('Training and Validation accuracy')\n",
        "mplot.xlabel('Epochs')\n",
        "mplot.ylabel('Accuracy')\n",
        "mplot.legend()\n",
        "mplot.legend()\n",
        "mplot.show()\n",
        "\n",
        "YPred = model.predict(XTest_seq)\n",
        "for i in range(len(YPred)):\n",
        "  if(YPred[i] > 0.5):\n",
        "    YPred[i] = 1\n",
        "  else:\n",
        "    YPred[i] = 0\n",
        "\n",
        "print(classification_report(YTest['denouncing'], YPred))"
      ],
      "execution_count": null,
      "outputs": [
        {
          "output_type": "stream",
          "text": [
            "Epoch 1/10\n",
            "161/161 - 214s - loss: 0.5717 - accuracy: 0.8036 - val_loss: 0.4611 - val_accuracy: 0.8051\n",
            "Epoch 2/10\n",
            "161/161 - 214s - loss: 0.3557 - accuracy: 0.8079 - val_loss: 0.3042 - val_accuracy: 0.8051\n",
            "Epoch 3/10\n",
            "161/161 - 213s - loss: 0.1983 - accuracy: 0.8989 - val_loss: 0.2012 - val_accuracy: 0.9245\n",
            "Epoch 4/10\n",
            "161/161 - 212s - loss: 0.0934 - accuracy: 0.9646 - val_loss: 0.1791 - val_accuracy: 0.9408\n",
            "Epoch 5/10\n",
            "161/161 - 212s - loss: 0.0518 - accuracy: 0.9813 - val_loss: 0.1718 - val_accuracy: 0.9481\n",
            "Epoch 6/10\n",
            "161/161 - 212s - loss: 0.0326 - accuracy: 0.9881 - val_loss: 0.1790 - val_accuracy: 0.9500\n",
            "Epoch 7/10\n",
            "161/161 - 213s - loss: 0.0240 - accuracy: 0.9908 - val_loss: 0.1954 - val_accuracy: 0.9497\n",
            "Epoch 8/10\n",
            "161/161 - 213s - loss: 0.0185 - accuracy: 0.9927 - val_loss: 0.2163 - val_accuracy: 0.9508\n",
            "Epoch 9/10\n",
            "161/161 - 212s - loss: 0.0155 - accuracy: 0.9942 - val_loss: 0.2228 - val_accuracy: 0.9494\n",
            "Epoch 10/10\n",
            "161/161 - 212s - loss: 0.0130 - accuracy: 0.9943 - val_loss: 0.2561 - val_accuracy: 0.9481\n",
            "\n",
            "Final training loss \t 0.013046592473983765\n",
            "Final training accuracy  0.9943190217018127 \n",
            "\n",
            "430/430 [==============================] - 31s 71ms/step - loss: 0.2561 - accuracy: 0.9481\n",
            "\n",
            "Testing loss  \t 0.256129652261734\n",
            "Testing accuracy  0.9480699300765991\n"
          ],
          "name": "stdout"
        },
        {
          "output_type": "display_data",
          "data": {
            "image/png": "[encoded data removed]",
            "text/plain": [
              "<Figure size 432x288 with 1 Axes>"
            ]
          },
          "metadata": {
            "tags": [],
            "needs_background": "light"
          }
        },
        {
          "output_type": "display_data",
          "data": {
            "image/png": "[encoded data removed]",
            "text/plain": [
              "<Figure size 432x288 with 1 Axes>"
            ]
          },
          "metadata": {
            "tags": [],
            "needs_background": "light"
          }
        },
        {
          "output_type": "stream",
          "text": [
            "              precision    recall  f1-score   support\n",
            "\n",
            "           0       0.96      0.98      0.97     11053\n",
            "           1       0.91      0.81      0.86      2677\n",
            "\n",
            "    accuracy                           0.95     13730\n",
            "   macro avg       0.93      0.90      0.91     13730\n",
            "weighted avg       0.95      0.95      0.95     13730\n",
            "\n"
          ],
          "name": "stdout"
        }
      ]
    },
    {
      "cell_type": "markdown",
      "metadata": {
        "id": "bxCxElLWS9-4"
      },
      "source": [
        "### Humor"
      ]
    },
    {
      "cell_type": "code",
      "metadata": {
        "colab": {
          "base_uri": "https://localhost:8080/",
          "height": 1000
        },
        "id": "oAnI2PBbTqCJ",
        "outputId": "502a3cf0-2e8c-4187-ced3-6bb7b93414fe"
      },
      "source": [
        "history = model.fit(XTrain_seq, YTrain['humor'], validation_data=(XTest_seq, YTest['humor']), epochs=10, batch_size=128, verbose=2)\n",
        "\n",
        "print('\\nFinal training loss \\t', history.history['loss'][-1])\n",
        "print('Final training accuracy ', history.history['accuracy'][-1], '\\n')\n",
        "\n",
        "testLoss, testAccuracy = model.evaluate( XTest_seq, YTest['humor'])\n",
        "\n",
        "print('\\nTesting loss  \\t', testLoss)\n",
        "print('Testing accuracy ', testAccuracy)\n",
        "\n",
        "# plotting training and validation loss\n",
        "\n",
        "loss = history.history['loss']\n",
        "val_loss = history.history['val_loss']\n",
        "epochs = range(1, len(loss) + 1)\n",
        "mplot.plot(epochs, loss, color='red', label='Training loss')\n",
        "mplot.plot(epochs, val_loss, color='green', label='Validation loss')\n",
        "mplot.title('Training and Validation loss')\n",
        "mplot.xlabel('Epochs')\n",
        "mplot.ylabel('Loss')\n",
        "mplot.legend()\n",
        "mplot.show()\n",
        "\n",
        "# plotting training and validation accuracy\n",
        "\n",
        "acc = history.history['accuracy']\n",
        "val_acc = history.history['val_accuracy']\n",
        "mplot.plot(epochs, acc, color='red', label='Training accuracy')\n",
        "mplot.plot(epochs, val_acc, color='green', label='Validation accuracy')\n",
        "mplot.title('Training and Validation accuracy')\n",
        "mplot.xlabel('Epochs')\n",
        "mplot.ylabel('Accuracy')\n",
        "mplot.legend()\n",
        "mplot.legend()\n",
        "mplot.show()\n",
        "\n",
        "YPred = model.predict(XTest_seq)\n",
        "for i in range(len(YPred)):\n",
        "  if(YPred[i] > 0.5):\n",
        "    YPred[i] = 1\n",
        "  else:\n",
        "    YPred[i] = 0\n",
        "\n",
        "print(classification_report(YTest['humor'], YPred))"
      ],
      "execution_count": null,
      "outputs": [
        {
          "output_type": "stream",
          "text": [
            "Epoch 1/10\n",
            "161/161 - 212s - loss: 0.5186 - accuracy: 0.8272 - val_loss: 0.3421 - val_accuracy: 0.8559\n",
            "Epoch 2/10\n",
            "161/161 - 211s - loss: 0.2100 - accuracy: 0.9194 - val_loss: 0.1479 - val_accuracy: 0.9495\n",
            "Epoch 3/10\n",
            "161/161 - 213s - loss: 0.0669 - accuracy: 0.9768 - val_loss: 0.0979 - val_accuracy: 0.9658\n",
            "Epoch 4/10\n",
            "161/161 - 212s - loss: 0.0287 - accuracy: 0.9913 - val_loss: 0.0850 - val_accuracy: 0.9719\n",
            "Epoch 5/10\n",
            "161/161 - 212s - loss: 0.0168 - accuracy: 0.9954 - val_loss: 0.0904 - val_accuracy: 0.9712\n",
            "Epoch 6/10\n",
            "161/161 - 213s - loss: 0.0114 - accuracy: 0.9967 - val_loss: 0.0953 - val_accuracy: 0.9709\n",
            "Epoch 7/10\n",
            "161/161 - 213s - loss: 0.0088 - accuracy: 0.9979 - val_loss: 0.0967 - val_accuracy: 0.9721\n",
            "Epoch 8/10\n",
            "161/161 - 213s - loss: 0.0068 - accuracy: 0.9982 - val_loss: 0.0990 - val_accuracy: 0.9725\n",
            "Epoch 9/10\n",
            "161/161 - 214s - loss: 0.0059 - accuracy: 0.9983 - val_loss: 0.1073 - val_accuracy: 0.9723\n",
            "Epoch 10/10\n",
            "161/161 - 213s - loss: 0.0051 - accuracy: 0.9986 - val_loss: 0.1111 - val_accuracy: 0.9715\n",
            "\n",
            "Final training loss \t 0.00508508924394846\n",
            "Final training accuracy  0.9986404180526733 \n",
            "\n",
            "430/430 [==============================] - 31s 71ms/step - loss: 0.1111 - accuracy: 0.9715\n",
            "\n",
            "Testing loss  \t 0.11114688962697983\n",
            "Testing accuracy  0.9715222120285034\n"
          ],
          "name": "stdout"
        },
        {
          "output_type": "display_data",
          "data": {
            "image/png": "[encoded data removed]",
            "text/plain": [
              "<Figure size 432x288 with 1 Axes>"
            ]
          },
          "metadata": {
            "tags": [],
            "needs_background": "light"
          }
        },
        {
          "output_type": "display_data",
          "data": {
            "image/png": "[encoded data removed]",
            "text/plain": [
              "<Figure size 432x288 with 1 Axes>"
            ]
          },
          "metadata": {
            "tags": [],
            "needs_background": "light"
          }
        },
        {
          "output_type": "stream",
          "text": [
            "              precision    recall  f1-score   support\n",
            "\n",
            "           0       0.98      0.99      0.98     11556\n",
            "           1       0.93      0.89      0.91      2174\n",
            "\n",
            "    accuracy                           0.97     13730\n",
            "   macro avg       0.95      0.94      0.95     13730\n",
            "weighted avg       0.97      0.97      0.97     13730\n",
            "\n"
          ],
          "name": "stdout"
        }
      ]
    },
    {
      "cell_type": "markdown",
      "metadata": {
        "id": "azovsMEsTBdL"
      },
      "source": [
        "### Positive_tone"
      ]
    },
    {
      "cell_type": "code",
      "metadata": {
        "id": "HqeVu9hXTqwR",
        "colab": {
          "base_uri": "https://localhost:8080/",
          "height": 1000
        },
        "outputId": "abd65f2f-a7d8-4699-f7a4-a0bab7ab7085"
      },
      "source": [
        "history = model.fit(XTrain_seq, YTrain['positive_tone'], validation_data=(XTest_seq, YTest['positive_tone']), epochs=10, batch_size=128, verbose=2)\n",
        "\n",
        "print('\\nFinal training loss \\t', history.history['loss'][-1])\n",
        "print('Final training accuracy ', history.history['accuracy'][-1], '\\n')\n",
        "\n",
        "testLoss, testAccuracy = model.evaluate( XTest_seq, YTest['positive_tone'])\n",
        "\n",
        "print('\\nTesting loss  \\t', testLoss)\n",
        "print('Testing accuracy ', testAccuracy)\n",
        "\n",
        "# plotting training and validation loss\n",
        "\n",
        "loss = history.history['loss']\n",
        "val_loss = history.history['val_loss']\n",
        "epochs = range(1, len(loss) + 1)\n",
        "mplot.plot(epochs, loss, color='red', label='Training loss')\n",
        "mplot.plot(epochs, val_loss, color='green', label='Validation loss')\n",
        "mplot.title('Training and Validation loss')\n",
        "mplot.xlabel('Epochs')\n",
        "mplot.ylabel('Loss')\n",
        "mplot.legend()\n",
        "mplot.show()\n",
        "\n",
        "# plotting training and validation accuracy\n",
        "\n",
        "acc = history.history['accuracy']\n",
        "val_acc = history.history['val_accuracy']\n",
        "mplot.plot(epochs, acc, color='red', label='Training accuracy')\n",
        "mplot.plot(epochs, val_acc, color='green', label='Validation accuracy')\n",
        "mplot.title('Training and Validation accuracy')\n",
        "mplot.xlabel('Epochs')\n",
        "mplot.ylabel('Accuracy')\n",
        "mplot.legend()\n",
        "mplot.legend()\n",
        "mplot.show()\n",
        "\n",
        "YPred = model.predict(XTest_seq)\n",
        "for i in range(len(YPred)):\n",
        "  if(YPred[i] > 0.5):\n",
        "    YPred[i] = 1\n",
        "  else:\n",
        "    YPred[i] = 0\n",
        "\n",
        "print(classification_report(YTest['positive_tone'], YPred))"
      ],
      "execution_count": null,
      "outputs": [
        {
          "output_type": "stream",
          "text": [
            "Epoch 1/10\n",
            "161/161 - 213s - loss: 0.4343 - accuracy: 0.8616 - val_loss: 0.3089 - val_accuracy: 0.8729\n",
            "Epoch 2/10\n",
            "161/161 - 213s - loss: 0.2053 - accuracy: 0.9099 - val_loss: 0.1638 - val_accuracy: 0.9349\n",
            "Epoch 3/10\n",
            "161/161 - 213s - loss: 0.0722 - accuracy: 0.9718 - val_loss: 0.1058 - val_accuracy: 0.9620\n",
            "Epoch 4/10\n",
            "161/161 - 213s - loss: 0.0278 - accuracy: 0.9912 - val_loss: 0.1103 - val_accuracy: 0.9639\n",
            "Epoch 5/10\n",
            "161/161 - 212s - loss: 0.0146 - accuracy: 0.9953 - val_loss: 0.0975 - val_accuracy: 0.9700\n",
            "Epoch 6/10\n",
            "161/161 - 212s - loss: 0.0097 - accuracy: 0.9972 - val_loss: 0.1070 - val_accuracy: 0.9705\n",
            "Epoch 7/10\n",
            "161/161 - 212s - loss: 0.0072 - accuracy: 0.9979 - val_loss: 0.1098 - val_accuracy: 0.9709\n",
            "Epoch 8/10\n",
            "161/161 - 212s - loss: 0.0060 - accuracy: 0.9981 - val_loss: 0.1157 - val_accuracy: 0.9723\n",
            "Epoch 9/10\n",
            "161/161 - 212s - loss: 0.0047 - accuracy: 0.9986 - val_loss: 0.1185 - val_accuracy: 0.9724\n",
            "Epoch 10/10\n",
            "161/161 - 212s - loss: 0.0040 - accuracy: 0.9988 - val_loss: 0.1256 - val_accuracy: 0.9716\n",
            "\n",
            "Final training loss \t 0.004015028476715088\n",
            "Final training accuracy  0.9987860918045044 \n",
            "\n",
            "430/430 [==============================] - 31s 72ms/step - loss: 0.1256 - accuracy: 0.9716\n",
            "\n",
            "Testing loss  \t 0.12564556300640106\n",
            "Testing accuracy  0.971595048904419\n"
          ],
          "name": "stdout"
        },
        {
          "output_type": "display_data",
          "data": {
            "image/png": "[encoded data removed]",
            "text/plain": [
              "<Figure size 432x288 with 1 Axes>"
            ]
          },
          "metadata": {
            "tags": [],
            "needs_background": "light"
          }
        },
        {
          "output_type": "display_data",
          "data": {
            "image/png": "[encoded data removed]",
            "text/plain": [
              "<Figure size 432x288 with 1 Axes>"
            ]
          },
          "metadata": {
            "tags": [],
            "needs_background": "light"
          }
        },
        {
          "output_type": "stream",
          "text": [
            "              precision    recall  f1-score   support\n",
            "\n",
            "           0       0.98      0.99      0.98     11988\n",
            "           1       0.92      0.85      0.88      1742\n",
            "\n",
            "    accuracy                           0.97     13730\n",
            "   macro avg       0.95      0.92      0.93     13730\n",
            "weighted avg       0.97      0.97      0.97     13730\n",
            "\n"
          ],
          "name": "stdout"
        }
      ]
    },
    {
      "cell_type": "markdown",
      "metadata": {
        "id": "9t4CnDnkTE4W"
      },
      "source": [
        "### Hostile_language"
      ]
    },
    {
      "cell_type": "code",
      "metadata": {
        "id": "xZHs-AIzTrZY",
        "colab": {
          "base_uri": "https://localhost:8080/",
          "height": 1000
        },
        "outputId": "e312b6da-dfc1-4589-e294-888d187cc4ca"
      },
      "source": [
        "history = model.fit(XTrain_seq, YTrain['hostile_language'], validation_data=(XTest_seq, YTest['hostile_language']), epochs=10, batch_size=128, verbose=2)\n",
        "\n",
        "print('\\nFinal training loss \\t', history.history['loss'][-1])\n",
        "print('Final training accuracy ', history.history['accuracy'][-1], '\\n')\n",
        "\n",
        "testLoss, testAccuracy = model.evaluate( XTest_seq, YTest['hostile_language'])\n",
        "\n",
        "print('\\nTesting loss  \\t', testLoss)\n",
        "print('Testing accuracy ', testAccuracy)\n",
        "\n",
        "# plotting training and validation loss\n",
        "\n",
        "loss = history.history['loss']\n",
        "val_loss = history.history['val_loss']\n",
        "epochs = range(1, len(loss) + 1)\n",
        "mplot.plot(epochs, loss, color='red', label='Training loss')\n",
        "mplot.plot(epochs, val_loss, color='green', label='Validation loss')\n",
        "mplot.title('Training and Validation loss')\n",
        "mplot.xlabel('Epochs')\n",
        "mplot.ylabel('Loss')\n",
        "mplot.legend()\n",
        "mplot.show()\n",
        "\n",
        "# plotting training and validation accuracy\n",
        "\n",
        "acc = history.history['accuracy']\n",
        "val_acc = history.history['val_accuracy']\n",
        "mplot.plot(epochs, acc, color='red', label='Training accuracy')\n",
        "mplot.plot(epochs, val_acc, color='green', label='Validation accuracy')\n",
        "mplot.title('Training and Validation accuracy')\n",
        "mplot.xlabel('Epochs')\n",
        "mplot.ylabel('Accuracy')\n",
        "mplot.legend()\n",
        "mplot.legend()\n",
        "mplot.show()\n",
        "\n",
        "YPred = model.predict(XTest_seq)\n",
        "for i in range(len(YPred)):\n",
        "  if(YPred[i] > 0.5):\n",
        "    YPred[i] = 1\n",
        "  else:\n",
        "    YPred[i] = 0\n",
        "\n",
        "print(classification_report(YTest['hostile_language'], YPred))"
      ],
      "execution_count": null,
      "outputs": [
        {
          "output_type": "stream",
          "text": [
            "Epoch 1/10\n",
            "161/161 - 213s - loss: 0.7376 - accuracy: 0.7527 - val_loss: 0.3382 - val_accuracy: 0.8518\n",
            "Epoch 2/10\n",
            "161/161 - 213s - loss: 0.1679 - accuracy: 0.9336 - val_loss: 0.2232 - val_accuracy: 0.9130\n",
            "Epoch 3/10\n",
            "161/161 - 213s - loss: 0.0730 - accuracy: 0.9727 - val_loss: 0.2010 - val_accuracy: 0.9312\n",
            "Epoch 4/10\n",
            "161/161 - 213s - loss: 0.0406 - accuracy: 0.9858 - val_loss: 0.2141 - val_accuracy: 0.9326\n",
            "Epoch 5/10\n",
            "161/161 - 213s - loss: 0.0265 - accuracy: 0.9908 - val_loss: 0.2178 - val_accuracy: 0.9387\n",
            "Epoch 6/10\n",
            "161/161 - 212s - loss: 0.0191 - accuracy: 0.9933 - val_loss: 0.2329 - val_accuracy: 0.9380\n",
            "Epoch 7/10\n",
            "161/161 - 213s - loss: 0.0153 - accuracy: 0.9945 - val_loss: 0.2516 - val_accuracy: 0.9392\n",
            "Epoch 8/10\n",
            "161/161 - 213s - loss: 0.0123 - accuracy: 0.9953 - val_loss: 0.2674 - val_accuracy: 0.9374\n",
            "Epoch 9/10\n",
            "161/161 - 213s - loss: 0.0116 - accuracy: 0.9950 - val_loss: 0.2654 - val_accuracy: 0.9374\n",
            "Epoch 10/10\n",
            "161/161 - 214s - loss: 0.0097 - accuracy: 0.9960 - val_loss: 0.2873 - val_accuracy: 0.9368\n",
            "\n",
            "Final training loss \t 0.009683353826403618\n",
            "Final training accuracy  0.9960184693336487 \n",
            "\n",
            "430/430 [==============================] - 31s 71ms/step - loss: 0.2873 - accuracy: 0.9368\n",
            "\n",
            "Testing loss  \t 0.2872568666934967\n",
            "Testing accuracy  0.9367807507514954\n"
          ],
          "name": "stdout"
        },
        {
          "output_type": "display_data",
          "data": {
            "image/png": "[encoded data removed]",
            "text/plain": [
              "<Figure size 432x288 with 1 Axes>"
            ]
          },
          "metadata": {
            "tags": [],
            "needs_background": "light"
          }
        },
        {
          "output_type": "display_data",
          "data": {
            "image/png": "[encoded data removed]",
            "text/plain": [
              "<Figure size 432x288 with 1 Axes>"
            ]
          },
          "metadata": {
            "tags": [],
            "needs_background": "light"
          }
        },
        {
          "output_type": "stream",
          "text": [
            "              precision    recall  f1-score   support\n",
            "\n",
            "           0       0.95      0.94      0.95      8281\n",
            "           1       0.91      0.93      0.92      5449\n",
            "\n",
            "    accuracy                           0.94     13730\n",
            "   macro avg       0.93      0.94      0.93     13730\n",
            "weighted avg       0.94      0.94      0.94     13730\n",
            "\n"
          ],
          "name": "stdout"
        }
      ]
    }
  ]
}