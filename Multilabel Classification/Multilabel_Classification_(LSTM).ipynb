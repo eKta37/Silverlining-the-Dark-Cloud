{
  "nbformat": 4,
  "nbformat_minor": 0,
  "metadata": {
    "colab": {
      "name": "Multilabel Classification (LSTM).ipynb",
      "provenance": [],
      "collapsed_sections": []
    },
    "kernelspec": {
      "name": "python3",
      "display_name": "Python 3"
    },
    "language_info": {
      "name": "python"
    }
  },
  "cells": [
    {
      "cell_type": "code",
      "metadata": {
        "id": "scMPxaPBlBUW",
        "colab": {
          "base_uri": "https://localhost:8080/"
        },
        "outputId": "4968ab44-1c68-4ca2-ad1b-351be8322ece"
      },
      "source": [
        "from google.colab import drive\n",
        "drive.mount('/content/gdrive')"
      ],
      "execution_count": null,
      "outputs": [
        {
          "output_type": "stream",
          "text": [
            "Mounted at /content/gdrive\n"
          ],
          "name": "stdout"
        }
      ]
    },
    {
      "cell_type": "code",
      "metadata": {
        "id": "RvsXnBFzlRmh",
        "colab": {
          "base_uri": "https://localhost:8080/"
        },
        "outputId": "3dcdddc6-8752-4adc-8d9f-76993e674059"
      },
      "source": [
        "cd gdrive"
      ],
      "execution_count": null,
      "outputs": [
        {
          "output_type": "stream",
          "text": [
            "/content/gdrive\n"
          ],
          "name": "stdout"
        }
      ]
    },
    {
      "cell_type": "code",
      "metadata": {
        "id": "DzI57N7clRpI",
        "colab": {
          "base_uri": "https://localhost:8080/"
        },
        "outputId": "921ae7ce-c075-4b58-e5e4-42b5dbbc8bef"
      },
      "source": [
        "cd MyDrive"
      ],
      "execution_count": null,
      "outputs": [
        {
          "output_type": "stream",
          "text": [
            "/content/gdrive/MyDrive\n"
          ],
          "name": "stdout"
        }
      ]
    },
    {
      "cell_type": "code",
      "metadata": {
        "id": "rhgd_wSllRrt",
        "colab": {
          "base_uri": "https://localhost:8080/"
        },
        "outputId": "29ab566a-7b97-45ba-c483-ccedb1d3cac9"
      },
      "source": [
        "cd Colab datasets"
      ],
      "execution_count": null,
      "outputs": [
        {
          "output_type": "stream",
          "text": [
            "/content/gdrive/MyDrive/Colab datasets\n"
          ],
          "name": "stdout"
        }
      ]
    },
    {
      "cell_type": "code",
      "metadata": {
        "id": "OLq9cuPZlRuZ"
      },
      "source": [
        "# importing necessary libraries\n",
        "import os\n",
        "\n",
        "from nltk.corpus import stopwords\n",
        "from nltk.util import ngrams\n",
        "\n",
        "from sklearn.feature_extraction.text import CountVectorizer, TfidfVectorizer\n",
        "from sklearn.model_selection import train_test_split\n",
        "from sklearn.decomposition import PCA, TruncatedSVD\n",
        "from sklearn.metrics import classification_report,confusion_matrix\n",
        "\n",
        "import numpy as np\n",
        "import pandas as pd\n",
        "import seaborn as sb\n",
        "import matplotlib.pyplot as mplot\n",
        "\n",
        "from __future__ import division, print_function\n",
        "from gensim import models\n",
        "from keras.callbacks import ModelCheckpoint\n",
        "from keras.layers import Dense, Dropout, Reshape, Flatten, concatenate, Input, Conv1D, GlobalMaxPooling1D, Embedding\n",
        "from keras.layers.recurrent import LSTM\n",
        "from keras.models import Sequential\n",
        "from keras.preprocessing.text import Tokenizer\n",
        "from keras.preprocessing.sequence import pad_sequences\n",
        "from keras.models import Model\n",
        "from sklearn.model_selection import train_test_split\n",
        "\n",
        "from sklearn.metrics import confusion_matrix\n",
        "from sklearn.metrics import classification_report\n",
        "\n",
        "import math"
      ],
      "execution_count": null,
      "outputs": []
    },
    {
      "cell_type": "code",
      "metadata": {
        "id": "8UyKWEaflRw_",
        "colab": {
          "base_uri": "https://localhost:8080/",
          "height": 203
        },
        "outputId": "afa62b04-7ff7-4a7f-c121-76eda0d35da1"
      },
      "source": [
        "Data = pd.read_csv(\"multilable_dataset.csv\")\n",
        "Data.head()"
      ],
      "execution_count": null,
      "outputs": [
        {
          "output_type": "execute_result",
          "data": {
            "text/html": [
              "<div>\n",
              "<style scoped>\n",
              "    .dataframe tbody tr th:only-of-type {\n",
              "        vertical-align: middle;\n",
              "    }\n",
              "\n",
              "    .dataframe tbody tr th {\n",
              "        vertical-align: top;\n",
              "    }\n",
              "\n",
              "    .dataframe thead th {\n",
              "        text-align: right;\n",
              "    }\n",
              "</style>\n",
              "<table border=\"1\" class=\"dataframe\">\n",
              "  <thead>\n",
              "    <tr style=\"text-align: right;\">\n",
              "      <th></th>\n",
              "      <th>commentText</th>\n",
              "      <th>facts</th>\n",
              "      <th>hypocrisy</th>\n",
              "      <th>warning</th>\n",
              "      <th>affiliation</th>\n",
              "      <th>denouncing</th>\n",
              "      <th>humor</th>\n",
              "      <th>positive_tone</th>\n",
              "      <th>hostile_language</th>\n",
              "    </tr>\n",
              "  </thead>\n",
              "  <tbody>\n",
              "    <tr>\n",
              "      <th>0</th>\n",
              "      <td>kind god hates people curses kind people belie...</td>\n",
              "      <td>0</td>\n",
              "      <td>1</td>\n",
              "      <td>0</td>\n",
              "      <td>0</td>\n",
              "      <td>0</td>\n",
              "      <td>0</td>\n",
              "      <td>1</td>\n",
              "      <td>0</td>\n",
              "    </tr>\n",
              "    <tr>\n",
              "      <th>1</th>\n",
              "      <td>question comment racist jews smartest group pe...</td>\n",
              "      <td>0</td>\n",
              "      <td>0</td>\n",
              "      <td>0</td>\n",
              "      <td>0</td>\n",
              "      <td>0</td>\n",
              "      <td>0</td>\n",
              "      <td>1</td>\n",
              "      <td>0</td>\n",
              "    </tr>\n",
              "    <tr>\n",
              "      <th>2</th>\n",
              "      <td>israel fail nothing new israel rebellious nati...</td>\n",
              "      <td>0</td>\n",
              "      <td>0</td>\n",
              "      <td>0</td>\n",
              "      <td>0</td>\n",
              "      <td>0</td>\n",
              "      <td>0</td>\n",
              "      <td>1</td>\n",
              "      <td>0</td>\n",
              "    </tr>\n",
              "    <tr>\n",
              "      <th>3</th>\n",
              "      <td>god damned ignorant little prick doesnt know a...</td>\n",
              "      <td>0</td>\n",
              "      <td>0</td>\n",
              "      <td>0</td>\n",
              "      <td>0</td>\n",
              "      <td>0</td>\n",
              "      <td>0</td>\n",
              "      <td>0</td>\n",
              "      <td>1</td>\n",
              "    </tr>\n",
              "    <tr>\n",
              "      <th>4</th>\n",
              "      <td>shit may cooler police brutality people assumi...</td>\n",
              "      <td>0</td>\n",
              "      <td>1</td>\n",
              "      <td>0</td>\n",
              "      <td>0</td>\n",
              "      <td>0</td>\n",
              "      <td>0</td>\n",
              "      <td>0</td>\n",
              "      <td>0</td>\n",
              "    </tr>\n",
              "  </tbody>\n",
              "</table>\n",
              "</div>"
            ],
            "text/plain": [
              "                                         commentText  ...  hostile_language\n",
              "0  kind god hates people curses kind people belie...  ...                 0\n",
              "1  question comment racist jews smartest group pe...  ...                 0\n",
              "2  israel fail nothing new israel rebellious nati...  ...                 0\n",
              "3  god damned ignorant little prick doesnt know a...  ...                 1\n",
              "4  shit may cooler police brutality people assumi...  ...                 0\n",
              "\n",
              "[5 rows x 9 columns]"
            ]
          },
          "metadata": {
            "tags": []
          },
          "execution_count": 10
        }
      ]
    },
    {
      "cell_type": "code",
      "metadata": {
        "id": "aWD3V8kHlRzb"
      },
      "source": [
        "from sklearn.model_selection import train_test_split"
      ],
      "execution_count": null,
      "outputs": []
    },
    {
      "cell_type": "code",
      "metadata": {
        "id": "nz2xD0z8lR2A"
      },
      "source": [
        "train, test = train_test_split(Data, test_size=0.40, shuffle=True)\n",
        "XTrain = train['commentText'].values\n",
        "XTest = test['commentText'].values\n",
        " \n",
        "labels=['facts', 'hypocrisy', 'warning', 'affiliation', 'denouncing', 'humor', 'positive_tone', 'hostile_language']\n",
        "YTrain = train[labels]\n",
        "YTest = test[labels]"
      ],
      "execution_count": null,
      "outputs": []
    },
    {
      "cell_type": "code",
      "metadata": {
        "id": "JxZPwhBwlR4W",
        "colab": {
          "base_uri": "https://localhost:8080/"
        },
        "outputId": "c2bd88a4-d9e3-46e5-cc8e-ef992077a7ab"
      },
      "source": [
        "XTrain"
      ],
      "execution_count": null,
      "outputs": [
        {
          "output_type": "execute_result",
          "data": {
            "text/plain": [
              "array(['gets kids national twice gets beat story couple white bus mentioned forgotton black student murdered year school yet ago black',\n",
              "       'send allah', 'hell world thats infested like people going', ...,\n",
              "       'nasty fucking biiiitch', 'guess gay guys forum guess kirk hot',\n",
              "       'wild natural lions person say dumbest goes gay honestly ever chimpanzees unnatural'],\n",
              "      dtype=object)"
            ]
          },
          "metadata": {
            "tags": []
          },
          "execution_count": 13
        }
      ]
    },
    {
      "cell_type": "code",
      "metadata": {
        "id": "PE3o4wxhlR7K",
        "colab": {
          "base_uri": "https://localhost:8080/"
        },
        "outputId": "3180c3a6-d4fc-41df-b101-f627d82fe250"
      },
      "source": [
        "XTest"
      ],
      "execution_count": null,
      "outputs": [
        {
          "output_type": "execute_result",
          "data": {
            "text/plain": [
              "array(['long prat points ground cop cop cop', 'please get diabetes',\n",
              "       'ignorant basterd', ...,\n",
              "       'homosexuality probably behavior species world present study unnatural exhibit',\n",
              "       'book longer idea homosexuality old leger talking fairy biblekirk call fact',\n",
              "       'thats yes patent nothing apparent hate'], dtype=object)"
            ]
          },
          "metadata": {
            "tags": []
          },
          "execution_count": 14
        }
      ]
    },
    {
      "cell_type": "code",
      "metadata": {
        "id": "yNW-RVaMlR9v",
        "colab": {
          "base_uri": "https://localhost:8080/",
          "height": 417
        },
        "outputId": "d3265e48-a9f9-4d5f-8b02-e5c560b063ef"
      },
      "source": [
        "YTrain"
      ],
      "execution_count": null,
      "outputs": [
        {
          "output_type": "execute_result",
          "data": {
            "text/html": [
              "<div>\n",
              "<style scoped>\n",
              "    .dataframe tbody tr th:only-of-type {\n",
              "        vertical-align: middle;\n",
              "    }\n",
              "\n",
              "    .dataframe tbody tr th {\n",
              "        vertical-align: top;\n",
              "    }\n",
              "\n",
              "    .dataframe thead th {\n",
              "        text-align: right;\n",
              "    }\n",
              "</style>\n",
              "<table border=\"1\" class=\"dataframe\">\n",
              "  <thead>\n",
              "    <tr style=\"text-align: right;\">\n",
              "      <th></th>\n",
              "      <th>facts</th>\n",
              "      <th>hypocrisy</th>\n",
              "      <th>warning</th>\n",
              "      <th>affiliation</th>\n",
              "      <th>denouncing</th>\n",
              "      <th>humor</th>\n",
              "      <th>positive_tone</th>\n",
              "      <th>hostile_language</th>\n",
              "    </tr>\n",
              "  </thead>\n",
              "  <tbody>\n",
              "    <tr>\n",
              "      <th>31387</th>\n",
              "      <td>0</td>\n",
              "      <td>1</td>\n",
              "      <td>0</td>\n",
              "      <td>0</td>\n",
              "      <td>1</td>\n",
              "      <td>0</td>\n",
              "      <td>0</td>\n",
              "      <td>0</td>\n",
              "    </tr>\n",
              "    <tr>\n",
              "      <th>3225</th>\n",
              "      <td>0</td>\n",
              "      <td>0</td>\n",
              "      <td>0</td>\n",
              "      <td>0</td>\n",
              "      <td>0</td>\n",
              "      <td>0</td>\n",
              "      <td>0</td>\n",
              "      <td>1</td>\n",
              "    </tr>\n",
              "    <tr>\n",
              "      <th>29037</th>\n",
              "      <td>0</td>\n",
              "      <td>0</td>\n",
              "      <td>1</td>\n",
              "      <td>0</td>\n",
              "      <td>0</td>\n",
              "      <td>0</td>\n",
              "      <td>0</td>\n",
              "      <td>1</td>\n",
              "    </tr>\n",
              "    <tr>\n",
              "      <th>1717</th>\n",
              "      <td>0</td>\n",
              "      <td>0</td>\n",
              "      <td>0</td>\n",
              "      <td>0</td>\n",
              "      <td>0</td>\n",
              "      <td>0</td>\n",
              "      <td>0</td>\n",
              "      <td>1</td>\n",
              "    </tr>\n",
              "    <tr>\n",
              "      <th>25268</th>\n",
              "      <td>0</td>\n",
              "      <td>0</td>\n",
              "      <td>0</td>\n",
              "      <td>0</td>\n",
              "      <td>1</td>\n",
              "      <td>0</td>\n",
              "      <td>1</td>\n",
              "      <td>0</td>\n",
              "    </tr>\n",
              "    <tr>\n",
              "      <th>...</th>\n",
              "      <td>...</td>\n",
              "      <td>...</td>\n",
              "      <td>...</td>\n",
              "      <td>...</td>\n",
              "      <td>...</td>\n",
              "      <td>...</td>\n",
              "      <td>...</td>\n",
              "      <td>...</td>\n",
              "    </tr>\n",
              "    <tr>\n",
              "      <th>13131</th>\n",
              "      <td>1</td>\n",
              "      <td>0</td>\n",
              "      <td>0</td>\n",
              "      <td>0</td>\n",
              "      <td>0</td>\n",
              "      <td>0</td>\n",
              "      <td>0</td>\n",
              "      <td>0</td>\n",
              "    </tr>\n",
              "    <tr>\n",
              "      <th>12670</th>\n",
              "      <td>1</td>\n",
              "      <td>0</td>\n",
              "      <td>0</td>\n",
              "      <td>0</td>\n",
              "      <td>1</td>\n",
              "      <td>0</td>\n",
              "      <td>0</td>\n",
              "      <td>0</td>\n",
              "    </tr>\n",
              "    <tr>\n",
              "      <th>29786</th>\n",
              "      <td>0</td>\n",
              "      <td>0</td>\n",
              "      <td>0</td>\n",
              "      <td>0</td>\n",
              "      <td>0</td>\n",
              "      <td>0</td>\n",
              "      <td>0</td>\n",
              "      <td>1</td>\n",
              "    </tr>\n",
              "    <tr>\n",
              "      <th>16615</th>\n",
              "      <td>0</td>\n",
              "      <td>0</td>\n",
              "      <td>0</td>\n",
              "      <td>0</td>\n",
              "      <td>0</td>\n",
              "      <td>1</td>\n",
              "      <td>0</td>\n",
              "      <td>0</td>\n",
              "    </tr>\n",
              "    <tr>\n",
              "      <th>10183</th>\n",
              "      <td>0</td>\n",
              "      <td>0</td>\n",
              "      <td>0</td>\n",
              "      <td>0</td>\n",
              "      <td>0</td>\n",
              "      <td>0</td>\n",
              "      <td>0</td>\n",
              "      <td>1</td>\n",
              "    </tr>\n",
              "  </tbody>\n",
              "</table>\n",
              "<p>20595 rows × 8 columns</p>\n",
              "</div>"
            ],
            "text/plain": [
              "       facts  hypocrisy  warning  ...  humor  positive_tone  hostile_language\n",
              "31387      0          1        0  ...      0              0                 0\n",
              "3225       0          0        0  ...      0              0                 1\n",
              "29037      0          0        1  ...      0              0                 1\n",
              "1717       0          0        0  ...      0              0                 1\n",
              "25268      0          0        0  ...      0              1                 0\n",
              "...      ...        ...      ...  ...    ...            ...               ...\n",
              "13131      1          0        0  ...      0              0                 0\n",
              "12670      1          0        0  ...      0              0                 0\n",
              "29786      0          0        0  ...      0              0                 1\n",
              "16615      0          0        0  ...      1              0                 0\n",
              "10183      0          0        0  ...      0              0                 1\n",
              "\n",
              "[20595 rows x 8 columns]"
            ]
          },
          "metadata": {
            "tags": []
          },
          "execution_count": 15
        }
      ]
    },
    {
      "cell_type": "code",
      "metadata": {
        "id": "0JRY4DMrlSAZ",
        "colab": {
          "base_uri": "https://localhost:8080/",
          "height": 417
        },
        "outputId": "88a134fa-ff7f-4ddc-ed6b-44237bfa44a1"
      },
      "source": [
        "YTest"
      ],
      "execution_count": null,
      "outputs": [
        {
          "output_type": "execute_result",
          "data": {
            "text/html": [
              "<div>\n",
              "<style scoped>\n",
              "    .dataframe tbody tr th:only-of-type {\n",
              "        vertical-align: middle;\n",
              "    }\n",
              "\n",
              "    .dataframe tbody tr th {\n",
              "        vertical-align: top;\n",
              "    }\n",
              "\n",
              "    .dataframe thead th {\n",
              "        text-align: right;\n",
              "    }\n",
              "</style>\n",
              "<table border=\"1\" class=\"dataframe\">\n",
              "  <thead>\n",
              "    <tr style=\"text-align: right;\">\n",
              "      <th></th>\n",
              "      <th>facts</th>\n",
              "      <th>hypocrisy</th>\n",
              "      <th>warning</th>\n",
              "      <th>affiliation</th>\n",
              "      <th>denouncing</th>\n",
              "      <th>humor</th>\n",
              "      <th>positive_tone</th>\n",
              "      <th>hostile_language</th>\n",
              "    </tr>\n",
              "  </thead>\n",
              "  <tbody>\n",
              "    <tr>\n",
              "      <th>7774</th>\n",
              "      <td>0</td>\n",
              "      <td>0</td>\n",
              "      <td>0</td>\n",
              "      <td>0</td>\n",
              "      <td>0</td>\n",
              "      <td>1</td>\n",
              "      <td>0</td>\n",
              "      <td>0</td>\n",
              "    </tr>\n",
              "    <tr>\n",
              "      <th>2586</th>\n",
              "      <td>0</td>\n",
              "      <td>0</td>\n",
              "      <td>0</td>\n",
              "      <td>0</td>\n",
              "      <td>0</td>\n",
              "      <td>1</td>\n",
              "      <td>0</td>\n",
              "      <td>0</td>\n",
              "    </tr>\n",
              "    <tr>\n",
              "      <th>252</th>\n",
              "      <td>0</td>\n",
              "      <td>0</td>\n",
              "      <td>0</td>\n",
              "      <td>0</td>\n",
              "      <td>0</td>\n",
              "      <td>0</td>\n",
              "      <td>0</td>\n",
              "      <td>1</td>\n",
              "    </tr>\n",
              "    <tr>\n",
              "      <th>29512</th>\n",
              "      <td>0</td>\n",
              "      <td>1</td>\n",
              "      <td>0</td>\n",
              "      <td>0</td>\n",
              "      <td>0</td>\n",
              "      <td>0</td>\n",
              "      <td>0</td>\n",
              "      <td>0</td>\n",
              "    </tr>\n",
              "    <tr>\n",
              "      <th>33179</th>\n",
              "      <td>0</td>\n",
              "      <td>0</td>\n",
              "      <td>0</td>\n",
              "      <td>1</td>\n",
              "      <td>0</td>\n",
              "      <td>0</td>\n",
              "      <td>0</td>\n",
              "      <td>0</td>\n",
              "    </tr>\n",
              "    <tr>\n",
              "      <th>...</th>\n",
              "      <td>...</td>\n",
              "      <td>...</td>\n",
              "      <td>...</td>\n",
              "      <td>...</td>\n",
              "      <td>...</td>\n",
              "      <td>...</td>\n",
              "      <td>...</td>\n",
              "      <td>...</td>\n",
              "    </tr>\n",
              "    <tr>\n",
              "      <th>20964</th>\n",
              "      <td>0</td>\n",
              "      <td>1</td>\n",
              "      <td>0</td>\n",
              "      <td>0</td>\n",
              "      <td>0</td>\n",
              "      <td>0</td>\n",
              "      <td>0</td>\n",
              "      <td>0</td>\n",
              "    </tr>\n",
              "    <tr>\n",
              "      <th>34010</th>\n",
              "      <td>0</td>\n",
              "      <td>0</td>\n",
              "      <td>0</td>\n",
              "      <td>0</td>\n",
              "      <td>0</td>\n",
              "      <td>0</td>\n",
              "      <td>0</td>\n",
              "      <td>1</td>\n",
              "    </tr>\n",
              "    <tr>\n",
              "      <th>22826</th>\n",
              "      <td>1</td>\n",
              "      <td>1</td>\n",
              "      <td>0</td>\n",
              "      <td>0</td>\n",
              "      <td>0</td>\n",
              "      <td>0</td>\n",
              "      <td>0</td>\n",
              "      <td>0</td>\n",
              "    </tr>\n",
              "    <tr>\n",
              "      <th>15085</th>\n",
              "      <td>1</td>\n",
              "      <td>0</td>\n",
              "      <td>0</td>\n",
              "      <td>0</td>\n",
              "      <td>0</td>\n",
              "      <td>0</td>\n",
              "      <td>0</td>\n",
              "      <td>0</td>\n",
              "    </tr>\n",
              "    <tr>\n",
              "      <th>22423</th>\n",
              "      <td>0</td>\n",
              "      <td>0</td>\n",
              "      <td>0</td>\n",
              "      <td>0</td>\n",
              "      <td>1</td>\n",
              "      <td>0</td>\n",
              "      <td>0</td>\n",
              "      <td>0</td>\n",
              "    </tr>\n",
              "  </tbody>\n",
              "</table>\n",
              "<p>13730 rows × 8 columns</p>\n",
              "</div>"
            ],
            "text/plain": [
              "       facts  hypocrisy  warning  ...  humor  positive_tone  hostile_language\n",
              "7774       0          0        0  ...      1              0                 0\n",
              "2586       0          0        0  ...      1              0                 0\n",
              "252        0          0        0  ...      0              0                 1\n",
              "29512      0          1        0  ...      0              0                 0\n",
              "33179      0          0        0  ...      0              0                 0\n",
              "...      ...        ...      ...  ...    ...            ...               ...\n",
              "20964      0          1        0  ...      0              0                 0\n",
              "34010      0          0        0  ...      0              0                 1\n",
              "22826      1          1        0  ...      0              0                 0\n",
              "15085      1          0        0  ...      0              0                 0\n",
              "22423      0          0        0  ...      0              0                 0\n",
              "\n",
              "[13730 rows x 8 columns]"
            ]
          },
          "metadata": {
            "tags": []
          },
          "execution_count": 16
        }
      ]
    },
    {
      "cell_type": "markdown",
      "metadata": {
        "id": "4n1SUoKVls4A"
      },
      "source": [
        "## **Word2Vec**"
      ]
    },
    {
      "cell_type": "code",
      "metadata": {
        "id": "EQCqZe95lSDz"
      },
      "source": [
        "import gensim\n",
        "from gensim.models.word2vec import Word2Vec\n",
        "LabeledSentence = gensim.models.doc2vec.LabeledSentence"
      ],
      "execution_count": null,
      "outputs": []
    },
    {
      "cell_type": "code",
      "metadata": {
        "id": "IUUo1znklzEv",
        "colab": {
          "base_uri": "https://localhost:8080/"
        },
        "outputId": "eeb0836f-997d-43db-a63f-2bdf5458a5f9"
      },
      "source": [
        "from gensim.models import Word2Vec\n",
        "import nltk\n",
        "nltk.download('punkt')\n",
        "from nltk.tokenize import sent_tokenize\n",
        "from nltk.tokenize import word_tokenize\n",
        "\n",
        "#  Reads text.txt file\n",
        "f = open(\"text.txt\", \"w\")\n",
        "f.truncate(0)\n",
        "for i in range(len(XTrain)):\n",
        "  f.write(XTrain[i])\n",
        "f.close()\n",
        "\n",
        "sample = open(\"text.txt\", \"r\")\n",
        "s = sample.read()\n",
        "\n",
        "# Replaces escape character with space\n",
        "f = s.replace(\"\\n\", \" \")\n",
        "  \n",
        "data = []\n",
        "  \n",
        "# iterate through each sentence in the file\n",
        "for i in sent_tokenize(f):\n",
        "    temp = []\n",
        "    # tokenize the sentence into words\n",
        "    for j in word_tokenize(i):\n",
        "        temp.append(j.lower())\n",
        "    data.append(temp)"
      ],
      "execution_count": null,
      "outputs": [
        {
          "output_type": "stream",
          "text": [
            "[nltk_data] Downloading package punkt to /root/nltk_data...\n",
            "[nltk_data]   Unzipping tokenizers/punkt.zip.\n"
          ],
          "name": "stdout"
        }
      ]
    },
    {
      "cell_type": "code",
      "metadata": {
        "id": "XaIPckdLlzHO",
        "colab": {
          "base_uri": "https://localhost:8080/"
        },
        "outputId": "210dcd64-bb72-428e-ea35-67cab502cebc"
      },
      "source": [
        "model_w2v = gensim.models.Word2Vec(\n",
        "            data,\n",
        "            size=200, # desired no. of features/independent variables\n",
        "            window=5, # context window size\n",
        "            min_count=5, # Ignores all words with total frequency lower than 5.                                  \n",
        "            sg = 1, # 1 for skip-gram model\n",
        "            hs = 0,\n",
        "            negative = 10, # for negative sampling\n",
        "            workers= 30, # no.of cores\n",
        "            seed = 34) \n",
        "\n",
        "model_w2v.train(data, total_examples= len(XTrain), epochs=20)"
      ],
      "execution_count": null,
      "outputs": [
        {
          "output_type": "execute_result",
          "data": {
            "text/plain": [
              "(200000, 6442120)"
            ]
          },
          "metadata": {
            "tags": []
          },
          "execution_count": 19
        }
      ]
    },
    {
      "cell_type": "code",
      "metadata": {
        "id": "r8K_w4nvlzJ9"
      },
      "source": [
        "embeddings_index = {}\n",
        "for w in model_w2v.wv.vocab.keys():\n",
        "    embeddings_index[w] = model_w2v.wv[w]"
      ],
      "execution_count": null,
      "outputs": []
    },
    {
      "cell_type": "code",
      "metadata": {
        "id": "SPASj0IvlzMU"
      },
      "source": [
        "from keras.preprocessing.text import Tokenizer\n",
        "from keras.preprocessing.sequence import pad_sequences\n",
        "tokenizer = Tokenizer(num_words=100000)\n",
        "tokenizer.fit_on_texts(XTrain)\n",
        "sequences = tokenizer.texts_to_sequences(XTrain)"
      ],
      "execution_count": null,
      "outputs": []
    },
    {
      "cell_type": "code",
      "metadata": {
        "id": "35ycLz_ZlzO5",
        "colab": {
          "base_uri": "https://localhost:8080/"
        },
        "outputId": "7c7683f3-3cc8-4fd0-8592-6537d9b2e37e"
      },
      "source": [
        "for x in XTrain[:5, ]:\n",
        "    print(x)"
      ],
      "execution_count": null,
      "outputs": [
        {
          "output_type": "stream",
          "text": [
            "gets kids national twice gets beat story couple white bus mentioned forgotton black student murdered year school yet ago black\n",
            "send allah\n",
            "hell world thats infested like people going\n",
            "stoned make laugh youre disappointment\n",
            "society way people life valid peoples decisions respected dont hate cant respect straight need honestly may curiosity todays hate see guess reasons\n"
          ],
          "name": "stdout"
        }
      ]
    },
    {
      "cell_type": "code",
      "metadata": {
        "id": "kiTNTXBplzRZ",
        "colab": {
          "base_uri": "https://localhost:8080/"
        },
        "outputId": "1de70484-7684-4937-e22c-5f239b626872"
      },
      "source": [
        "length = []\n",
        "for x in XTrain:\n",
        "    length.append(len(x.split()))\n",
        "max(length)"
      ],
      "execution_count": null,
      "outputs": [
        {
          "output_type": "execute_result",
          "data": {
            "text/plain": [
              "977"
            ]
          },
          "metadata": {
            "tags": []
          },
          "execution_count": 23
        }
      ]
    },
    {
      "cell_type": "code",
      "metadata": {
        "id": "dyXkKDHnlzTy",
        "colab": {
          "base_uri": "https://localhost:8080/"
        },
        "outputId": "38b592b1-6008-419f-b23c-b8857b8fe605"
      },
      "source": [
        "length = []\n",
        "for x in XTest:\n",
        "    length.append(len(x.split()))\n",
        "max(length)"
      ],
      "execution_count": null,
      "outputs": [
        {
          "output_type": "execute_result",
          "data": {
            "text/plain": [
              "861"
            ]
          },
          "metadata": {
            "tags": []
          },
          "execution_count": 24
        }
      ]
    },
    {
      "cell_type": "code",
      "metadata": {
        "id": "2HtSvtg9lzXT",
        "colab": {
          "base_uri": "https://localhost:8080/"
        },
        "outputId": "45b27c57-bfe5-4d3e-9d98-defa8b662487"
      },
      "source": [
        "XTrain_seq = pad_sequences(sequences, maxlen=980)\n",
        "XTrain_seq[:5]"
      ],
      "execution_count": null,
      "outputs": [
        {
          "output_type": "execute_result",
          "data": {
            "text/plain": [
              "array([[   0,    0,    0, ...,  160,  350,    9],\n",
              "       [   0,    0,    0, ...,    0,  642,   33],\n",
              "       [   0,    0,    0, ...,    2,    1,   70],\n",
              "       [   0,    0,    0, ...,  723,   80, 4195],\n",
              "       [   0,    0,    0, ...,   27,  354,  748]], dtype=int32)"
            ]
          },
          "metadata": {
            "tags": []
          },
          "execution_count": 25
        }
      ]
    },
    {
      "cell_type": "code",
      "metadata": {
        "id": "xWDlttDImFH6",
        "colab": {
          "base_uri": "https://localhost:8080/"
        },
        "outputId": "ae99e91f-8275-4dd9-d986-95051e6b8b5d"
      },
      "source": [
        "sequences_Test = tokenizer.texts_to_sequences(XTest)\n",
        "XTest_seq = pad_sequences(sequences_Test, maxlen=980)\n",
        "XTest_seq[:5]"
      ],
      "execution_count": null,
      "outputs": [
        {
          "output_type": "execute_result",
          "data": {
            "text/plain": [
              "array([[    0,     0,     0, ...,   361,   361,   361],\n",
              "       [    0,     0,     0, ...,   132,    13,  5600],\n",
              "       [    0,     0,     0, ...,     0,   146, 10191],\n",
              "       [    0,     0,     0, ...,    19,     5,   227],\n",
              "       [    0,     0,     0, ...,  1180,    11,    34]], dtype=int32)"
            ]
          },
          "metadata": {
            "tags": []
          },
          "execution_count": 26
        }
      ]
    },
    {
      "cell_type": "code",
      "metadata": {
        "id": "8m8aagWzmFK7"
      },
      "source": [
        "num_words = 100000\n",
        "embedding_matrix = np.zeros((num_words, 200))\n",
        "for word, i in tokenizer.word_index.items():\n",
        "    if i >= num_words:\n",
        "        continue\n",
        "    embedding_vector = embeddings_index.get(word)\n",
        "    if embedding_vector is not None:\n",
        "        embedding_matrix[i] = embedding_vector"
      ],
      "execution_count": null,
      "outputs": []
    },
    {
      "cell_type": "markdown",
      "metadata": {
        "id": "4R5wcNowmKLC"
      },
      "source": [
        "## **LSTM**"
      ]
    },
    {
      "cell_type": "code",
      "metadata": {
        "id": "5znBpsDTmFNk"
      },
      "source": [
        "from keras.models import Sequential\n",
        "from keras.layers import Dense, Dropout\n",
        "from keras.layers import Flatten\n",
        "from keras.layers.embeddings import Embedding\n",
        "\n",
        "from keras.layers.convolutional import Conv1D\n",
        "from keras.layers.convolutional import MaxPooling1D\n",
        "from keras.preprocessing import sequence\n",
        "from keras import layers"
      ],
      "execution_count": null,
      "outputs": []
    },
    {
      "cell_type": "code",
      "metadata": {
        "id": "q8HUz0AumFQ-",
        "colab": {
          "base_uri": "https://localhost:8080/"
        },
        "outputId": "914ca66f-e53d-4803-dfd2-322ba95f2af3"
      },
      "source": [
        "model = Sequential()\n",
        "model.add(Embedding(100000, 200, input_length=980))\n",
        "model.add(layers.LSTM(64,dropout=0.5))\n",
        "model.add(Dense(1, activation='sigmoid'))\n",
        "\n",
        "model.compile(loss='binary_crossentropy', optimizer='adam', metrics=['accuracy'])\n",
        "model.summary()"
      ],
      "execution_count": null,
      "outputs": [
        {
          "output_type": "stream",
          "text": [
            "Model: \"sequential\"\n",
            "_________________________________________________________________\n",
            "Layer (type)                 Output Shape              Param #   \n",
            "=================================================================\n",
            "embedding (Embedding)        (None, 980, 200)          20000000  \n",
            "_________________________________________________________________\n",
            "lstm (LSTM)                  (None, 64)                67840     \n",
            "_________________________________________________________________\n",
            "dense (Dense)                (None, 1)                 65        \n",
            "=================================================================\n",
            "Total params: 20,067,905\n",
            "Trainable params: 20,067,905\n",
            "Non-trainable params: 0\n",
            "_________________________________________________________________\n"
          ],
          "name": "stdout"
        }
      ]
    },
    {
      "cell_type": "markdown",
      "metadata": {
        "id": "U7Cxq30smsWQ"
      },
      "source": [
        "Facts"
      ]
    },
    {
      "cell_type": "code",
      "metadata": {
        "id": "ZJNNtlsSmnjM",
        "colab": {
          "base_uri": "https://localhost:8080/",
          "height": 1000
        },
        "outputId": "4cf6ddb4-0d65-4bf8-dc37-35272f7f0d61"
      },
      "source": [
        "history = model.fit(XTrain_seq, YTrain['facts'], epochs=5, validation_data=(XTest_seq, YTest['facts']))\n",
        "\n",
        "print('\\nFinal training loss \\t', history.history['loss'][-1])\n",
        "print('Final training accuracy ', history.history['accuracy'][-1], '\\n')\n",
        "\n",
        "testLoss, testAccuracy = model.evaluate(XTest_seq, YTest['facts'])\n",
        "\n",
        "print('\\nTesting loss  \\t', testLoss)\n",
        "print('Testing accuracy ', testAccuracy)\n",
        "\n",
        "\n",
        "# plotting training and validation loss\n",
        "\n",
        "loss = history.history['loss']\n",
        "val_loss = history.history['val_loss']\n",
        "epochs = range(1, len(loss) + 1)\n",
        "mplot.plot(epochs, loss, color='red', label='Training loss')\n",
        "mplot.plot(epochs, val_loss, color='green', label='Validation loss')\n",
        "mplot.title('Training and Validation loss')\n",
        "mplot.xlabel('Epochs')\n",
        "mplot.ylabel('Loss')\n",
        "mplot.legend()\n",
        "mplot.show()\n",
        "\n",
        "# plotting training and validation accuracy\n",
        "\n",
        "acc = history.history['accuracy']\n",
        "val_acc = history.history['val_accuracy']\n",
        "mplot.plot(epochs, acc, color='red', label='Training accuracy')\n",
        "mplot.plot(epochs, val_acc, color='green', label='Validation accuracy')\n",
        "mplot.title('Training and Validation accuracy')\n",
        "mplot.xlabel('Epochs')\n",
        "mplot.ylabel('Accuracy')\n",
        "mplot.legend()\n",
        "mplot.legend()\n",
        "mplot.show()\n",
        "\n",
        "YPred = model.predict(XTest_seq)\n",
        "for i in range(len(YPred)):\n",
        "  if(YPred[i] > 0.5):\n",
        "    YPred[i] = 1\n",
        "  else:\n",
        "    YPred[i] = 0\n",
        "\n",
        "print(classification_report(YTest['facts'], YPred))"
      ],
      "execution_count": null,
      "outputs": [
        {
          "output_type": "stream",
          "text": [
            "Epoch 1/5\n",
            "644/644 [==============================] - 749s 1s/step - loss: 0.2753 - accuracy: 0.9020 - val_loss: 0.1485 - val_accuracy: 0.9539\n",
            "Epoch 2/5\n",
            "644/644 [==============================] - 736s 1s/step - loss: 0.0761 - accuracy: 0.9764 - val_loss: 0.0804 - val_accuracy: 0.9743\n",
            "Epoch 3/5\n",
            "644/644 [==============================] - 737s 1s/step - loss: 0.0251 - accuracy: 0.9928 - val_loss: 0.0725 - val_accuracy: 0.9782\n",
            "Epoch 4/5\n",
            "644/644 [==============================] - 739s 1s/step - loss: 0.0118 - accuracy: 0.9965 - val_loss: 0.0519 - val_accuracy: 0.9881\n",
            "Epoch 5/5\n",
            "644/644 [==============================] - 737s 1s/step - loss: 0.0072 - accuracy: 0.9979 - val_loss: 0.0603 - val_accuracy: 0.9864\n",
            "\n",
            "Final training loss \t 0.00892164558172226\n",
            "Final training accuracy  0.9969895482063293 \n",
            "\n",
            "430/430 [==============================] - 67s 156ms/step - loss: 0.0603 - accuracy: 0.9864\n",
            "\n",
            "Testing loss  \t 0.06032845377922058\n",
            "Testing accuracy  0.9863801598548889\n"
          ],
          "name": "stdout"
        },
        {
          "output_type": "display_data",
          "data": {
            "image/png": "[encoded data removed]",
            "text/plain": [
              "<Figure size 432x288 with 1 Axes>"
            ]
          },
          "metadata": {
            "tags": [],
            "needs_background": "light"
          }
        },
        {
          "output_type": "display_data",
          "data": {
            "image/png": "[encoded data removed]",
            "text/plain": [
              "<Figure size 432x288 with 1 Axes>"
            ]
          },
          "metadata": {
            "tags": [],
            "needs_background": "light"
          }
        },
        {
          "output_type": "stream",
          "text": [
            "              precision    recall  f1-score   support\n",
            "\n",
            "           0       0.99      1.00      0.99     12209\n",
            "           1       0.98      0.90      0.94      1521\n",
            "\n",
            "    accuracy                           0.99     13730\n",
            "   macro avg       0.98      0.95      0.96     13730\n",
            "weighted avg       0.99      0.99      0.99     13730\n",
            "\n"
          ],
          "name": "stdout"
        }
      ]
    },
    {
      "cell_type": "markdown",
      "metadata": {
        "id": "2rVYeaJMm_Gh"
      },
      "source": [
        "Hypocrisy"
      ]
    },
    {
      "cell_type": "code",
      "metadata": {
        "id": "siFGu5B2mnlw",
        "colab": {
          "base_uri": "https://localhost:8080/",
          "height": 1000
        },
        "outputId": "9dbbb6fc-558d-4f62-df89-430d9412a39d"
      },
      "source": [
        "history = model.fit(XTrain_seq, YTrain['hypocrisy'], epochs=5, validation_data=(XTest_seq, YTest['hypocrisy']))\n",
        "\n",
        "print('\\nFinal training loss \\t', history.history['loss'][-1])\n",
        "print('Final training accuracy ', history.history['accuracy'][-1], '\\n')\n",
        "\n",
        "testLoss, testAccuracy = model.evaluate(XTest_seq, YTest['hypocrisy'])\n",
        "\n",
        "print('\\nTesting loss  \\t', testLoss)\n",
        "print('Testing accuracy ', testAccuracy)\n",
        "\n",
        "# plotting training and validation loss\n",
        "\n",
        "loss = history.history['loss']\n",
        "val_loss = history.history['val_loss']\n",
        "epochs = range(1, len(loss) + 1)\n",
        "mplot.plot(epochs, loss, color='red', label='Training loss')\n",
        "mplot.plot(epochs, val_loss, color='green', label='Validation loss')\n",
        "mplot.title('Training and Validation loss')\n",
        "mplot.xlabel('Epochs')\n",
        "mplot.ylabel('Loss')\n",
        "mplot.legend()\n",
        "mplot.show()\n",
        "\n",
        "# plotting training and validation accuracy\n",
        "\n",
        "acc = history.history['accuracy']\n",
        "val_acc = history.history['val_accuracy']\n",
        "mplot.plot(epochs, acc, color='red', label='Training accuracy')\n",
        "mplot.plot(epochs, val_acc, color='green', label='Validation accuracy')\n",
        "mplot.title('Training and Validation accuracy')\n",
        "mplot.xlabel('Epochs')\n",
        "mplot.ylabel('Accuracy')\n",
        "mplot.legend()\n",
        "mplot.legend()\n",
        "mplot.show()\n",
        "\n",
        "YPred = model.predict(XTest_seq)\n",
        "for i in range(len(YPred)):\n",
        "  if(YPred[i] > 0.5):\n",
        "    YPred[i] = 1\n",
        "  else:\n",
        "    YPred[i] = 0\n",
        "\n",
        "print(classification_report(YTest['hypocrisy'], YPred))"
      ],
      "execution_count": null,
      "outputs": [
        {
          "output_type": "stream",
          "text": [
            "Epoch 1/5\n",
            "644/644 [==============================] - 737s 1s/step - loss: 0.3183 - accuracy: 0.8775 - val_loss: 0.1836 - val_accuracy: 0.9320\n",
            "Epoch 2/5\n",
            "644/644 [==============================] - 737s 1s/step - loss: 0.0975 - accuracy: 0.9658 - val_loss: 0.1125 - val_accuracy: 0.9616\n",
            "Epoch 3/5\n",
            "644/644 [==============================] - 737s 1s/step - loss: 0.0432 - accuracy: 0.9856 - val_loss: 0.0995 - val_accuracy: 0.9685\n",
            "Epoch 4/5\n",
            "644/644 [==============================] - 737s 1s/step - loss: 0.0236 - accuracy: 0.9921 - val_loss: 0.0887 - val_accuracy: 0.9773\n",
            "Epoch 5/5\n",
            "644/644 [==============================] - 737s 1s/step - loss: 0.0201 - accuracy: 0.9936 - val_loss: 0.0895 - val_accuracy: 0.9760\n",
            "\n",
            "Final training loss \t 0.02009887807071209\n",
            "Final training accuracy  0.9935906529426575 \n",
            "\n",
            "430/430 [==============================] - 67s 157ms/step - loss: 0.0895 - accuracy: 0.9760\n",
            "\n",
            "Testing loss  \t 0.08951377868652344\n",
            "Testing accuracy  0.976037859916687\n"
          ],
          "name": "stdout"
        },
        {
          "output_type": "display_data",
          "data": {
            "image/png": "[encoded data removed]",
            "text/plain": [
              "<Figure size 432x288 with 1 Axes>"
            ]
          },
          "metadata": {
            "tags": [],
            "needs_background": "light"
          }
        },
        {
          "output_type": "display_data",
          "data": {
            "image/png": "[encoded data removed]",
            "text/plain": [
              "<Figure size 432x288 with 1 Axes>"
            ]
          },
          "metadata": {
            "tags": [],
            "needs_background": "light"
          }
        },
        {
          "output_type": "stream",
          "text": [
            "              precision    recall  f1-score   support\n",
            "\n",
            "           0       0.98      0.99      0.99     11709\n",
            "           1       0.93      0.91      0.92      2021\n",
            "\n",
            "    accuracy                           0.98     13730\n",
            "   macro avg       0.96      0.95      0.95     13730\n",
            "weighted avg       0.98      0.98      0.98     13730\n",
            "\n"
          ],
          "name": "stdout"
        }
      ]
    },
    {
      "cell_type": "markdown",
      "metadata": {
        "id": "VA_EtH9MnI-j"
      },
      "source": [
        "Warning"
      ]
    },
    {
      "cell_type": "code",
      "metadata": {
        "id": "9nhZlEX0mnom",
        "colab": {
          "base_uri": "https://localhost:8080/",
          "height": 1000
        },
        "outputId": "a82a8d5b-c027-4748-a45d-ff2c340f34df"
      },
      "source": [
        "history = model.fit(XTrain_seq, YTrain['warning'], epochs=5, validation_data=(XTest_seq, YTest['warning']))\n",
        "\n",
        "print('\\nFinal training loss \\t', history.history['loss'][-1])\n",
        "print('Final training accuracy ', history.history['accuracy'][-1], '\\n')\n",
        "\n",
        "testLoss, testAccuracy = model.evaluate(XTest_seq, YTest['warning'])\n",
        "\n",
        "print('\\nTesting loss  \\t', testLoss)\n",
        "print('Testing accuracy ', testAccuracy)\n",
        "\n",
        "# plotting training and validation loss\n",
        "\n",
        "loss = history.history['loss']\n",
        "val_loss = history.history['val_loss']\n",
        "epochs = range(1, len(loss) + 1)\n",
        "mplot.plot(epochs, loss, color='red', label='Training loss')\n",
        "mplot.plot(epochs, val_loss, color='green', label='Validation loss')\n",
        "mplot.title('Training and Validation loss')\n",
        "mplot.xlabel('Epochs')\n",
        "mplot.ylabel('Loss')\n",
        "mplot.legend()\n",
        "mplot.show()\n",
        "\n",
        "# plotting training and validation accuracy\n",
        "\n",
        "acc = history.history['accuracy']\n",
        "val_acc = history.history['val_accuracy']\n",
        "mplot.plot(epochs, acc, color='red', label='Training accuracy')\n",
        "mplot.plot(epochs, val_acc, color='green', label='Validation accuracy')\n",
        "mplot.title('Training and Validation accuracy')\n",
        "mplot.xlabel('Epochs')\n",
        "mplot.ylabel('Accuracy')\n",
        "mplot.legend()\n",
        "mplot.legend()\n",
        "mplot.show()\n",
        "\n",
        "YPred = model.predict(XTest_seq)\n",
        "for i in range(len(YPred)):\n",
        "  if(YPred[i] > 0.5):\n",
        "    YPred[i] = 1\n",
        "  else:\n",
        "    YPred[i] = 0\n",
        "\n",
        "print(classification_report(YTest['warning'], YPred))"
      ],
      "execution_count": null,
      "outputs": [
        {
          "output_type": "stream",
          "text": [
            "Epoch 1/5\n",
            "644/644 [==============================] - 736s 1s/step - loss: 0.2808 - accuracy: 0.9076 - val_loss: 0.1547 - val_accuracy: 0.9464\n",
            "Epoch 2/5\n",
            "644/644 [==============================] - 738s 1s/step - loss: 0.0937 - accuracy: 0.9682 - val_loss: 0.0921 - val_accuracy: 0.9696\n",
            "Epoch 3/5\n",
            "644/644 [==============================] - 737s 1s/step - loss: 0.0445 - accuracy: 0.9852 - val_loss: 0.0801 - val_accuracy: 0.9750\n",
            "Epoch 4/5\n",
            "644/644 [==============================] - 735s 1s/step - loss: 0.0273 - accuracy: 0.9915 - val_loss: 0.0730 - val_accuracy: 0.9779\n",
            "Epoch 5/5\n",
            "644/644 [==============================] - 737s 1s/step - loss: 0.0182 - accuracy: 0.9940 - val_loss: 0.0823 - val_accuracy: 0.9779\n",
            "\n",
            "Final training loss \t 0.018243499100208282\n",
            "Final training accuracy  0.9939790964126587 \n",
            "\n",
            "430/430 [==============================] - 68s 158ms/step - loss: 0.0823 - accuracy: 0.9779\n",
            "\n",
            "Testing loss  \t 0.08225327730178833\n",
            "Testing accuracy  0.9778587222099304\n"
          ],
          "name": "stdout"
        },
        {
          "output_type": "display_data",
          "data": {
            "image/png": "[encoded data removed]",
            "text/plain": [
              "<Figure size 432x288 with 1 Axes>"
            ]
          },
          "metadata": {
            "tags": [],
            "needs_background": "light"
          }
        },
        {
          "output_type": "display_data",
          "data": {
            "image/png": "[encoded data removed]",
            "text/plain": [
              "<Figure size 432x288 with 1 Axes>"
            ]
          },
          "metadata": {
            "tags": [],
            "needs_background": "light"
          }
        },
        {
          "output_type": "stream",
          "text": [
            "              precision    recall  f1-score   support\n",
            "\n",
            "           0       0.98      1.00      0.99     12271\n",
            "           1       0.96      0.83      0.89      1459\n",
            "\n",
            "    accuracy                           0.98     13730\n",
            "   macro avg       0.97      0.91      0.94     13730\n",
            "weighted avg       0.98      0.98      0.98     13730\n",
            "\n"
          ],
          "name": "stdout"
        }
      ]
    },
    {
      "cell_type": "markdown",
      "metadata": {
        "id": "9Jhs9RO6nRBp"
      },
      "source": [
        "Affiliation"
      ]
    },
    {
      "cell_type": "code",
      "metadata": {
        "id": "U01gXuq7mnrk",
        "colab": {
          "base_uri": "https://localhost:8080/",
          "height": 1000
        },
        "outputId": "b7ae0b0c-26f1-47a6-978e-5aeda217d96e"
      },
      "source": [
        "history = model.fit(XTrain_seq, YTrain['affiliation'], epochs=5, validation_data=(XTest_seq, YTest['affiliation']))\n",
        "\n",
        "print('\\nFinal training loss \\t', history.history['loss'][-1])\n",
        "print('Final training accuracy ', history.history['accuracy'][-1], '\\n')\n",
        "\n",
        "testLoss, testAccuracy = model.evaluate(XTest_seq, YTest['affiliation'])\n",
        "\n",
        "print('\\nTesting loss  \\t', testLoss)\n",
        "print('Testing accuracy ', testAccuracy)\n",
        "\n",
        "# plotting training and validation loss\n",
        "\n",
        "loss = history.history['loss']\n",
        "val_loss = history.history['val_loss']\n",
        "epochs = range(1, len(loss) + 1)\n",
        "mplot.plot(epochs, loss, color='red', label='Training loss')\n",
        "mplot.plot(epochs, val_loss, color='green', label='Validation loss')\n",
        "mplot.title('Training and Validation loss')\n",
        "mplot.xlabel('Epochs')\n",
        "mplot.ylabel('Loss')\n",
        "mplot.legend()\n",
        "mplot.show()\n",
        "\n",
        "# plotting training and validation accuracy\n",
        "\n",
        "acc = history.history['accuracy']\n",
        "val_acc = history.history['val_accuracy']\n",
        "mplot.plot(epochs, acc, color='red', label='Training accuracy')\n",
        "mplot.plot(epochs, val_acc, color='green', label='Validation accuracy')\n",
        "mplot.title('Training and Validation accuracy')\n",
        "mplot.xlabel('Epochs')\n",
        "mplot.ylabel('Accuracy')\n",
        "mplot.legend()\n",
        "mplot.legend()\n",
        "mplot.show()\n",
        "\n",
        "YPred = model.predict(XTest_seq)\n",
        "for i in range(len(YPred)):\n",
        "  if(YPred[i] > 0.5):\n",
        "    YPred[i] = 1\n",
        "  else:\n",
        "    YPred[i] = 0\n",
        "\n",
        "print(classification_report(YTest['affiliation'], YPred))"
      ],
      "execution_count": null,
      "outputs": [
        {
          "output_type": "stream",
          "text": [
            "Epoch 1/5\n",
            "644/644 [==============================] - 740s 1s/step - loss: 0.2492 - accuracy: 0.9192 - val_loss: 0.1449 - val_accuracy: 0.9457\n",
            "Epoch 2/5\n",
            "644/644 [==============================] - 736s 1s/step - loss: 0.0824 - accuracy: 0.9708 - val_loss: 0.0734 - val_accuracy: 0.9773\n",
            "Epoch 3/5\n",
            "644/644 [==============================] - 735s 1s/step - loss: 0.0312 - accuracy: 0.9890 - val_loss: 0.0505 - val_accuracy: 0.9845\n",
            "Epoch 4/5\n",
            "644/644 [==============================] - 735s 1s/step - loss: 0.0154 - accuracy: 0.9948 - val_loss: 0.0509 - val_accuracy: 0.9848\n",
            "Epoch 5/5\n",
            "644/644 [==============================] - 736s 1s/step - loss: 0.0119 - accuracy: 0.9960 - val_loss: 0.0536 - val_accuracy: 0.9852\n",
            "\n",
            "Final training loss \t 0.011882156133651733\n",
            "Final training accuracy  0.9959698915481567 \n",
            "\n",
            "430/430 [==============================] - 67s 157ms/step - loss: 0.0536 - accuracy: 0.9852\n",
            "\n",
            "Testing loss  \t 0.053568653762340546\n",
            "Testing accuracy  0.9852148294448853\n"
          ],
          "name": "stdout"
        },
        {
          "output_type": "display_data",
          "data": {
            "image/png": "[encoded data removed]",
            "text/plain": [
              "<Figure size 432x288 with 1 Axes>"
            ]
          },
          "metadata": {
            "tags": [],
            "needs_background": "light"
          }
        },
        {
          "output_type": "display_data",
          "data": {
            "image/png": "[encoded data removed]",
            "text/plain": [
              "<Figure size 432x288 with 1 Axes>"
            ]
          },
          "metadata": {
            "tags": [],
            "needs_background": "light"
          }
        },
        {
          "output_type": "stream",
          "text": [
            "              precision    recall  f1-score   support\n",
            "\n",
            "           0       0.99      1.00      0.99     12612\n",
            "           1       0.97      0.85      0.90      1118\n",
            "\n",
            "    accuracy                           0.99     13730\n",
            "   macro avg       0.98      0.92      0.95     13730\n",
            "weighted avg       0.99      0.99      0.98     13730\n",
            "\n"
          ],
          "name": "stdout"
        }
      ]
    },
    {
      "cell_type": "markdown",
      "metadata": {
        "id": "funZxvdcnYiz"
      },
      "source": [
        "Denouncing"
      ]
    },
    {
      "cell_type": "code",
      "metadata": {
        "colab": {
          "base_uri": "https://localhost:8080/",
          "height": 1000
        },
        "id": "LsUtQK2ifLUl",
        "outputId": "2670f0e7-5db0-430c-c5c0-22f6b3f7064f"
      },
      "source": [
        "history = model.fit(XTrain_seq, YTrain['denouncing'], epochs=5, validation_data=(XTest_seq, YTest['denouncing']))\n",
        "\n",
        "print('\\nFinal training loss \\t', history.history['loss'][-1])\n",
        "print('Final training accuracy ', history.history['accuracy'][-1], '\\n')\n",
        "\n",
        "testLoss, testAccuracy = model.evaluate(XTest_seq, YTest['denouncing'])\n",
        "\n",
        "print('\\nTesting loss  \\t', testLoss)\n",
        "print('Testing accuracy ', testAccuracy)\n",
        "\n",
        "# plotting training and validation loss\n",
        "\n",
        "loss = history.history['loss']\n",
        "val_loss = history.history['val_loss']\n",
        "epochs = range(1, len(loss) + 1)\n",
        "mplot.plot(epochs, loss, color='red', label='Training loss')\n",
        "mplot.plot(epochs, val_loss, color='green', label='Validation loss')\n",
        "mplot.title('Training and Validation loss')\n",
        "mplot.xlabel('Epochs')\n",
        "mplot.ylabel('Loss')\n",
        "mplot.legend()\n",
        "mplot.show()\n",
        "\n",
        "# plotting training and validation accuracy\n",
        "\n",
        "acc = history.history['accuracy']\n",
        "val_acc = history.history['val_accuracy']\n",
        "mplot.plot(epochs, acc, color='red', label='Training accuracy')\n",
        "mplot.plot(epochs, val_acc, color='green', label='Validation accuracy')\n",
        "mplot.title('Training and Validation accuracy')\n",
        "mplot.xlabel('Epochs')\n",
        "mplot.ylabel('Accuracy')\n",
        "mplot.legend()\n",
        "mplot.legend()\n",
        "mplot.show()\n",
        "\n",
        "YPred = model.predict(XTest_seq)\n",
        "for i in range(len(YPred)):\n",
        "  if(YPred[i] > 0.5):\n",
        "    YPred[i] = 1\n",
        "  else:\n",
        "    YPred[i] = 0\n",
        "\n",
        "print(classification_report(YTest['denouncing'], YPred))"
      ],
      "execution_count": null,
      "outputs": [
        {
          "output_type": "stream",
          "text": [
            "Epoch 1/5\n",
            "644/644 [==============================] - 740s 1s/step - loss: 0.1586 - accuracy: 0.9398 - val_loss: 0.1718 - val_accuracy: 0.9373\n",
            "Epoch 2/5\n",
            "644/644 [==============================] - 740s 1s/step - loss: 0.0816 - accuracy: 0.9701 - val_loss: 0.1527 - val_accuracy: 0.9470\n",
            "Epoch 3/5\n",
            "644/644 [==============================] - 741s 1s/step - loss: 0.0534 - accuracy: 0.9809 - val_loss: 0.1298 - val_accuracy: 0.9593\n",
            "Epoch 4/5\n",
            "644/644 [==============================] - 743s 1s/step - loss: 0.0399 - accuracy: 0.9859 - val_loss: 0.1357 - val_accuracy: 0.9582\n",
            "Epoch 5/5\n",
            "644/644 [==============================] - 743s 1s/step - loss: 0.0319 - accuracy: 0.9879 - val_loss: 0.1522 - val_accuracy: 0.9527\n",
            "\n",
            "Final training loss \t 0.03193075209856033\n",
            "Final training accuracy  0.9879096746444702 \n",
            "\n",
            "430/430 [==============================] - 68s 157ms/step - loss: 0.1522 - accuracy: 0.9527\n",
            "\n",
            "Testing loss  \t 0.1521659642457962\n",
            "Testing accuracy  0.9527312517166138\n"
          ],
          "name": "stdout"
        },
        {
          "output_type": "display_data",
          "data": {
            "image/png": "[encoded data removed]",
            "text/plain": [
              "<Figure size 432x288 with 1 Axes>"
            ]
          },
          "metadata": {
            "tags": []
          }
        },
        {
          "output_type": "display_data",
          "data": {
            "image/png": "[encoded data removed]",
            "text/plain": [
              "<Figure size 432x288 with 1 Axes>"
            ]
          },
          "metadata": {
            "tags": []
          }
        },
        {
          "output_type": "stream",
          "text": [
            "              precision    recall  f1-score   support\n",
            "\n",
            "           0       0.98      0.96      0.97     11045\n",
            "           1       0.86      0.91      0.88      2685\n",
            "\n",
            "    accuracy                           0.95     13730\n",
            "   macro avg       0.92      0.94      0.93     13730\n",
            "weighted avg       0.95      0.95      0.95     13730\n",
            "\n"
          ],
          "name": "stdout"
        }
      ]
    },
    {
      "cell_type": "markdown",
      "metadata": {
        "id": "m2yaMk7sngoZ"
      },
      "source": [
        "Humor"
      ]
    },
    {
      "cell_type": "code",
      "metadata": {
        "id": "CRQ-CltvmnxV",
        "colab": {
          "base_uri": "https://localhost:8080/",
          "height": 1000
        },
        "outputId": "f20f94a6-6ba4-4d4f-8fb9-f11518c85f35"
      },
      "source": [
        "history = model.fit(XTrain_seq, YTrain['humor'], epochs=5, validation_data=(XTest_seq, YTest['humor']))\n",
        "\n",
        "print('\\nFinal training loss \\t', history.history['loss'][-1])\n",
        "print('Final training accuracy ', history.history['accuracy'][-1], '\\n')\n",
        "\n",
        "testLoss, testAccuracy = model.evaluate(XTest_seq, YTest['humor'])\n",
        "\n",
        "print('\\nTesting loss  \\t', testLoss)\n",
        "print('Testing accuracy ', testAccuracy)\n",
        "\n",
        "# plotting training and validation loss\n",
        "\n",
        "loss = history.history['loss']\n",
        "val_loss = history.history['val_loss']\n",
        "epochs = range(1, len(loss) + 1)\n",
        "mplot.plot(epochs, loss, color='red', label='Training loss')\n",
        "mplot.plot(epochs, val_loss, color='green', label='Validation loss')\n",
        "mplot.title('Training and Validation loss')\n",
        "mplot.xlabel('Epochs')\n",
        "mplot.ylabel('Loss')\n",
        "mplot.legend()\n",
        "mplot.show()\n",
        "\n",
        "# plotting training and validation accuracy\n",
        "\n",
        "acc = history.history['accuracy']\n",
        "val_acc = history.history['val_accuracy']\n",
        "mplot.plot(epochs, acc, color='red', label='Training accuracy')\n",
        "mplot.plot(epochs, val_acc, color='green', label='Validation accuracy')\n",
        "mplot.title('Training and Validation accuracy')\n",
        "mplot.xlabel('Epochs')\n",
        "mplot.ylabel('Accuracy')\n",
        "mplot.legend()\n",
        "mplot.legend()\n",
        "mplot.show()\n",
        "\n",
        "YPred = model.predict(XTest_seq)\n",
        "for i in range(len(YPred)):\n",
        "  if(YPred[i] > 0.5):\n",
        "    YPred[i] = 1\n",
        "  else:\n",
        "    YPred[i] = 0\n",
        "\n",
        "print(classification_report(YTest['humor'], YPred))"
      ],
      "execution_count": null,
      "outputs": [
        {
          "output_type": "stream",
          "text": [
            "Epoch 1/5\n",
            "644/644 [==============================] - 743s 1s/step - loss: 0.4178 - accuracy: 0.8521 - val_loss: 0.2424 - val_accuracy: 0.9116\n",
            "Epoch 2/5\n",
            "644/644 [==============================] - 740s 1s/step - loss: 0.1494 - accuracy: 0.9470 - val_loss: 0.1324 - val_accuracy: 0.9529\n",
            "Epoch 3/5\n",
            "644/644 [==============================] - 739s 1s/step - loss: 0.0699 - accuracy: 0.9753 - val_loss: 0.1094 - val_accuracy: 0.9640\n",
            "Epoch 4/5\n",
            "644/644 [==============================] - 739s 1s/step - loss: 0.0419 - accuracy: 0.9865 - val_loss: 0.0922 - val_accuracy: 0.9699\n",
            "Epoch 5/5\n",
            "644/644 [==============================] - 743s 1s/step - loss: 0.0298 - accuracy: 0.9899 - val_loss: 0.0847 - val_accuracy: 0.9730\n",
            "\n",
            "Final training loss \t 0.02983775921165943\n",
            "Final training accuracy  0.9898518919944763 \n",
            "\n",
            "430/430 [==============================] - 68s 158ms/step - loss: 0.0847 - accuracy: 0.9730\n",
            "\n",
            "Testing loss  \t 0.0847139060497284\n",
            "Testing accuracy  0.9729788899421692\n"
          ],
          "name": "stdout"
        },
        {
          "output_type": "display_data",
          "data": {
            "image/png": "[encoded data removed]",
            "text/plain": [
              "<Figure size 432x288 with 1 Axes>"
            ]
          },
          "metadata": {
            "tags": [],
            "needs_background": "light"
          }
        },
        {
          "output_type": "display_data",
          "data": {
            "image/png": "[encoded data removed]",
            "text/plain": [
              "<Figure size 432x288 with 1 Axes>"
            ]
          },
          "metadata": {
            "tags": [],
            "needs_background": "light"
          }
        },
        {
          "output_type": "stream",
          "text": [
            "              precision    recall  f1-score   support\n",
            "\n",
            "           0       0.98      0.98      0.98     11524\n",
            "           1       0.92      0.91      0.92      2206\n",
            "\n",
            "    accuracy                           0.97     13730\n",
            "   macro avg       0.95      0.95      0.95     13730\n",
            "weighted avg       0.97      0.97      0.97     13730\n",
            "\n"
          ],
          "name": "stdout"
        }
      ]
    },
    {
      "cell_type": "markdown",
      "metadata": {
        "id": "ozYzp_sgnl-l"
      },
      "source": [
        "Positive Tone"
      ]
    },
    {
      "cell_type": "code",
      "metadata": {
        "colab": {
          "base_uri": "https://localhost:8080/",
          "height": 1000
        },
        "id": "YiO0VVpCfQmk",
        "outputId": "7fbeb549-b2c4-44b3-91d7-bab950cc6965"
      },
      "source": [
        "history = model.fit(XTrain_seq, YTrain['positive_tone'], epochs=5, validation_data=(XTest_seq, YTest['positive_tone']))\n",
        "\n",
        "print('\\nFinal training loss \\t', history.history['loss'][-1])\n",
        "print('Final training accuracy ', history.history['accuracy'][-1], '\\n')\n",
        "\n",
        "testLoss, testAccuracy = model.evaluate(XTest_seq, YTest['positive_tone'])\n",
        "\n",
        "print('\\nTesting loss  \\t', testLoss)\n",
        "print('Testing accuracy ', testAccuracy)\n",
        "\n",
        "# plotting training and validation loss\n",
        "\n",
        "loss = history.history['loss']\n",
        "val_loss = history.history['val_loss']\n",
        "epochs = range(1, len(loss) + 1)\n",
        "mplot.plot(epochs, loss, color='red', label='Training loss')\n",
        "mplot.plot(epochs, val_loss, color='green', label='Validation loss')\n",
        "mplot.title('Training and Validation loss')\n",
        "mplot.xlabel('Epochs')\n",
        "mplot.ylabel('Loss')\n",
        "mplot.legend()\n",
        "mplot.show()\n",
        "\n",
        "# plotting training and validation accuracy\n",
        "\n",
        "acc = history.history['accuracy']\n",
        "val_acc = history.history['val_accuracy']\n",
        "mplot.plot(epochs, acc, color='red', label='Training accuracy')\n",
        "mplot.plot(epochs, val_acc, color='green', label='Validation accuracy')\n",
        "mplot.title('Training and Validation accuracy')\n",
        "mplot.xlabel('Epochs')\n",
        "mplot.ylabel('Accuracy')\n",
        "mplot.legend()\n",
        "mplot.legend()\n",
        "mplot.show()\n",
        "\n",
        "YPred = model.predict(XTest_seq)\n",
        "for i in range(len(YPred)):\n",
        "  if(YPred[i] > 0.5):\n",
        "    YPred[i] = 1\n",
        "  else:\n",
        "    YPred[i] = 0\n",
        "\n",
        "print(classification_report(YTest['positive_tone'], YPred))"
      ],
      "execution_count": null,
      "outputs": [
        {
          "output_type": "stream",
          "text": [
            "Epoch 1/5\n",
            "644/644 [==============================] - 802s 1s/step - loss: 0.3326 - accuracy: 0.8806 - val_loss: 0.1755 - val_accuracy: 0.9344\n",
            "Epoch 2/5\n",
            "644/644 [==============================] - 782s 1s/step - loss: 0.1017 - accuracy: 0.9630 - val_loss: 0.1118 - val_accuracy: 0.9614\n",
            "Epoch 3/5\n",
            "644/644 [==============================] - 784s 1s/step - loss: 0.0479 - accuracy: 0.9846 - val_loss: 0.1016 - val_accuracy: 0.9681\n",
            "Epoch 4/5\n",
            "644/644 [==============================] - 787s 1s/step - loss: 0.0278 - accuracy: 0.9896 - val_loss: 0.0825 - val_accuracy: 0.9741\n",
            "Epoch 5/5\n",
            "644/644 [==============================] - 787s 1s/step - loss: 0.0205 - accuracy: 0.9927 - val_loss: 0.0817 - val_accuracy: 0.9750\n",
            "\n",
            "Final training loss \t 0.022500569000840187\n",
            "Final training accuracy  0.9921340346336365 \n",
            "\n",
            "430/430 [==============================] - 68s 158ms/step - loss: 0.0817 - accuracy: 0.9750\n",
            "\n",
            "Testing loss  \t 0.08173666894435883\n",
            "Testing accuracy  0.9750182032585144\n"
          ],
          "name": "stdout"
        },
        {
          "output_type": "display_data",
          "data": {
            "image/png": "[encoded data removed]",
            "text/plain": [
              "<Figure size 432x288 with 1 Axes>"
            ]
          },
          "metadata": {
            "tags": [],
            "needs_background": "light"
          }
        },
        {
          "output_type": "display_data",
          "data": {
            "image/png": "[encoded data removed]",
            "text/plain": [
              "<Figure size 432x288 with 1 Axes>"
            ]
          },
          "metadata": {
            "tags": [],
            "needs_background": "light"
          }
        },
        {
          "output_type": "stream",
          "text": [
            "              precision    recall  f1-score   support\n",
            "\n",
            "           0       0.99      0.99      0.99     11993\n",
            "           1       0.90      0.90      0.90      1737\n",
            "\n",
            "    accuracy                           0.98     13730\n",
            "   macro avg       0.94      0.94      0.94     13730\n",
            "weighted avg       0.98      0.98      0.98     13730\n",
            "\n"
          ],
          "name": "stdout"
        }
      ]
    },
    {
      "cell_type": "markdown",
      "metadata": {
        "id": "xhb3-M2Cns01"
      },
      "source": [
        "Hostile Language"
      ]
    },
    {
      "cell_type": "code",
      "metadata": {
        "id": "f6_uKMS0nv_b",
        "colab": {
          "base_uri": "https://localhost:8080/",
          "height": 1000
        },
        "outputId": "23fa782f-5d3d-45e3-a8cf-e8f1d2dd429b"
      },
      "source": [
        "history = model.fit(XTrain_seq, YTrain['hostile_language'], epochs=5, validation_data=(XTest_seq, YTest['hostile_language']))\n",
        "\n",
        "print('\\nFinal training loss \\t', history.history['loss'][-1])\n",
        "print('Final training accuracy ', history.history['accuracy'][-1], '\\n')\n",
        "\n",
        "testLoss, testAccuracy = model.evaluate(XTest_seq, YTest['hostile_language'])\n",
        "\n",
        "print('\\nTesting loss  \\t', testLoss)\n",
        "print('Testing accuracy ', testAccuracy)\n",
        "\n",
        "# plotting training and validation loss\n",
        "\n",
        "loss = history.history['loss']\n",
        "val_loss = history.history['val_loss']\n",
        "epochs = range(1, len(loss) + 1)\n",
        "mplot.plot(epochs, loss, color='red', label='Training loss')\n",
        "mplot.plot(epochs, val_loss, color='green', label='Validation loss')\n",
        "mplot.title('Training and Validation loss')\n",
        "mplot.xlabel('Epochs')\n",
        "mplot.ylabel('Loss')\n",
        "mplot.legend()\n",
        "mplot.show()\n",
        "\n",
        "# plotting training and validation accuracy\n",
        "\n",
        "acc = history.history['accuracy']\n",
        "val_acc = history.history['val_accuracy']\n",
        "mplot.plot(epochs, acc, color='red', label='Training accuracy')\n",
        "mplot.plot(epochs, val_acc, color='green', label='Validation accuracy')\n",
        "mplot.title('Training and Validation accuracy')\n",
        "mplot.xlabel('Epochs')\n",
        "mplot.ylabel('Accuracy')\n",
        "mplot.legend()\n",
        "mplot.legend()\n",
        "mplot.show()\n",
        "\n",
        "YPred = model.predict(XTest_seq)\n",
        "for i in range(len(YPred)):\n",
        "  if(YPred[i] > 0.5):\n",
        "    YPred[i] = 1\n",
        "  else:\n",
        "    YPred[i] = 0\n",
        "\n",
        "print(classification_report(YTest['hostile_language'], YPred))"
      ],
      "execution_count": null,
      "outputs": [
        {
          "output_type": "stream",
          "text": [
            "Epoch 1/5\n",
            "644/644 [==============================] - 789s 1s/step - loss: 0.4789 - accuracy: 0.7866 - val_loss: 0.2804 - val_accuracy: 0.8873\n",
            "Epoch 2/5\n",
            "644/644 [==============================] - 785s 1s/step - loss: 0.1836 - accuracy: 0.9297 - val_loss: 0.2151 - val_accuracy: 0.9151\n",
            "Epoch 3/5\n",
            "644/644 [==============================] - 794s 1s/step - loss: 0.1111 - accuracy: 0.9548 - val_loss: 0.1730 - val_accuracy: 0.9344\n",
            "Epoch 4/5\n",
            "644/644 [==============================] - 796s 1s/step - loss: 0.0739 - accuracy: 0.9703 - val_loss: 0.1735 - val_accuracy: 0.9388\n",
            "Epoch 5/5\n",
            "644/644 [==============================] - 790s 1s/step - loss: 0.0543 - accuracy: 0.9780 - val_loss: 0.1665 - val_accuracy: 0.9417\n",
            "\n",
            "Final training loss \t 0.05426902323961258\n",
            "Final training accuracy  0.9780043959617615 \n",
            "\n",
            "430/430 [==============================] - 69s 160ms/step - loss: 0.1665 - accuracy: 0.9417\n",
            "\n",
            "Testing loss  \t 0.16647104918956757\n",
            "Testing accuracy  0.9417334198951721\n"
          ],
          "name": "stdout"
        },
        {
          "output_type": "display_data",
          "data": {
            "image/png": "[encoded data removed]",
            "text/plain": [
              "<Figure size 432x288 with 1 Axes>"
            ]
          },
          "metadata": {
            "tags": [],
            "needs_background": "light"
          }
        },
        {
          "output_type": "display_data",
          "data": {
            "image/png": "[encoded data removed]",
            "text/plain": [
              "<Figure size 432x288 with 1 Axes>"
            ]
          },
          "metadata": {
            "tags": [],
            "needs_background": "light"
          }
        },
        {
          "output_type": "stream",
          "text": [
            "              precision    recall  f1-score   support\n",
            "\n",
            "           0       0.96      0.94      0.95      8235\n",
            "           1       0.92      0.94      0.93      5495\n",
            "\n",
            "    accuracy                           0.94     13730\n",
            "   macro avg       0.94      0.94      0.94     13730\n",
            "weighted avg       0.94      0.94      0.94     13730\n",
            "\n"
          ],
          "name": "stdout"
        }
      ]
    }
  ]
}